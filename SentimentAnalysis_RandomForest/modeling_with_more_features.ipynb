{
 "cells": [
  {
   "cell_type": "code",
   "execution_count": 1,
   "id": "0d2d17a6-c975-42c0-b79b-a713ddf3fe94",
   "metadata": {},
   "outputs": [],
   "source": [
    "import pandas as pd\n",
    "import numpy as np"
   ]
  },
  {
   "cell_type": "markdown",
   "id": "a4dbeb58-dbbe-431f-adba-440f90a6a660",
   "metadata": {},
   "source": [
    "Loading the data, from here is needed the class vector"
   ]
  },
  {
   "cell_type": "code",
   "execution_count": 43,
   "id": "c5ffc172-2622-418b-8b60-8bc5eb9a93e4",
   "metadata": {},
   "outputs": [
    {
     "name": "stdout",
     "output_type": "stream",
     "text": [
      "Xb:(1440, 40), yb:(1440,)\n",
      "Xs:(1440, 12), ys:(1440,)\n",
      "Xb:(1440, 40), yb:(1440,)\n",
      "Xs:(1440, 12), ys:(1440,)\n"
     ]
    }
   ],
   "source": [
    "# open file in read mode and read data \n",
    "filename = '../processed_data/mfccs_big_and_small.npy'\n",
    "with open(filename, 'rb') as f:\n",
    "    Xb = np.load(f)\n",
    "    yb = np.load(f)\n",
    "    Xs = np.load(f)\n",
    "    ys = np.load(f)\n",
    "    Xbl = np.load(f)\n",
    "    ybl = np.load(f)\n",
    "    Xsl = np.load(f)\n",
    "    ysl = np.load(f)\n",
    "# Check that we've recovered the right data\n",
    "print(f'Xb:{Xb.shape}, yb:{yb.shape}')\n",
    "print(f'Xs:{Xs.shape}, ys:{ys.shape}')\n",
    "print(f'Xb:{Xbl.shape}, yb:{ybl.shape}')\n",
    "print(f'Xs:{Xsl.shape}, ys:{ysl.shape}')"
   ]
  },
  {
   "cell_type": "code",
   "execution_count": 44,
   "id": "d8155272-1033-4c40-9f7e-d6bd4a64e435",
   "metadata": {},
   "outputs": [
    {
     "name": "stdout",
     "output_type": "stream",
     "text": [
      "rms_energy:(1440, 1, 563)\n",
      "zero_cross:(1440, 1, 282)\n",
      "spectral_centroid:(1440, 282)\n"
     ]
    }
   ],
   "source": [
    "filename = '../processed_data/more_features.npy'\n",
    "# open file in write mode and write data\n",
    "with open('processed_data/more_features.npy'\n",
    "          , 'rb') as f:\n",
    "    rms_energy = np.load(f,allow_pickle=True)  # este error aparece como propio de OS\n",
    "    zero_cross = np.load(f,allow_pickle=True)\n",
    "    spectral_centroid = np.load(f,allow_pickle=True)\n",
    "print(f'rms_energy:{rms_energy.shape}')\n",
    "print(f'zero_cross:{zero_cross.shape}')\n",
    "print(f'spectral_centroid:{spectral_centroid.shape}')"
   ]
  },
  {
   "cell_type": "code",
   "execution_count": 45,
   "id": "7575cd70-638b-4081-847d-fa0b07dff403",
   "metadata": {},
   "outputs": [],
   "source": [
    "spectral_len = []\n",
    "for i in range(1440):\n",
    "    #print(spectral_centroid[i].shape)\n",
    "    spectral_len.append(spectral_centroid[i].shape[0])"
   ]
  },
  {
   "cell_type": "markdown",
   "id": "75e371d0-6176-417e-85d1-8ba6797ab4ba",
   "metadata": {},
   "source": [
    "The spectral centroids don't have the same lenght, the minimum length was established to truncate the bigger vectors. "
   ]
  },
  {
   "cell_type": "code",
   "execution_count": 48,
   "id": "2134bec0-2636-4c5f-9668-213c140a76ce",
   "metadata": {},
   "outputs": [],
   "source": [
    "X = np.zeros((1440,1127))\n",
    "for i in range(1440):\n",
    "    X[i,:] = np.hstack((rms_energy[i,:,:],zero_cross[i,:,:],np.reshape(spectral_centroid[i],(1,282))))"
   ]
  },
  {
   "cell_type": "code",
   "execution_count": 49,
   "id": "4626f58f-454d-4753-876e-1953d3f62c19",
   "metadata": {},
   "outputs": [
    {
     "data": {
      "text/plain": [
       "(1440, 1127)"
      ]
     },
     "execution_count": 49,
     "metadata": {},
     "output_type": "execute_result"
    }
   ],
   "source": [
    "X.shape"
   ]
  },
  {
   "cell_type": "markdown",
   "id": "044562fb-85bc-4781-9caf-572f2a420ae8",
   "metadata": {},
   "source": [
    "### Training the new models. "
   ]
  },
  {
   "cell_type": "markdown",
   "id": "dd1c33e7-f811-4e54-9296-8e391c3255b6",
   "metadata": {},
   "source": [
    "Now the ensemble methods are trained with the time and frequency features extracted. "
   ]
  },
  {
   "cell_type": "code",
   "execution_count": 50,
   "id": "ae26bca5-df96-42fd-8ecb-b727703b5723",
   "metadata": {},
   "outputs": [],
   "source": [
    "from eval_classifiers import EvalClassifiers\n",
    "from eval_classifiers import EvalBestModel"
   ]
  },
  {
   "cell_type": "code",
   "execution_count": 51,
   "id": "32605fd6-d3af-4da9-9d47-a66606ff953a",
   "metadata": {},
   "outputs": [],
   "source": [
    "time_freq_ensembles = EvalClassifiers(\"time_freq_ensembles\", X, ys, n_splits=10)"
   ]
  },
  {
   "cell_type": "code",
   "execution_count": 52,
   "id": "664e0f4d-7364-4b61-b5ff-3fede59fe3f5",
   "metadata": {},
   "outputs": [
    {
     "data": {
      "text/html": [
       "<div>\n",
       "<style scoped>\n",
       "    .dataframe tbody tr th:only-of-type {\n",
       "        vertical-align: middle;\n",
       "    }\n",
       "\n",
       "    .dataframe tbody tr th {\n",
       "        vertical-align: top;\n",
       "    }\n",
       "\n",
       "    .dataframe thead th {\n",
       "        text-align: right;\n",
       "    }\n",
       "</style>\n",
       "<table border=\"1\" class=\"dataframe\">\n",
       "  <thead>\n",
       "    <tr style=\"text-align: right;\">\n",
       "      <th></th>\n",
       "      <th>Random Forest</th>\n",
       "      <th>AdaBoost</th>\n",
       "      <th>DecisionTree</th>\n",
       "    </tr>\n",
       "  </thead>\n",
       "  <tbody>\n",
       "    <tr>\n",
       "      <th>0</th>\n",
       "      <td>0.455263</td>\n",
       "      <td>0.363816</td>\n",
       "      <td>0.242434</td>\n",
       "    </tr>\n",
       "    <tr>\n",
       "      <th>0</th>\n",
       "      <td>0.437829</td>\n",
       "      <td>0.352303</td>\n",
       "      <td>0.376645</td>\n",
       "    </tr>\n",
       "    <tr>\n",
       "      <th>0</th>\n",
       "      <td>0.427961</td>\n",
       "      <td>0.347697</td>\n",
       "      <td>0.361842</td>\n",
       "    </tr>\n",
       "    <tr>\n",
       "      <th>0</th>\n",
       "      <td>0.461513</td>\n",
       "      <td>0.257566</td>\n",
       "      <td>0.233882</td>\n",
       "    </tr>\n",
       "    <tr>\n",
       "      <th>0</th>\n",
       "      <td>0.423026</td>\n",
       "      <td>0.242763</td>\n",
       "      <td>0.259539</td>\n",
       "    </tr>\n",
       "    <tr>\n",
       "      <th>0</th>\n",
       "      <td>0.514145</td>\n",
       "      <td>0.319737</td>\n",
       "      <td>0.318750</td>\n",
       "    </tr>\n",
       "    <tr>\n",
       "      <th>0</th>\n",
       "      <td>0.368494</td>\n",
       "      <td>0.279167</td>\n",
       "      <td>0.344152</td>\n",
       "    </tr>\n",
       "    <tr>\n",
       "      <th>0</th>\n",
       "      <td>0.469189</td>\n",
       "      <td>0.279751</td>\n",
       "      <td>0.317836</td>\n",
       "    </tr>\n",
       "    <tr>\n",
       "      <th>0</th>\n",
       "      <td>0.442836</td>\n",
       "      <td>0.335892</td>\n",
       "      <td>0.274817</td>\n",
       "    </tr>\n",
       "    <tr>\n",
       "      <th>0</th>\n",
       "      <td>0.471418</td>\n",
       "      <td>0.297661</td>\n",
       "      <td>0.320541</td>\n",
       "    </tr>\n",
       "  </tbody>\n",
       "</table>\n",
       "</div>"
      ],
      "text/plain": [
       "   Random Forest  AdaBoost  DecisionTree\n",
       "0       0.455263  0.363816      0.242434\n",
       "0       0.437829  0.352303      0.376645\n",
       "0       0.427961  0.347697      0.361842\n",
       "0       0.461513  0.257566      0.233882\n",
       "0       0.423026  0.242763      0.259539\n",
       "0       0.514145  0.319737      0.318750\n",
       "0       0.368494  0.279167      0.344152\n",
       "0       0.469189  0.279751      0.317836\n",
       "0       0.442836  0.335892      0.274817\n",
       "0       0.471418  0.297661      0.320541"
      ]
     },
     "execution_count": 52,
     "metadata": {},
     "output_type": "execute_result"
    }
   ],
   "source": [
    "time_freq_ensembles "
   ]
  },
  {
   "cell_type": "code",
   "execution_count": 53,
   "id": "436d6d04-d091-4bd1-9faf-f01a95f15247",
   "metadata": {},
   "outputs": [],
   "source": [
    "time_freq_ensembles.to_csv('results/time_freq_ensembles.csv',index=False)"
   ]
  },
  {
   "cell_type": "code",
   "execution_count": 54,
   "id": "3c33ca5c-fc96-46bb-a079-2e352244a698",
   "metadata": {},
   "outputs": [
    {
     "data": {
      "image/png": "[encoded data removed]",
      "text/plain": [
       "<Figure size 432x288 with 1 Axes>"
      ]
     },
     "metadata": {
      "needs_background": "light"
     },
     "output_type": "display_data"
    }
   ],
   "source": [
    "boxplot = time_freq_ensembles.boxplot(column=[\"Random Forest\", \"AdaBoost\", \"DecisionTree\"])"
   ]
  },
  {
   "cell_type": "markdown",
   "id": "685aa4f6-74ae-4c7d-be69-33e8d5dbac9e",
   "metadata": {},
   "source": [
    "### Intentando 90-10 "
   ]
  },
  {
   "cell_type": "code",
   "execution_count": 55,
   "id": "065ae3e7-1c5b-453b-b217-7432e0f41038",
   "metadata": {},
   "outputs": [],
   "source": [
    "from eval_classifiers import EvalClassifiers_9010"
   ]
  },
  {
   "cell_type": "code",
   "execution_count": 56,
   "id": "c677c9ea-640c-4867-9aa6-9216fc611856",
   "metadata": {},
   "outputs": [],
   "source": [
    "from sklearn.model_selection import train_test_split"
   ]
  },
  {
   "cell_type": "code",
   "execution_count": 57,
   "id": "6c85a8e2-42cf-4e79-b4b8-9105a96a0643",
   "metadata": {},
   "outputs": [],
   "source": [
    "X_train_b, X_test_b, y_train_b, y_test_b = train_test_split(X, ys, test_size=0.10, random_state=42)"
   ]
  },
  {
   "cell_type": "code",
   "execution_count": 58,
   "id": "ab0e1fb6-1944-4463-8895-c87d047c42f7",
   "metadata": {},
   "outputs": [
    {
     "name": "stdout",
     "output_type": "stream",
     "text": [
      "Random Forest\n",
      "              precision    recall  f1-score   support\n",
      "\n",
      "           1       0.36      0.44      0.40         9\n",
      "           2       0.69      0.80      0.74        25\n",
      "           3       0.38      0.26      0.31        19\n",
      "           4       0.11      0.08      0.10        12\n",
      "           5       0.52      0.67      0.59        18\n",
      "           6       0.42      0.28      0.33        18\n",
      "           7       0.65      0.72      0.68        18\n",
      "           8       0.56      0.60      0.58        25\n",
      "\n",
      "    accuracy                           0.52       144\n",
      "   macro avg       0.46      0.48      0.47       144\n",
      "weighted avg       0.50      0.52      0.50       144\n",
      "\n",
      " \n",
      "AdaBoost\n",
      "              precision    recall  f1-score   support\n",
      "\n",
      "           1       0.22      0.44      0.30         9\n",
      "           2       0.62      0.40      0.49        25\n",
      "           3       0.23      0.16      0.19        19\n",
      "           4       0.16      0.25      0.19        12\n",
      "           5       0.27      0.72      0.39        18\n",
      "           6       0.22      0.11      0.15        18\n",
      "           7       0.67      0.33      0.44        18\n",
      "           8       0.75      0.36      0.49        25\n",
      "\n",
      "    accuracy                           0.35       144\n",
      "   macro avg       0.39      0.35      0.33       144\n",
      "weighted avg       0.44      0.35      0.35       144\n",
      "\n",
      " \n",
      "DecisionTree\n",
      "              precision    recall  f1-score   support\n",
      "\n",
      "           1       0.00      0.00      0.00         9\n",
      "           2       0.53      0.64      0.58        25\n",
      "           3       0.30      0.32      0.31        19\n",
      "           4       0.33      0.50      0.40        12\n",
      "           5       0.32      0.50      0.39        18\n",
      "           6       0.20      0.17      0.18        18\n",
      "           7       0.20      0.17      0.18        18\n",
      "           8       0.25      0.12      0.16        25\n",
      "\n",
      "    accuracy                           0.32       144\n",
      "   macro avg       0.27      0.30      0.28       144\n",
      "weighted avg       0.29      0.32      0.30       144\n",
      "\n",
      " \n"
     ]
    }
   ],
   "source": [
    "b_9010 = EvalClassifiers_9010('big_9010', X_train_b, y_train_b, X_test_b, y_test_b)"
   ]
  },
  {
   "cell_type": "markdown",
   "id": "9842fb32-5108-4e84-a17d-51a496d56abc",
   "metadata": {},
   "source": [
    "**Conclusion**: The Random Forest model is the best choice in this kind of problem but until now the overall performance is low.\n",
    "Neutral and Fearful are the two classes with the lowest accuracy metrics for the random forest model. \n",
    "\n",
    "Changing sample rate from 22050 to 48000 changes the performance in the random forest model (but the improve is not significative). "
   ]
  },
  {
   "cell_type": "markdown",
   "id": "4e612edc-0f90-4304-852f-3e836cf323c9",
   "metadata": {},
   "source": [
    "### Using an expert set of parameters: a big random forest model."
   ]
  },
  {
   "cell_type": "code",
   "execution_count": 59,
   "id": "46ee7542-4c45-4208-9f63-804e0fd8b5f9",
   "metadata": {},
   "outputs": [],
   "source": [
    "from sklearn.preprocessing import StandardScaler"
   ]
  },
  {
   "cell_type": "code",
   "execution_count": 60,
   "id": "d5b40070-c51d-4c1d-88a5-cad62e12518b",
   "metadata": {},
   "outputs": [],
   "source": [
    "from sklearn.ensemble import RandomForestClassifier"
   ]
  },
  {
   "cell_type": "code",
   "execution_count": 61,
   "id": "2a4801ab-58df-46b3-af6a-fdf9f30b075d",
   "metadata": {},
   "outputs": [],
   "source": [
    "final_model = RandomForestClassifier(criterion=\"gini\", max_depth=10, max_features=\"log2\", \n",
    "                                 max_leaf_nodes = 100, min_samples_leaf = 3, min_samples_split = 20, \n",
    "                                 n_estimators= 22000, random_state= 5)"
   ]
  },
  {
   "cell_type": "code",
   "execution_count": 62,
   "id": "aca548fc-39e7-4085-8dd0-6cc63acadcc2",
   "metadata": {},
   "outputs": [],
   "source": [
    "# Process the data\n",
    "scaler = StandardScaler()\n",
    "X_scale = scaler.fit_transform(X)"
   ]
  },
  {
   "cell_type": "code",
   "execution_count": 63,
   "id": "430823b9-fcf4-41f9-ba16-51ca20da047b",
   "metadata": {},
   "outputs": [],
   "source": [
    "final_model_results = EvalBestModel(final_model ,X_scale,ys)"
   ]
  },
  {
   "cell_type": "code",
   "execution_count": 64,
   "id": "20cef1ba-044b-4fbd-b9f9-9c5866f10f83",
   "metadata": {},
   "outputs": [
    {
     "data": {
      "text/html": [
       "<div>\n",
       "<style scoped>\n",
       "    .dataframe tbody tr th:only-of-type {\n",
       "        vertical-align: middle;\n",
       "    }\n",
       "\n",
       "    .dataframe tbody tr th {\n",
       "        vertical-align: top;\n",
       "    }\n",
       "\n",
       "    .dataframe thead th {\n",
       "        text-align: right;\n",
       "    }\n",
       "</style>\n",
       "<table border=\"1\" class=\"dataframe\">\n",
       "  <thead>\n",
       "    <tr style=\"text-align: right;\">\n",
       "      <th></th>\n",
       "      <th>Best Model</th>\n",
       "    </tr>\n",
       "  </thead>\n",
       "  <tbody>\n",
       "    <tr>\n",
       "      <th>0</th>\n",
       "      <td>0.438158</td>\n",
       "    </tr>\n",
       "    <tr>\n",
       "      <th>0</th>\n",
       "      <td>0.456579</td>\n",
       "    </tr>\n",
       "    <tr>\n",
       "      <th>0</th>\n",
       "      <td>0.416447</td>\n",
       "    </tr>\n",
       "    <tr>\n",
       "      <th>0</th>\n",
       "      <td>0.468750</td>\n",
       "    </tr>\n",
       "    <tr>\n",
       "      <th>0</th>\n",
       "      <td>0.488487</td>\n",
       "    </tr>\n",
       "    <tr>\n",
       "      <th>0</th>\n",
       "      <td>0.502632</td>\n",
       "    </tr>\n",
       "    <tr>\n",
       "      <th>0</th>\n",
       "      <td>0.432310</td>\n",
       "    </tr>\n",
       "    <tr>\n",
       "      <th>0</th>\n",
       "      <td>0.445870</td>\n",
       "    </tr>\n",
       "    <tr>\n",
       "      <th>0</th>\n",
       "      <td>0.429349</td>\n",
       "    </tr>\n",
       "    <tr>\n",
       "      <th>0</th>\n",
       "      <td>0.430154</td>\n",
       "    </tr>\n",
       "  </tbody>\n",
       "</table>\n",
       "</div>"
      ],
      "text/plain": [
       "   Best Model\n",
       "0    0.438158\n",
       "0    0.456579\n",
       "0    0.416447\n",
       "0    0.468750\n",
       "0    0.488487\n",
       "0    0.502632\n",
       "0    0.432310\n",
       "0    0.445870\n",
       "0    0.429349\n",
       "0    0.430154"
      ]
     },
     "execution_count": 64,
     "metadata": {},
     "output_type": "execute_result"
    }
   ],
   "source": [
    "final_model_results"
   ]
  },
  {
   "cell_type": "markdown",
   "id": "ca88865f-f5ba-43b6-a6a9-2b31beff5863",
   "metadata": {},
   "source": [
    "### Merging: time-frequency and independent time or frequency features"
   ]
  },
  {
   "cell_type": "markdown",
   "id": "c0833bab-72c2-4dc2-9ce2-6ef8721377fb",
   "metadata": {},
   "source": [
    "Probably there exists no independence between this varaibles, but it was created som non linear relations between them (spectrum and spectral centroids for example) "
   ]
  },
  {
   "cell_type": "code",
   "execution_count": 66,
   "id": "b2e73e42-7d71-4444-884d-747b01c92a0a",
   "metadata": {},
   "outputs": [],
   "source": [
    "X_total = np.zeros((1440,1167))\n",
    "for i in range(1440):\n",
    "    X_total[i,:] = np.hstack((rms_energy[i,:,:],zero_cross[i,:,:],np.reshape(spectral_centroid[i],(1,282)), np.reshape(Xb[i,:],(1,40))))"
   ]
  },
  {
   "cell_type": "code",
   "execution_count": 67,
   "id": "ca24c404-88f9-41c3-b8f1-bafd24fa9ffc",
   "metadata": {},
   "outputs": [],
   "source": [
    "time_freq_ensembles_plus_spec = EvalClassifiers(\"time_freq_ensembles_plus_spec\", X_total, ys, n_splits=10)"
   ]
  },
  {
   "cell_type": "code",
   "execution_count": 68,
   "id": "167d8790-6897-422d-96f7-9bcb83d343be",
   "metadata": {},
   "outputs": [
    {
     "data": {
      "text/html": [
       "<div>\n",
       "<style scoped>\n",
       "    .dataframe tbody tr th:only-of-type {\n",
       "        vertical-align: middle;\n",
       "    }\n",
       "\n",
       "    .dataframe tbody tr th {\n",
       "        vertical-align: top;\n",
       "    }\n",
       "\n",
       "    .dataframe thead th {\n",
       "        text-align: right;\n",
       "    }\n",
       "</style>\n",
       "<table border=\"1\" class=\"dataframe\">\n",
       "  <thead>\n",
       "    <tr style=\"text-align: right;\">\n",
       "      <th></th>\n",
       "      <th>Random Forest</th>\n",
       "      <th>AdaBoost</th>\n",
       "      <th>DecisionTree</th>\n",
       "    </tr>\n",
       "  </thead>\n",
       "  <tbody>\n",
       "    <tr>\n",
       "      <th>0</th>\n",
       "      <td>0.444079</td>\n",
       "      <td>0.330263</td>\n",
       "      <td>0.415461</td>\n",
       "    </tr>\n",
       "    <tr>\n",
       "      <th>0</th>\n",
       "      <td>0.404934</td>\n",
       "      <td>0.248684</td>\n",
       "      <td>0.325987</td>\n",
       "    </tr>\n",
       "    <tr>\n",
       "      <th>0</th>\n",
       "      <td>0.460855</td>\n",
       "      <td>0.308224</td>\n",
       "      <td>0.267105</td>\n",
       "    </tr>\n",
       "    <tr>\n",
       "      <th>0</th>\n",
       "      <td>0.437171</td>\n",
       "      <td>0.257895</td>\n",
       "      <td>0.364474</td>\n",
       "    </tr>\n",
       "    <tr>\n",
       "      <th>0</th>\n",
       "      <td>0.455263</td>\n",
       "      <td>0.268092</td>\n",
       "      <td>0.313487</td>\n",
       "    </tr>\n",
       "    <tr>\n",
       "      <th>0</th>\n",
       "      <td>0.521382</td>\n",
       "      <td>0.338816</td>\n",
       "      <td>0.332237</td>\n",
       "    </tr>\n",
       "    <tr>\n",
       "      <th>0</th>\n",
       "      <td>0.484613</td>\n",
       "      <td>0.313121</td>\n",
       "      <td>0.325073</td>\n",
       "    </tr>\n",
       "    <tr>\n",
       "      <th>0</th>\n",
       "      <td>0.436550</td>\n",
       "      <td>0.279276</td>\n",
       "      <td>0.352851</td>\n",
       "    </tr>\n",
       "    <tr>\n",
       "      <th>0</th>\n",
       "      <td>0.425804</td>\n",
       "      <td>0.274817</td>\n",
       "      <td>0.319225</td>\n",
       "    </tr>\n",
       "    <tr>\n",
       "      <th>0</th>\n",
       "      <td>0.461988</td>\n",
       "      <td>0.199635</td>\n",
       "      <td>0.273428</td>\n",
       "    </tr>\n",
       "  </tbody>\n",
       "</table>\n",
       "</div>"
      ],
      "text/plain": [
       "   Random Forest  AdaBoost  DecisionTree\n",
       "0       0.444079  0.330263      0.415461\n",
       "0       0.404934  0.248684      0.325987\n",
       "0       0.460855  0.308224      0.267105\n",
       "0       0.437171  0.257895      0.364474\n",
       "0       0.455263  0.268092      0.313487\n",
       "0       0.521382  0.338816      0.332237\n",
       "0       0.484613  0.313121      0.325073\n",
       "0       0.436550  0.279276      0.352851\n",
       "0       0.425804  0.274817      0.319225\n",
       "0       0.461988  0.199635      0.273428"
      ]
     },
     "execution_count": 68,
     "metadata": {},
     "output_type": "execute_result"
    }
   ],
   "source": [
    "time_freq_ensembles_plus_spec "
   ]
  },
  {
   "cell_type": "code",
   "execution_count": 69,
   "id": "7f8a7c0c-726b-4dc6-9ad5-01f7f2f4bf35",
   "metadata": {},
   "outputs": [
    {
     "data": {
      "image/png": "[encoded data removed]",
      "text/plain": [
       "<Figure size 432x288 with 1 Axes>"
      ]
     },
     "metadata": {
      "needs_background": "light"
     },
     "output_type": "display_data"
    }
   ],
   "source": [
    "boxplot = time_freq_ensembles_plus_spec.boxplot(column=[\"Random Forest\", \"AdaBoost\", \"DecisionTree\"])"
   ]
  },
  {
   "cell_type": "markdown",
   "id": "98c1c1d1-91e2-4f95-8ccd-7bf35d61c726",
   "metadata": {},
   "source": [
    "Merging time frequency features with spectrum by using a bigger sample rate didn't improve the results!"
   ]
  },
  {
   "cell_type": "markdown",
   "id": "684bc3ab-4f35-47b1-9a03-1baf03fb4698",
   "metadata": {},
   "source": [
    "### Observing the variation due to ```StandardScaler```"
   ]
  },
  {
   "cell_type": "code",
   "execution_count": 70,
   "id": "15ca2223-5297-47de-bd46-ed1f18daaba3",
   "metadata": {},
   "outputs": [],
   "source": [
    "# Process the data\n",
    "scaler = StandardScaler()\n",
    "X_total_scale = scaler.fit_transform(X_total)"
   ]
  },
  {
   "cell_type": "code",
   "execution_count": 73,
   "id": "61847c06-3f6e-4cd3-a8e2-288f9bca90bd",
   "metadata": {},
   "outputs": [],
   "source": [
    "time_freq_ensembles_plus_spec_stand = EvalClassifiers(\"time_freq_ensembles_plus_spec\", X_total_scale , ys, n_splits=10)"
   ]
  },
  {
   "cell_type": "code",
   "execution_count": 74,
   "id": "1fb0a38c-e16c-4f9b-ac6b-e94da8ae1616",
   "metadata": {},
   "outputs": [
    {
     "data": {
      "text/html": [
       "<div>\n",
       "<style scoped>\n",
       "    .dataframe tbody tr th:only-of-type {\n",
       "        vertical-align: middle;\n",
       "    }\n",
       "\n",
       "    .dataframe tbody tr th {\n",
       "        vertical-align: top;\n",
       "    }\n",
       "\n",
       "    .dataframe thead th {\n",
       "        text-align: right;\n",
       "    }\n",
       "</style>\n",
       "<table border=\"1\" class=\"dataframe\">\n",
       "  <thead>\n",
       "    <tr style=\"text-align: right;\">\n",
       "      <th></th>\n",
       "      <th>Random Forest</th>\n",
       "      <th>AdaBoost</th>\n",
       "      <th>DecisionTree</th>\n",
       "    </tr>\n",
       "  </thead>\n",
       "  <tbody>\n",
       "    <tr>\n",
       "      <th>0</th>\n",
       "      <td>0.463816</td>\n",
       "      <td>0.330263</td>\n",
       "      <td>0.364145</td>\n",
       "    </tr>\n",
       "    <tr>\n",
       "      <th>0</th>\n",
       "      <td>0.520395</td>\n",
       "      <td>0.248684</td>\n",
       "      <td>0.313487</td>\n",
       "    </tr>\n",
       "    <tr>\n",
       "      <th>0</th>\n",
       "      <td>0.357237</td>\n",
       "      <td>0.308224</td>\n",
       "      <td>0.292105</td>\n",
       "    </tr>\n",
       "    <tr>\n",
       "      <th>0</th>\n",
       "      <td>0.423355</td>\n",
       "      <td>0.257895</td>\n",
       "      <td>0.352303</td>\n",
       "    </tr>\n",
       "    <tr>\n",
       "      <th>0</th>\n",
       "      <td>0.506579</td>\n",
       "      <td>0.268092</td>\n",
       "      <td>0.377303</td>\n",
       "    </tr>\n",
       "    <tr>\n",
       "      <th>0</th>\n",
       "      <td>0.494408</td>\n",
       "      <td>0.338816</td>\n",
       "      <td>0.344737</td>\n",
       "    </tr>\n",
       "    <tr>\n",
       "      <th>0</th>\n",
       "      <td>0.432639</td>\n",
       "      <td>0.313121</td>\n",
       "      <td>0.350731</td>\n",
       "    </tr>\n",
       "    <tr>\n",
       "      <th>0</th>\n",
       "      <td>0.437865</td>\n",
       "      <td>0.279276</td>\n",
       "      <td>0.327668</td>\n",
       "    </tr>\n",
       "    <tr>\n",
       "      <th>0</th>\n",
       "      <td>0.411404</td>\n",
       "      <td>0.274817</td>\n",
       "      <td>0.308114</td>\n",
       "    </tr>\n",
       "    <tr>\n",
       "      <th>0</th>\n",
       "      <td>0.469956</td>\n",
       "      <td>0.199635</td>\n",
       "      <td>0.267251</td>\n",
       "    </tr>\n",
       "  </tbody>\n",
       "</table>\n",
       "</div>"
      ],
      "text/plain": [
       "   Random Forest  AdaBoost  DecisionTree\n",
       "0       0.463816  0.330263      0.364145\n",
       "0       0.520395  0.248684      0.313487\n",
       "0       0.357237  0.308224      0.292105\n",
       "0       0.423355  0.257895      0.352303\n",
       "0       0.506579  0.268092      0.377303\n",
       "0       0.494408  0.338816      0.344737\n",
       "0       0.432639  0.313121      0.350731\n",
       "0       0.437865  0.279276      0.327668\n",
       "0       0.411404  0.274817      0.308114\n",
       "0       0.469956  0.199635      0.267251"
      ]
     },
     "execution_count": 74,
     "metadata": {},
     "output_type": "execute_result"
    }
   ],
   "source": [
    "time_freq_ensembles_plus_spec_stand "
   ]
  },
  {
   "cell_type": "code",
   "execution_count": 75,
   "id": "ccc832ce-74c6-4c74-b339-3d1d9e3f3da9",
   "metadata": {},
   "outputs": [
    {
     "data": {
      "image/png": "[encoded data removed]",
      "text/plain": [
       "<Figure size 432x288 with 1 Axes>"
      ]
     },
     "metadata": {
      "needs_background": "light"
     },
     "output_type": "display_data"
    }
   ],
   "source": [
    "boxplot = time_freq_ensembles_plus_spec_stand .boxplot(column=[\"Random Forest\", \"AdaBoost\", \"DecisionTree\"])"
   ]
  },
  {
   "cell_type": "markdown",
   "id": "23aec69f-2a1b-40bf-8deb-efefc08720e5",
   "metadata": {},
   "source": [
    "### Testing the Random Forest with ```n_estimators``` with a large value. "
   ]
  },
  {
   "cell_type": "code",
   "execution_count": 45,
   "id": "fdcdad79-02ec-4982-9af4-a7644037b55f",
   "metadata": {},
   "outputs": [],
   "source": [
    "final_model_X_new = RandomForestClassifier(criterion=\"gini\", max_depth=10, max_features=\"log2\", \n",
    "                                 max_leaf_nodes = 100, min_samples_leaf = 3, min_samples_split = 20, \n",
    "                                 n_estimators= 22000, random_state= 5)"
   ]
  },
  {
   "cell_type": "code",
   "execution_count": 46,
   "id": "584e75a9-051d-45e6-92b7-8611540cb312",
   "metadata": {},
   "outputs": [],
   "source": [
    "merged_model = EvalBestModel(final_model_X_new ,X_total_scale ,ys)"
   ]
  },
  {
   "cell_type": "code",
   "execution_count": 47,
   "id": "7d650394-3bd0-4ec4-9e6a-17364ba8492f",
   "metadata": {},
   "outputs": [
    {
     "data": {
      "text/html": [
       "<div>\n",
       "<style scoped>\n",
       "    .dataframe tbody tr th:only-of-type {\n",
       "        vertical-align: middle;\n",
       "    }\n",
       "\n",
       "    .dataframe tbody tr th {\n",
       "        vertical-align: top;\n",
       "    }\n",
       "\n",
       "    .dataframe thead th {\n",
       "        text-align: right;\n",
       "    }\n",
       "</style>\n",
       "<table border=\"1\" class=\"dataframe\">\n",
       "  <thead>\n",
       "    <tr style=\"text-align: right;\">\n",
       "      <th></th>\n",
       "      <th>Best Model</th>\n",
       "    </tr>\n",
       "  </thead>\n",
       "  <tbody>\n",
       "    <tr>\n",
       "      <th>0</th>\n",
       "      <td>0.431579</td>\n",
       "    </tr>\n",
       "    <tr>\n",
       "      <th>0</th>\n",
       "      <td>0.501974</td>\n",
       "    </tr>\n",
       "    <tr>\n",
       "      <th>0</th>\n",
       "      <td>0.448684</td>\n",
       "    </tr>\n",
       "    <tr>\n",
       "      <th>0</th>\n",
       "      <td>0.481908</td>\n",
       "    </tr>\n",
       "    <tr>\n",
       "      <th>0</th>\n",
       "      <td>0.494737</td>\n",
       "    </tr>\n",
       "    <tr>\n",
       "      <th>0</th>\n",
       "      <td>0.508882</td>\n",
       "    </tr>\n",
       "    <tr>\n",
       "      <th>0</th>\n",
       "      <td>0.445468</td>\n",
       "    </tr>\n",
       "    <tr>\n",
       "      <th>0</th>\n",
       "      <td>0.433370</td>\n",
       "    </tr>\n",
       "    <tr>\n",
       "      <th>0</th>\n",
       "      <td>0.456725</td>\n",
       "    </tr>\n",
       "    <tr>\n",
       "      <th>0</th>\n",
       "      <td>0.463450</td>\n",
       "    </tr>\n",
       "  </tbody>\n",
       "</table>\n",
       "</div>"
      ],
      "text/plain": [
       "   Best Model\n",
       "0    0.431579\n",
       "0    0.501974\n",
       "0    0.448684\n",
       "0    0.481908\n",
       "0    0.494737\n",
       "0    0.508882\n",
       "0    0.445468\n",
       "0    0.433370\n",
       "0    0.456725\n",
       "0    0.463450"
      ]
     },
     "execution_count": 47,
     "metadata": {},
     "output_type": "execute_result"
    }
   ],
   "source": [
    "merged_model"
   ]
  },
  {
   "cell_type": "markdown",
   "id": "0d076a3a-f07f-485b-bce0-b60a39dd90a9",
   "metadata": {},
   "source": [
    "### Final Plot"
   ]
  },
  {
   "cell_type": "code",
   "execution_count": 52,
   "id": "ceb9abf6-4306-4925-992c-0dc313dfd6b5",
   "metadata": {},
   "outputs": [],
   "source": [
    "merging_features_non_spectral = final_model_results[\"Best Model\"]\n",
    "merging_features_non_spectral_and_spectrum  = merged_model[\"Best Model\"]\n",
    "time_freq_ensembles_plus_spec_stand_1 = time_freq_ensembles_plus_spec_stand[\"Random Forest\"]\n",
    "model1 = np.reshape(np.asarray(merging_features_non_spectral),(10,1))\n",
    "model2 = np.reshape(np.asarray(merging_features_non_spectral_and_spectrum ),(10,1))\n",
    "model3 = np.reshape(np.asarray(time_freq_ensembles_plus_spec_stand_1 ),(10,1))\n",
    "B = np.hstack((model1 ,model2,model3))"
   ]
  },
  {
   "cell_type": "code",
   "execution_count": 53,
   "id": "8c6009d1-ca49-4fd0-955c-c044adcd79cd",
   "metadata": {},
   "outputs": [],
   "source": [
    "import matplotlib.pyplot as plt"
   ]
  },
  {
   "cell_type": "code",
   "execution_count": 57,
   "id": "e2bfc227-7988-466e-adaa-7928099d87cc",
   "metadata": {},
   "outputs": [
    {
     "data": {
      "image/png": "[encoded data removed]",
      "text/plain": [
       "<Figure size 432x288 with 1 Axes>"
      ]
     },
     "metadata": {
      "needs_background": "light"
     },
     "output_type": "display_data"
    }
   ],
   "source": [
    "fig7, ax7 = plt.subplots()\n",
    "ax7.set_title('Best Results: Random Forest')\n",
    "ax7.boxplot(B)\n",
    "plt.xticks([1,2,3], ['non spectral','all  big','all small'])\n",
    "plt.show()"
   ]
  },
  {
   "cell_type": "markdown",
   "id": "39ee4e70-b02b-41ac-8179-e013c1844610",
   "metadata": {},
   "source": [
    "# Using data augmentation and all features!"
   ]
  },
  {
   "cell_type": "code",
   "execution_count": 2,
   "id": "62e2bfdd-3a2d-4b79-a935-4ad178b9fe5a",
   "metadata": {},
   "outputs": [],
   "source": [
    "filename = '../processed_data/ALL40_48.npy'\n",
    "with open(filename, 'rb') as f:\n",
    "    ALL40_48 = np.load(f)"
   ]
  },
  {
   "cell_type": "code",
   "execution_count": 3,
   "id": "508df286-331e-4add-b5f0-516b6b954931",
   "metadata": {},
   "outputs": [],
   "source": [
    "features= ALL40_48"
   ]
  },
  {
   "cell_type": "code",
   "execution_count": 4,
   "id": "7e4ae215-324a-4381-9ec9-1d5e3a974e80",
   "metadata": {},
   "outputs": [],
   "source": [
    "filename = '../processed_data/ZE_48.npy'\n",
    "# open file in write mode and write data\n",
    "with open(filename, 'rb') as f:\n",
    "    Z = np.load(f)\n",
    "    E = np.load(f)\n",
    "    Y = np.load(f)"
   ]
  },
  {
   "cell_type": "code",
   "execution_count": 6,
   "id": "a067ac16-0b07-4c31-b9a6-e6057575b461",
   "metadata": {},
   "outputs": [],
   "source": [
    "from sklearn.model_selection import train_test_split"
   ]
  },
  {
   "cell_type": "code",
   "execution_count": 9,
   "id": "78805f6d-7049-4c7b-8f1a-8190307db2bb",
   "metadata": {},
   "outputs": [],
   "source": [
    "from eval_classifiers import EvalClassifiers\n",
    "from eval_classifiers import EvalBestModel"
   ]
  },
  {
   "cell_type": "code",
   "execution_count": 7,
   "id": "4fddc2e4-ebbe-4a16-81f7-206386a604d7",
   "metadata": {},
   "outputs": [],
   "source": [
    "X_train_b, X_test_b, y_train_b, y_test_b = train_test_split(features, Y, test_size=0.10, random_state=42)"
   ]
  },
  {
   "cell_type": "code",
   "execution_count": 10,
   "id": "d68f9e9c-fe8c-476b-bc95-8e593ee58480",
   "metadata": {},
   "outputs": [],
   "source": [
    "all_features_augmented = EvalClassifiers(\"all_features_aug_40_48\",X_train_b , y_train_b, n_splits=10)"
   ]
  },
  {
   "cell_type": "code",
   "execution_count": 11,
   "id": "6f2a9804-e948-4ae9-9ed8-af0090d8568d",
   "metadata": {},
   "outputs": [
    {
     "data": {
      "text/html": [
       "<div>\n",
       "<style scoped>\n",
       "    .dataframe tbody tr th:only-of-type {\n",
       "        vertical-align: middle;\n",
       "    }\n",
       "\n",
       "    .dataframe tbody tr th {\n",
       "        vertical-align: top;\n",
       "    }\n",
       "\n",
       "    .dataframe thead th {\n",
       "        text-align: right;\n",
       "    }\n",
       "</style>\n",
       "<table border=\"1\" class=\"dataframe\">\n",
       "  <thead>\n",
       "    <tr style=\"text-align: right;\">\n",
       "      <th></th>\n",
       "      <th>Random Forest</th>\n",
       "      <th>AdaBoost</th>\n",
       "      <th>DecisionTree</th>\n",
       "    </tr>\n",
       "  </thead>\n",
       "  <tbody>\n",
       "    <tr>\n",
       "      <th>0</th>\n",
       "      <td>0.978351</td>\n",
       "      <td>0.361735</td>\n",
       "      <td>0.812741</td>\n",
       "    </tr>\n",
       "    <tr>\n",
       "      <th>0</th>\n",
       "      <td>0.976565</td>\n",
       "      <td>0.329646</td>\n",
       "      <td>0.798398</td>\n",
       "    </tr>\n",
       "    <tr>\n",
       "      <th>0</th>\n",
       "      <td>0.970928</td>\n",
       "      <td>0.354766</td>\n",
       "      <td>0.774250</td>\n",
       "    </tr>\n",
       "    <tr>\n",
       "      <th>0</th>\n",
       "      <td>0.982103</td>\n",
       "      <td>0.368133</td>\n",
       "      <td>0.791237</td>\n",
       "    </tr>\n",
       "    <tr>\n",
       "      <th>0</th>\n",
       "      <td>0.971336</td>\n",
       "      <td>0.338475</td>\n",
       "      <td>0.801776</td>\n",
       "    </tr>\n",
       "    <tr>\n",
       "      <th>0</th>\n",
       "      <td>0.977882</td>\n",
       "      <td>0.366614</td>\n",
       "      <td>0.801814</td>\n",
       "    </tr>\n",
       "    <tr>\n",
       "      <th>0</th>\n",
       "      <td>0.983479</td>\n",
       "      <td>0.329645</td>\n",
       "      <td>0.793335</td>\n",
       "    </tr>\n",
       "    <tr>\n",
       "      <th>0</th>\n",
       "      <td>0.985505</td>\n",
       "      <td>0.386202</td>\n",
       "      <td>0.823527</td>\n",
       "    </tr>\n",
       "    <tr>\n",
       "      <th>0</th>\n",
       "      <td>0.985425</td>\n",
       "      <td>0.360587</td>\n",
       "      <td>0.803326</td>\n",
       "    </tr>\n",
       "    <tr>\n",
       "      <th>0</th>\n",
       "      <td>0.985371</td>\n",
       "      <td>0.328522</td>\n",
       "      <td>0.816038</td>\n",
       "    </tr>\n",
       "  </tbody>\n",
       "</table>\n",
       "</div>"
      ],
      "text/plain": [
       "   Random Forest  AdaBoost  DecisionTree\n",
       "0       0.978351  0.361735      0.812741\n",
       "0       0.976565  0.329646      0.798398\n",
       "0       0.970928  0.354766      0.774250\n",
       "0       0.982103  0.368133      0.791237\n",
       "0       0.971336  0.338475      0.801776\n",
       "0       0.977882  0.366614      0.801814\n",
       "0       0.983479  0.329645      0.793335\n",
       "0       0.985505  0.386202      0.823527\n",
       "0       0.985425  0.360587      0.803326\n",
       "0       0.985371  0.328522      0.816038"
      ]
     },
     "execution_count": 11,
     "metadata": {},
     "output_type": "execute_result"
    }
   ],
   "source": [
    "all_features_augmented"
   ]
  },
  {
   "cell_type": "code",
   "execution_count": 12,
   "id": "95190c9f-d90e-4b40-9cb8-a8025e50ae84",
   "metadata": {},
   "outputs": [
    {
     "data": {
      "text/html": [
       "<div>\n",
       "<style scoped>\n",
       "    .dataframe tbody tr th:only-of-type {\n",
       "        vertical-align: middle;\n",
       "    }\n",
       "\n",
       "    .dataframe tbody tr th {\n",
       "        vertical-align: top;\n",
       "    }\n",
       "\n",
       "    .dataframe thead th {\n",
       "        text-align: right;\n",
       "    }\n",
       "</style>\n",
       "<table border=\"1\" class=\"dataframe\">\n",
       "  <thead>\n",
       "    <tr style=\"text-align: right;\">\n",
       "      <th></th>\n",
       "      <th>Random Forest</th>\n",
       "      <th>AdaBoost</th>\n",
       "      <th>DecisionTree</th>\n",
       "    </tr>\n",
       "  </thead>\n",
       "  <tbody>\n",
       "    <tr>\n",
       "      <th>count</th>\n",
       "      <td>10.000000</td>\n",
       "      <td>10.000000</td>\n",
       "      <td>10.000000</td>\n",
       "    </tr>\n",
       "    <tr>\n",
       "      <th>mean</th>\n",
       "      <td>0.979694</td>\n",
       "      <td>0.352432</td>\n",
       "      <td>0.801644</td>\n",
       "    </tr>\n",
       "    <tr>\n",
       "      <th>std</th>\n",
       "      <td>0.005583</td>\n",
       "      <td>0.019865</td>\n",
       "      <td>0.013946</td>\n",
       "    </tr>\n",
       "    <tr>\n",
       "      <th>min</th>\n",
       "      <td>0.970928</td>\n",
       "      <td>0.328522</td>\n",
       "      <td>0.774250</td>\n",
       "    </tr>\n",
       "    <tr>\n",
       "      <th>25%</th>\n",
       "      <td>0.976894</td>\n",
       "      <td>0.331853</td>\n",
       "      <td>0.794600</td>\n",
       "    </tr>\n",
       "    <tr>\n",
       "      <th>50%</th>\n",
       "      <td>0.980227</td>\n",
       "      <td>0.357676</td>\n",
       "      <td>0.801795</td>\n",
       "    </tr>\n",
       "    <tr>\n",
       "      <th>75%</th>\n",
       "      <td>0.984898</td>\n",
       "      <td>0.365394</td>\n",
       "      <td>0.810387</td>\n",
       "    </tr>\n",
       "    <tr>\n",
       "      <th>max</th>\n",
       "      <td>0.985505</td>\n",
       "      <td>0.386202</td>\n",
       "      <td>0.823527</td>\n",
       "    </tr>\n",
       "  </tbody>\n",
       "</table>\n",
       "</div>"
      ],
      "text/plain": [
       "       Random Forest   AdaBoost  DecisionTree\n",
       "count      10.000000  10.000000     10.000000\n",
       "mean        0.979694   0.352432      0.801644\n",
       "std         0.005583   0.019865      0.013946\n",
       "min         0.970928   0.328522      0.774250\n",
       "25%         0.976894   0.331853      0.794600\n",
       "50%         0.980227   0.357676      0.801795\n",
       "75%         0.984898   0.365394      0.810387\n",
       "max         0.985505   0.386202      0.823527"
      ]
     },
     "execution_count": 12,
     "metadata": {},
     "output_type": "execute_result"
    }
   ],
   "source": [
    "all_features_augmented.describe()"
   ]
  },
  {
   "cell_type": "code",
   "execution_count": 13,
   "id": "262e41d9-bfee-49f9-9516-3f0681ab3b6e",
   "metadata": {},
   "outputs": [
    {
     "data": {
      "image/png": "[encoded data removed]",
      "text/plain": [
       "<Figure size 432x288 with 1 Axes>"
      ]
     },
     "metadata": {
      "needs_background": "light"
     },
     "output_type": "display_data"
    }
   ],
   "source": [
    "boxplot = all_features_augmented.boxplot(column=[\"Random Forest\", \"AdaBoost\", \"DecisionTree\"])"
   ]
  },
  {
   "cell_type": "code",
   "execution_count": 14,
   "id": "4a04642b-2533-4918-b653-2ba4b598e0f4",
   "metadata": {},
   "outputs": [],
   "source": [
    "filename = '../processed_data/ALL40_22.npy'\n",
    "with open(filename, 'rb') as f:\n",
    "    ALL40_22 = np.load(f)"
   ]
  },
  {
   "cell_type": "code",
   "execution_count": 15,
   "id": "4f1c7edd-764b-45ea-a2eb-1341adb76ac3",
   "metadata": {},
   "outputs": [],
   "source": [
    "X_train_b, X_test_b, y_train_b, y_test_b = train_test_split(ALL40_22, Y, test_size=0.10, random_state=42)"
   ]
  },
  {
   "cell_type": "code",
   "execution_count": 16,
   "id": "d2590d2a-bb55-4cc3-b490-ef4c8efea397",
   "metadata": {},
   "outputs": [],
   "source": [
    "all_features_augmented_22 = EvalClassifiers(\"all_features_aug_40_22\",X_train_b , y_train_b, n_splits=10)"
   ]
  },
  {
   "cell_type": "code",
   "execution_count": 17,
   "id": "20301d11-dd8e-4079-af00-5372a3f51c1e",
   "metadata": {},
   "outputs": [
    {
     "data": {
      "text/html": [
       "<div>\n",
       "<style scoped>\n",
       "    .dataframe tbody tr th:only-of-type {\n",
       "        vertical-align: middle;\n",
       "    }\n",
       "\n",
       "    .dataframe tbody tr th {\n",
       "        vertical-align: top;\n",
       "    }\n",
       "\n",
       "    .dataframe thead th {\n",
       "        text-align: right;\n",
       "    }\n",
       "</style>\n",
       "<table border=\"1\" class=\"dataframe\">\n",
       "  <thead>\n",
       "    <tr style=\"text-align: right;\">\n",
       "      <th></th>\n",
       "      <th>Random Forest</th>\n",
       "      <th>AdaBoost</th>\n",
       "      <th>DecisionTree</th>\n",
       "    </tr>\n",
       "  </thead>\n",
       "  <tbody>\n",
       "    <tr>\n",
       "      <th>0</th>\n",
       "      <td>0.837852</td>\n",
       "      <td>0.296773</td>\n",
       "      <td>0.723467</td>\n",
       "    </tr>\n",
       "    <tr>\n",
       "      <th>0</th>\n",
       "      <td>0.819143</td>\n",
       "      <td>0.329623</td>\n",
       "      <td>0.690680</td>\n",
       "    </tr>\n",
       "    <tr>\n",
       "      <th>0</th>\n",
       "      <td>0.830141</td>\n",
       "      <td>0.351188</td>\n",
       "      <td>0.725685</td>\n",
       "    </tr>\n",
       "    <tr>\n",
       "      <th>0</th>\n",
       "      <td>0.823637</td>\n",
       "      <td>0.324296</td>\n",
       "      <td>0.719363</td>\n",
       "    </tr>\n",
       "    <tr>\n",
       "      <th>0</th>\n",
       "      <td>0.843297</td>\n",
       "      <td>0.350698</td>\n",
       "      <td>0.742687</td>\n",
       "    </tr>\n",
       "    <tr>\n",
       "      <th>0</th>\n",
       "      <td>0.851096</td>\n",
       "      <td>0.340459</td>\n",
       "      <td>0.745769</td>\n",
       "    </tr>\n",
       "    <tr>\n",
       "      <th>0</th>\n",
       "      <td>0.838683</td>\n",
       "      <td>0.310499</td>\n",
       "      <td>0.764873</td>\n",
       "    </tr>\n",
       "    <tr>\n",
       "      <th>0</th>\n",
       "      <td>0.844608</td>\n",
       "      <td>0.342124</td>\n",
       "      <td>0.718479</td>\n",
       "    </tr>\n",
       "    <tr>\n",
       "      <th>0</th>\n",
       "      <td>0.838917</td>\n",
       "      <td>0.337223</td>\n",
       "      <td>0.691750</td>\n",
       "    </tr>\n",
       "    <tr>\n",
       "      <th>0</th>\n",
       "      <td>0.851902</td>\n",
       "      <td>0.332033</td>\n",
       "      <td>0.746011</td>\n",
       "    </tr>\n",
       "  </tbody>\n",
       "</table>\n",
       "</div>"
      ],
      "text/plain": [
       "   Random Forest  AdaBoost  DecisionTree\n",
       "0       0.837852  0.296773      0.723467\n",
       "0       0.819143  0.329623      0.690680\n",
       "0       0.830141  0.351188      0.725685\n",
       "0       0.823637  0.324296      0.719363\n",
       "0       0.843297  0.350698      0.742687\n",
       "0       0.851096  0.340459      0.745769\n",
       "0       0.838683  0.310499      0.764873\n",
       "0       0.844608  0.342124      0.718479\n",
       "0       0.838917  0.337223      0.691750\n",
       "0       0.851902  0.332033      0.746011"
      ]
     },
     "execution_count": 17,
     "metadata": {},
     "output_type": "execute_result"
    }
   ],
   "source": [
    "all_features_augmented_22"
   ]
  },
  {
   "cell_type": "code",
   "execution_count": 18,
   "id": "7c4eb8a4-049c-4789-a2e2-f7e4fd0b52d2",
   "metadata": {},
   "outputs": [
    {
     "data": {
      "text/html": [
       "<div>\n",
       "<style scoped>\n",
       "    .dataframe tbody tr th:only-of-type {\n",
       "        vertical-align: middle;\n",
       "    }\n",
       "\n",
       "    .dataframe tbody tr th {\n",
       "        vertical-align: top;\n",
       "    }\n",
       "\n",
       "    .dataframe thead th {\n",
       "        text-align: right;\n",
       "    }\n",
       "</style>\n",
       "<table border=\"1\" class=\"dataframe\">\n",
       "  <thead>\n",
       "    <tr style=\"text-align: right;\">\n",
       "      <th></th>\n",
       "      <th>Random Forest</th>\n",
       "      <th>AdaBoost</th>\n",
       "      <th>DecisionTree</th>\n",
       "    </tr>\n",
       "  </thead>\n",
       "  <tbody>\n",
       "    <tr>\n",
       "      <th>count</th>\n",
       "      <td>10.000000</td>\n",
       "      <td>10.000000</td>\n",
       "      <td>10.000000</td>\n",
       "    </tr>\n",
       "    <tr>\n",
       "      <th>mean</th>\n",
       "      <td>0.837928</td>\n",
       "      <td>0.331491</td>\n",
       "      <td>0.726876</td>\n",
       "    </tr>\n",
       "    <tr>\n",
       "      <th>std</th>\n",
       "      <td>0.010860</td>\n",
       "      <td>0.017272</td>\n",
       "      <td>0.023807</td>\n",
       "    </tr>\n",
       "    <tr>\n",
       "      <th>min</th>\n",
       "      <td>0.819143</td>\n",
       "      <td>0.296773</td>\n",
       "      <td>0.690680</td>\n",
       "    </tr>\n",
       "    <tr>\n",
       "      <th>25%</th>\n",
       "      <td>0.832069</td>\n",
       "      <td>0.325628</td>\n",
       "      <td>0.718700</td>\n",
       "    </tr>\n",
       "    <tr>\n",
       "      <th>50%</th>\n",
       "      <td>0.838800</td>\n",
       "      <td>0.334628</td>\n",
       "      <td>0.724576</td>\n",
       "    </tr>\n",
       "    <tr>\n",
       "      <th>75%</th>\n",
       "      <td>0.844280</td>\n",
       "      <td>0.341708</td>\n",
       "      <td>0.744998</td>\n",
       "    </tr>\n",
       "    <tr>\n",
       "      <th>max</th>\n",
       "      <td>0.851902</td>\n",
       "      <td>0.351188</td>\n",
       "      <td>0.764873</td>\n",
       "    </tr>\n",
       "  </tbody>\n",
       "</table>\n",
       "</div>"
      ],
      "text/plain": [
       "       Random Forest   AdaBoost  DecisionTree\n",
       "count      10.000000  10.000000     10.000000\n",
       "mean        0.837928   0.331491      0.726876\n",
       "std         0.010860   0.017272      0.023807\n",
       "min         0.819143   0.296773      0.690680\n",
       "25%         0.832069   0.325628      0.718700\n",
       "50%         0.838800   0.334628      0.724576\n",
       "75%         0.844280   0.341708      0.744998\n",
       "max         0.851902   0.351188      0.764873"
      ]
     },
     "execution_count": 18,
     "metadata": {},
     "output_type": "execute_result"
    }
   ],
   "source": [
    "all_features_augmented_22.describe()"
   ]
  },
  {
   "cell_type": "code",
   "execution_count": 19,
   "id": "fd17a0da-c220-4fa5-a433-a919e5eb6ea9",
   "metadata": {},
   "outputs": [
    {
     "data": {
      "image/png": "[encoded data removed]",
      "text/plain": [
       "<Figure size 432x288 with 1 Axes>"
      ]
     },
     "metadata": {
      "needs_background": "light"
     },
     "output_type": "display_data"
    }
   ],
   "source": [
    "boxplot = all_features_augmented_22.boxplot(column=[\"Random Forest\", \"AdaBoost\", \"DecisionTree\"])"
   ]
  },
  {
   "cell_type": "markdown",
   "id": "cd26fc9e-99b5-443a-8e28-d983dca0a888",
   "metadata": {},
   "source": [
    "Conclusion: utilizar más caracteristicas y mayor frecuencia de muestreo permite obtener mejores resultados!"
   ]
  }
 ],
 "metadata": {
  "kernelspec": {
   "display_name": "Python 3",
   "language": "python",
   "name": "python3"
  },
  "language_info": {
   "codemirror_mode": {
    "name": "ipython",
    "version": 3
   },
   "file_extension": ".py",
   "mimetype": "text/x-python",
   "name": "python",
   "nbconvert_exporter": "python",
   "pygments_lexer": "ipython3",
   "version": "3.8.10"
  }
 },
 "nbformat": 4,
 "nbformat_minor": 5
}
