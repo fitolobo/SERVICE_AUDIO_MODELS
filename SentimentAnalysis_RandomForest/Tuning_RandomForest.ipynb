{
 "cells": [
  {
   "cell_type": "markdown",
   "id": "7fc6c46a-c35c-42f6-9b44-25dd85034deb",
   "metadata": {},
   "source": [
    "# Tuning the hyperparameters for Random Forest Method!"
   ]
  },
  {
   "cell_type": "code",
   "execution_count": 56,
   "id": "696d0adf-4898-4d6d-a05e-569459066eeb",
   "metadata": {},
   "outputs": [],
   "source": [
    "import time\n",
    "import os\n",
    "import librosa\n",
    "import numpy as np\n",
    "import tensorflow\n",
    "\n",
    "### SEED configuration\n",
    "from numpy.random import seed\n",
    "seed(1)\n",
    "from tensorflow import random\n",
    "random.set_seed(1)\n",
    "\n",
    "#!pip install keras-tuner  # en caso de necesitar instalarlo\n",
    "#import keras_tuner as kt\n",
    "from sklearn.model_selection import RandomizedSearchCV\n",
    "from sklearn import ensemble\n",
    "from sklearn.preprocessing import StandardScaler\n",
    "from sklearn.pipeline import Pipeline\n",
    "from sklearn.model_selection import train_test_split\n",
    "from sklearn.ensemble import RandomForestClassifier"
   ]
  },
  {
   "cell_type": "markdown",
   "id": "8b007037-90be-448f-8bdf-20a5a4a74a8f",
   "metadata": {},
   "source": [
    "### Loading the data 48KHz with 40 mel-spectrogram frequency bands"
   ]
  },
  {
   "cell_type": "code",
   "execution_count": 2,
   "id": "c56ebfc9-502b-481a-b4e7-4e06400b1563",
   "metadata": {},
   "outputs": [],
   "source": [
    "filename = 'processed_data/MFCCs_AUGMENTED_48.npy'\n",
    "# open file in write mode and write data\n",
    "with open(filename, 'rb') as f:\n",
    "    F12 = np.load(f)\n",
    "    F40 = np.load(f)\n",
    "    Y = np.load(f)"
   ]
  },
  {
   "cell_type": "code",
   "execution_count": 3,
   "id": "1acce3c7-f1e9-45bc-bca9-e46cad5291c7",
   "metadata": {},
   "outputs": [],
   "source": [
    "X_train_b, X_test_b, y_train_b, y_test_b = train_test_split(F40,Y, test_size=0.2, random_state=42)"
   ]
  },
  {
   "cell_type": "code",
   "execution_count": 4,
   "id": "424ae357-40a1-4f76-a9eb-fe2709ef0976",
   "metadata": {},
   "outputs": [
    {
     "name": "stdout",
     "output_type": "stream",
     "text": [
      "{'n_estimators': [200, 400, 600, 800, 1000, 1200, 1400, 1600, 1800, 2000], 'max_features': ['auto', 'sqrt'], 'max_depth': [10, 20, 30, 40, 50, 60, 70, 80, 90, 100, 110, None], 'min_samples_split': [2, 5, 10], 'min_samples_leaf': [1, 2, 4], 'bootstrap': [True, False]}\n"
     ]
    }
   ],
   "source": [
    "# Number of trees in random forest\n",
    "n_estimators = [int(x) for x in np.linspace(start = 200, stop = 2000, num = 10)]\n",
    "# Number of features to consider at every split\n",
    "max_features = ['auto', 'sqrt']\n",
    "# Maximum number of levels in tree\n",
    "max_depth = [int(x) for x in np.linspace(10, 110, num = 11)]\n",
    "max_depth.append(None)\n",
    "# Minimum number of samples required to split a node\n",
    "min_samples_split = [2, 5, 10]\n",
    "# Minimum number of samples required at each leaf node\n",
    "min_samples_leaf = [1, 2, 4]\n",
    "# Method of selecting samples for training each tree\n",
    "bootstrap = [True, False]\n",
    "# Create the random grid\n",
    "random_grid = {'n_estimators': n_estimators,\n",
    "               'max_features': max_features,\n",
    "               'max_depth': max_depth,\n",
    "               'min_samples_split': min_samples_split,\n",
    "               'min_samples_leaf': min_samples_leaf,\n",
    "               'bootstrap': bootstrap}\n",
    "print(random_grid)"
   ]
  },
  {
   "cell_type": "code",
   "execution_count": 5,
   "id": "1300de85-5c57-4650-84e6-3ad4a817df2c",
   "metadata": {},
   "outputs": [
    {
     "name": "stdout",
     "output_type": "stream",
     "text": [
      "Fitting 3 folds for each of 100 candidates, totalling 300 fits\n"
     ]
    },
    {
     "data": {
      "text/plain": [
       "RandomizedSearchCV(cv=3, estimator=RandomForestClassifier(), n_iter=100,\n",
       "                   n_jobs=-1,\n",
       "                   param_distributions={'bootstrap': [True, False],\n",
       "                                        'max_depth': [10, 20, 30, 40, 50, 60,\n",
       "                                                      70, 80, 90, 100, 110,\n",
       "                                                      None],\n",
       "                                        'max_features': ['auto', 'sqrt'],\n",
       "                                        'min_samples_leaf': [1, 2, 4],\n",
       "                                        'min_samples_split': [2, 5, 10],\n",
       "                                        'n_estimators': [200, 400, 600, 800,\n",
       "                                                         1000, 1200, 1400, 1600,\n",
       "                                                         1800, 2000]},\n",
       "                   random_state=42, verbose=2)"
      ]
     },
     "execution_count": 5,
     "metadata": {},
     "output_type": "execute_result"
    }
   ],
   "source": [
    "# Use the random grid to search for best hyperparameters\n",
    "# First create the base model to tune\n",
    "rf = RandomForestClassifier()\n",
    "# Random search of parameters, using 3 fold cross validation, \n",
    "# search across 100 different combinations, and use all available cores\n",
    "rf_random = RandomizedSearchCV(estimator = rf, param_distributions = random_grid, n_iter = 100, cv = 3, verbose=2, random_state=42, n_jobs = -1)\n",
    "# Fit the random search model\n",
    "rf_random.fit(X_train_b, y_train_b)"
   ]
  },
  {
   "cell_type": "code",
   "execution_count": 6,
   "id": "37b34cc3-3114-4e78-8dfc-feae80b6e946",
   "metadata": {},
   "outputs": [
    {
     "data": {
      "text/plain": [
       "{'n_estimators': 1800,\n",
       " 'min_samples_split': 2,\n",
       " 'min_samples_leaf': 1,\n",
       " 'max_features': 'auto',\n",
       " 'max_depth': 20,\n",
       " 'bootstrap': False}"
      ]
     },
     "execution_count": 6,
     "metadata": {},
     "output_type": "execute_result"
    }
   ],
   "source": [
    "rf_random.best_params_"
   ]
  },
  {
   "cell_type": "markdown",
   "id": "cbf48620-5af6-4e5e-b302-bdbc18cc608f",
   "metadata": {},
   "source": [
    "### Evaluation"
   ]
  },
  {
   "cell_type": "code",
   "execution_count": 7,
   "id": "00ba78a4-3a3e-4711-bfb8-af8b6fb628d3",
   "metadata": {},
   "outputs": [],
   "source": [
    "def evaluate(model, test_features, test_labels):\n",
    "    predictions = model.predict(test_features)\n",
    "    errors = abs(predictions - test_labels)\n",
    "    mape = 100 * np.mean(errors / test_labels)\n",
    "    accuracy = 100 - mape\n",
    "    print('Model Performance')\n",
    "    print('Average Error: {:0.4f} degrees.'.format(np.mean(errors)))\n",
    "    print('Accuracy = {:0.2f}%.'.format(accuracy))\n",
    "    \n",
    "    return accuracy"
   ]
  },
  {
   "cell_type": "code",
   "execution_count": 8,
   "id": "610f6aa7-a6ea-4a08-b906-00b089ad7cf9",
   "metadata": {},
   "outputs": [
    {
     "name": "stdout",
     "output_type": "stream",
     "text": [
      "Model Performance\n",
      "Average Error: 0.8600 degrees.\n",
      "Accuracy = 77.08%.\n",
      "Model Performance\n",
      "Average Error: 0.3403 degrees.\n",
      "Accuracy = 90.15%.\n",
      "Improvement of 16.96%.\n"
     ]
    }
   ],
   "source": [
    "# Baseline\n",
    "base_model = RandomForestClassifier(n_estimators = 10, random_state = 42)\n",
    "\n",
    "# Base Accuracy\n",
    "base_model.fit(X_train_b, y_train_b)\n",
    "base_accuracy = evaluate(base_model, X_test_b, y_test_b)\n",
    "\n",
    "# Best Model by Random Search\n",
    "best_random = rf_random.best_estimator_\n",
    "random_accuracy = evaluate(best_random, X_test_b, y_test_b)\n",
    "\n",
    "print('Improvement of {:0.2f}%.'.format( 100 * (random_accuracy - base_accuracy) / base_accuracy))"
   ]
  },
  {
   "cell_type": "markdown",
   "id": "de16af38-617d-47c2-89ad-6113422b0acc",
   "metadata": {},
   "source": [
    "### GridSearch: Provided the best value from Random Search I specify a new grid, near the best results!."
   ]
  },
  {
   "cell_type": "markdown",
   "id": "12ba8711-ca81-4e1a-a76d-e275ca7ba033",
   "metadata": {},
   "source": [
    "{'n_estimators': 1800,\n",
    " 'min_samples_split': 2,\n",
    " 'min_samples_leaf': 1,\n",
    " 'max_features': 'auto',\n",
    " 'max_depth': 20,\n",
    " 'bootstrap': False}"
   ]
  },
  {
   "cell_type": "code",
   "execution_count": 9,
   "id": "a1382cd3-39c7-40cb-9e08-6e9ca80c0184",
   "metadata": {},
   "outputs": [],
   "source": [
    "from sklearn.model_selection import GridSearchCV\n",
    "# Create the parameter grid based on the results of random search \n",
    "param_grid = {\n",
    "    'bootstrap': [False],\n",
    "    'max_depth': [20,22,24,26],\n",
    "    'min_samples_leaf': [1,2],\n",
    "    'min_samples_split': [2,3],\n",
    "    'n_estimators': [1800,1820,1850,1900]\n",
    "}"
   ]
  },
  {
   "cell_type": "code",
   "execution_count": 10,
   "id": "542e849d-a5d9-4e32-90ea-8730e87a48ba",
   "metadata": {},
   "outputs": [],
   "source": [
    "# Create a based model\n",
    "rf = RandomForestClassifier()\n",
    "# Instantiate the grid search model\n",
    "grid_search = GridSearchCV(estimator = rf, param_grid = param_grid, \n",
    "                          cv = 3, n_jobs = -1, verbose = 2)"
   ]
  },
  {
   "cell_type": "code",
   "execution_count": 11,
   "id": "3407b89a-bb25-4e4b-ae3c-94f8513e076b",
   "metadata": {},
   "outputs": [],
   "source": [
    "X_train_b, X_test_b, y_train_b, y_test_b = train_test_split(F40,Y, test_size=0.2, random_state=42)"
   ]
  },
  {
   "cell_type": "code",
   "execution_count": 12,
   "id": "5dda991f-0a31-4fbe-9f04-62b38096d3d7",
   "metadata": {},
   "outputs": [
    {
     "name": "stdout",
     "output_type": "stream",
     "text": [
      "Fitting 3 folds for each of 64 candidates, totalling 192 fits\n"
     ]
    },
    {
     "data": {
      "text/plain": [
       "{'bootstrap': False,\n",
       " 'max_depth': 20,\n",
       " 'min_samples_leaf': 1,\n",
       " 'min_samples_split': 2,\n",
       " 'n_estimators': 1850}"
      ]
     },
     "execution_count": 12,
     "metadata": {},
     "output_type": "execute_result"
    }
   ],
   "source": [
    "# Fit the grid search to the data\n",
    "grid_search.fit(X_train_b, y_train_b)\n",
    "grid_search.best_params_"
   ]
  },
  {
   "cell_type": "code",
   "execution_count": 14,
   "id": "d94064cc-e525-492b-94da-18246456c8cd",
   "metadata": {},
   "outputs": [
    {
     "name": "stdout",
     "output_type": "stream",
     "text": [
      "Model Performance\n",
      "Average Error: 0.3530 degrees.\n",
      "Accuracy = 89.36%.\n",
      "Improvement of 15.94%.\n"
     ]
    }
   ],
   "source": [
    "best_grid = grid_search.best_estimator_\n",
    "grid_accuracy = evaluate(best_grid, X_test_b, y_test_b)\n",
    "\n",
    "print('Improvement of {:0.2f}%.'.format( 100 * (grid_accuracy - base_accuracy) / base_accuracy))"
   ]
  },
  {
   "cell_type": "markdown",
   "id": "c6f671b2-a82f-4a74-a7e6-47c5d3179aa7",
   "metadata": {},
   "source": [
    "Los parámetros quedarán aquí guardados en forma de texto, para reentrenar el modelo basta simplemente usar ese grupo de parámetros. Y salvar el modelo utilizando las siguientes lineas!: "
   ]
  },
  {
   "cell_type": "code",
   "execution_count": 15,
   "id": "4c381fc5-a7ef-44a0-8971-36d8f9d06a25",
   "metadata": {},
   "outputs": [],
   "source": [
    "#import joblib\n",
    "## save\n",
    "#joblib.dump(rf_random, \"./random_forest.joblib\")\n",
    "\n",
    "## load, no need to initialize the loaded_rf\n",
    "#loaded_rf = joblib.load(\"./random_forest.joblib\")"
   ]
  },
  {
   "cell_type": "code",
   "execution_count": 19,
   "id": "f1975cf7-0707-4889-8e17-7ef1d65a1c49",
   "metadata": {},
   "outputs": [],
   "source": [
    "from eval_classifiers import EvalBestModel\n",
    "from eval_classifiers import EvalClassifiers"
   ]
  },
  {
   "cell_type": "code",
   "execution_count": 20,
   "id": "ecc8d38a-cc87-43d0-9fb1-04ca42a44532",
   "metadata": {},
   "outputs": [],
   "source": [
    "best_model = RandomForestClassifier(n_estimators = 1800, min_samples_split = 2, min_samples_leaf = 1, max_depth = 20, bootstrap = False)"
   ]
  },
  {
   "cell_type": "code",
   "execution_count": 21,
   "id": "b0ab4953-e2e7-4494-829e-780148d7f1b6",
   "metadata": {},
   "outputs": [],
   "source": [
    "best_model_results = EvalBestModel(best_model,X_train_b, y_train_b)"
   ]
  },
  {
   "cell_type": "code",
   "execution_count": 22,
   "id": "d8ac2591-a5d6-4a3d-b647-810a34df0ea3",
   "metadata": {},
   "outputs": [
    {
     "data": {
      "text/html": [
       "<div>\n",
       "<style scoped>\n",
       "    .dataframe tbody tr th:only-of-type {\n",
       "        vertical-align: middle;\n",
       "    }\n",
       "\n",
       "    .dataframe tbody tr th {\n",
       "        vertical-align: top;\n",
       "    }\n",
       "\n",
       "    .dataframe thead th {\n",
       "        text-align: right;\n",
       "    }\n",
       "</style>\n",
       "<table border=\"1\" class=\"dataframe\">\n",
       "  <thead>\n",
       "    <tr style=\"text-align: right;\">\n",
       "      <th></th>\n",
       "      <th>Best Model</th>\n",
       "    </tr>\n",
       "  </thead>\n",
       "  <tbody>\n",
       "    <tr>\n",
       "      <th>0</th>\n",
       "      <td>0.825835</td>\n",
       "    </tr>\n",
       "    <tr>\n",
       "      <th>0</th>\n",
       "      <td>0.786449</td>\n",
       "    </tr>\n",
       "    <tr>\n",
       "      <th>0</th>\n",
       "      <td>0.840643</td>\n",
       "    </tr>\n",
       "    <tr>\n",
       "      <th>0</th>\n",
       "      <td>0.805631</td>\n",
       "    </tr>\n",
       "    <tr>\n",
       "      <th>0</th>\n",
       "      <td>0.820659</td>\n",
       "    </tr>\n",
       "    <tr>\n",
       "      <th>0</th>\n",
       "      <td>0.805766</td>\n",
       "    </tr>\n",
       "    <tr>\n",
       "      <th>0</th>\n",
       "      <td>0.852954</td>\n",
       "    </tr>\n",
       "    <tr>\n",
       "      <th>0</th>\n",
       "      <td>0.836581</td>\n",
       "    </tr>\n",
       "    <tr>\n",
       "      <th>0</th>\n",
       "      <td>0.833181</td>\n",
       "    </tr>\n",
       "    <tr>\n",
       "      <th>0</th>\n",
       "      <td>0.810705</td>\n",
       "    </tr>\n",
       "  </tbody>\n",
       "</table>\n",
       "</div>"
      ],
      "text/plain": [
       "   Best Model\n",
       "0    0.825835\n",
       "0    0.786449\n",
       "0    0.840643\n",
       "0    0.805631\n",
       "0    0.820659\n",
       "0    0.805766\n",
       "0    0.852954\n",
       "0    0.836581\n",
       "0    0.833181\n",
       "0    0.810705"
      ]
     },
     "execution_count": 22,
     "metadata": {},
     "output_type": "execute_result"
    }
   ],
   "source": [
    "best_model_results "
   ]
  },
  {
   "cell_type": "code",
   "execution_count": 23,
   "id": "99475be2-098e-448a-bb0a-cd36271c776a",
   "metadata": {},
   "outputs": [
    {
     "data": {
      "text/html": [
       "<div>\n",
       "<style scoped>\n",
       "    .dataframe tbody tr th:only-of-type {\n",
       "        vertical-align: middle;\n",
       "    }\n",
       "\n",
       "    .dataframe tbody tr th {\n",
       "        vertical-align: top;\n",
       "    }\n",
       "\n",
       "    .dataframe thead th {\n",
       "        text-align: right;\n",
       "    }\n",
       "</style>\n",
       "<table border=\"1\" class=\"dataframe\">\n",
       "  <thead>\n",
       "    <tr style=\"text-align: right;\">\n",
       "      <th></th>\n",
       "      <th>Best Model</th>\n",
       "    </tr>\n",
       "  </thead>\n",
       "  <tbody>\n",
       "    <tr>\n",
       "      <th>count</th>\n",
       "      <td>10.000000</td>\n",
       "    </tr>\n",
       "    <tr>\n",
       "      <th>mean</th>\n",
       "      <td>0.821840</td>\n",
       "    </tr>\n",
       "    <tr>\n",
       "      <th>std</th>\n",
       "      <td>0.019951</td>\n",
       "    </tr>\n",
       "    <tr>\n",
       "      <th>min</th>\n",
       "      <td>0.786449</td>\n",
       "    </tr>\n",
       "    <tr>\n",
       "      <th>25%</th>\n",
       "      <td>0.807001</td>\n",
       "    </tr>\n",
       "    <tr>\n",
       "      <th>50%</th>\n",
       "      <td>0.823247</td>\n",
       "    </tr>\n",
       "    <tr>\n",
       "      <th>75%</th>\n",
       "      <td>0.835731</td>\n",
       "    </tr>\n",
       "    <tr>\n",
       "      <th>max</th>\n",
       "      <td>0.852954</td>\n",
       "    </tr>\n",
       "  </tbody>\n",
       "</table>\n",
       "</div>"
      ],
      "text/plain": [
       "       Best Model\n",
       "count   10.000000\n",
       "mean     0.821840\n",
       "std      0.019951\n",
       "min      0.786449\n",
       "25%      0.807001\n",
       "50%      0.823247\n",
       "75%      0.835731\n",
       "max      0.852954"
      ]
     },
     "execution_count": 23,
     "metadata": {},
     "output_type": "execute_result"
    }
   ],
   "source": [
    "best_model_results.describe()"
   ]
  },
  {
   "cell_type": "code",
   "execution_count": 24,
   "id": "097e020b-0e71-4787-b284-9f398db7b53c",
   "metadata": {},
   "outputs": [],
   "source": [
    "results_big_ensemble_48 = EvalClassifiers(\"big_ensemble_48\", X_train_b, y_train_b, n_splits=10)"
   ]
  },
  {
   "cell_type": "code",
   "execution_count": 25,
   "id": "70d3c83d-5bc6-4ae4-bffd-d3a9c44b8f9a",
   "metadata": {},
   "outputs": [
    {
     "data": {
      "text/html": [
       "<div>\n",
       "<style scoped>\n",
       "    .dataframe tbody tr th:only-of-type {\n",
       "        vertical-align: middle;\n",
       "    }\n",
       "\n",
       "    .dataframe tbody tr th {\n",
       "        vertical-align: top;\n",
       "    }\n",
       "\n",
       "    .dataframe thead th {\n",
       "        text-align: right;\n",
       "    }\n",
       "</style>\n",
       "<table border=\"1\" class=\"dataframe\">\n",
       "  <thead>\n",
       "    <tr style=\"text-align: right;\">\n",
       "      <th></th>\n",
       "      <th>Random Forest</th>\n",
       "      <th>AdaBoost</th>\n",
       "      <th>DecisionTree</th>\n",
       "    </tr>\n",
       "  </thead>\n",
       "  <tbody>\n",
       "    <tr>\n",
       "      <th>0</th>\n",
       "      <td>0.727996</td>\n",
       "      <td>0.357600</td>\n",
       "      <td>0.501428</td>\n",
       "    </tr>\n",
       "    <tr>\n",
       "      <th>0</th>\n",
       "      <td>0.706872</td>\n",
       "      <td>0.346757</td>\n",
       "      <td>0.565880</td>\n",
       "    </tr>\n",
       "    <tr>\n",
       "      <th>0</th>\n",
       "      <td>0.746164</td>\n",
       "      <td>0.345374</td>\n",
       "      <td>0.530405</td>\n",
       "    </tr>\n",
       "    <tr>\n",
       "      <th>0</th>\n",
       "      <td>0.689011</td>\n",
       "      <td>0.341931</td>\n",
       "      <td>0.552341</td>\n",
       "    </tr>\n",
       "    <tr>\n",
       "      <th>0</th>\n",
       "      <td>0.764747</td>\n",
       "      <td>0.329616</td>\n",
       "      <td>0.542922</td>\n",
       "    </tr>\n",
       "    <tr>\n",
       "      <th>0</th>\n",
       "      <td>0.726980</td>\n",
       "      <td>0.342124</td>\n",
       "      <td>0.465717</td>\n",
       "    </tr>\n",
       "    <tr>\n",
       "      <th>0</th>\n",
       "      <td>0.736185</td>\n",
       "      <td>0.381887</td>\n",
       "      <td>0.528045</td>\n",
       "    </tr>\n",
       "    <tr>\n",
       "      <th>0</th>\n",
       "      <td>0.722866</td>\n",
       "      <td>0.307874</td>\n",
       "      <td>0.487324</td>\n",
       "    </tr>\n",
       "    <tr>\n",
       "      <th>0</th>\n",
       "      <td>0.757176</td>\n",
       "      <td>0.353104</td>\n",
       "      <td>0.552069</td>\n",
       "    </tr>\n",
       "    <tr>\n",
       "      <th>0</th>\n",
       "      <td>0.692507</td>\n",
       "      <td>0.298110</td>\n",
       "      <td>0.529585</td>\n",
       "    </tr>\n",
       "  </tbody>\n",
       "</table>\n",
       "</div>"
      ],
      "text/plain": [
       "   Random Forest  AdaBoost  DecisionTree\n",
       "0       0.727996  0.357600      0.501428\n",
       "0       0.706872  0.346757      0.565880\n",
       "0       0.746164  0.345374      0.530405\n",
       "0       0.689011  0.341931      0.552341\n",
       "0       0.764747  0.329616      0.542922\n",
       "0       0.726980  0.342124      0.465717\n",
       "0       0.736185  0.381887      0.528045\n",
       "0       0.722866  0.307874      0.487324\n",
       "0       0.757176  0.353104      0.552069\n",
       "0       0.692507  0.298110      0.529585"
      ]
     },
     "execution_count": 25,
     "metadata": {},
     "output_type": "execute_result"
    }
   ],
   "source": [
    "results_big_ensemble_48"
   ]
  },
  {
   "cell_type": "code",
   "execution_count": 26,
   "id": "d56cb9ac-5279-4307-a40b-ac3d19db0b56",
   "metadata": {},
   "outputs": [],
   "source": [
    "import matplotlib.pyplot as plt"
   ]
  },
  {
   "cell_type": "code",
   "execution_count": 27,
   "id": "12e7f5bc-6d18-4591-8315-ff891e40d8e7",
   "metadata": {},
   "outputs": [],
   "source": [
    "expert_final_1 = best_model_results[\"Best Model\"]\n",
    "expert_final_2 = results_big_ensemble_48\n",
    "\n",
    "e_final_1 = np.reshape(np.asarray(expert_final_1),(10,1))\n",
    "e_final_2 = np.reshape(np.asarray(expert_final_2),(10,3))\n",
    "\n",
    "B = np.hstack((e_final_1 ,e_final_2))"
   ]
  },
  {
   "cell_type": "code",
   "execution_count": 28,
   "id": "4fc5fe26-545b-49ef-abcd-2e84cdf622ae",
   "metadata": {},
   "outputs": [
    {
     "data": {
      "image/png": "[encoded data removed]",
      "text/plain": [
       "<Figure size 432x288 with 1 Axes>"
      ]
     },
     "metadata": {
      "needs_background": "light"
     },
     "output_type": "display_data"
    }
   ],
   "source": [
    "fig7, ax7 = plt.subplots()\n",
    "ax7.set_title('Best Results: Random Forest')\n",
    "ax7.boxplot(B)\n",
    "plt.xticks([1,2,3,4], ['Tuned', 'Random Forest','AdaBoost','Decision Tree'])\n",
    "plt.show()"
   ]
  },
  {
   "cell_type": "code",
   "execution_count": 29,
   "id": "c881d797-b05a-4bf7-9bb8-d8daa60fd210",
   "metadata": {},
   "outputs": [
    {
     "data": {
      "text/plain": [
       "<Figure size 432x288 with 0 Axes>"
      ]
     },
     "metadata": {},
     "output_type": "display_data"
    }
   ],
   "source": [
    "plt.savefig('best_results.png')"
   ]
  },
  {
   "cell_type": "markdown",
   "id": "d3c06fdd-c1f1-47de-b1ba-2d4c7dc5229a",
   "metadata": {},
   "source": [
    "### Final Tuning: using all the features!\n",
    "\n",
    "Previous experiments demonstrate that using all the selected features (zero crossing, energy rms and spectral centroid) + mel-spectrogram averaged over the time with 40 bands, let us obtain the better results (over 95% of accuracy by using 10-fold cross validation)"
   ]
  },
  {
   "cell_type": "code",
   "execution_count": 37,
   "id": "cfa7e6ab-4db9-4fee-a268-7be9ee06f074",
   "metadata": {},
   "outputs": [],
   "source": [
    "filename = 'processed_data/ALL40_48.npy'\n",
    "with open(filename, 'rb') as f:\n",
    "    ALL40_48 = np.load(f)"
   ]
  },
  {
   "cell_type": "code",
   "execution_count": 38,
   "id": "4a2f6fea-92d5-43b6-901a-57a14a3b78c2",
   "metadata": {},
   "outputs": [],
   "source": [
    "filename = 'processed_data/ZE_48.npy'\n",
    "# open file in write mode and write data\n",
    "with open(filename, 'rb') as f:\n",
    "    Z = np.load(f)\n",
    "    E = np.load(f)\n",
    "    Y = np.load(f)"
   ]
  },
  {
   "cell_type": "code",
   "execution_count": 39,
   "id": "f1009f49-af91-42ee-b169-2cf718d433db",
   "metadata": {},
   "outputs": [],
   "source": [
    "X_train_b, X_test_b, y_train_b, y_test_b = train_test_split(ALL40_48, Y, test_size=0.20, random_state=42)"
   ]
  },
  {
   "cell_type": "markdown",
   "id": "2de52fa7-47e8-4acd-8386-ef5a8a2a6759",
   "metadata": {},
   "source": [
    "Following the same order: first a random search and finally a grid search near the best result!"
   ]
  },
  {
   "cell_type": "code",
   "execution_count": 40,
   "id": "afc7c124-38d8-4997-bb58-351c6f577387",
   "metadata": {},
   "outputs": [
    {
     "name": "stdout",
     "output_type": "stream",
     "text": [
      "{'n_estimators': [200, 400, 600, 800, 1000, 1200, 1400, 1600, 1800, 2000], 'max_features': ['auto', 'sqrt'], 'max_depth': [10, 20, 30, 40, 50, 60, 70, 80, 90, 100, 110, None], 'min_samples_split': [2, 5, 10], 'min_samples_leaf': [1, 2, 4], 'bootstrap': [True, False]}\n"
     ]
    }
   ],
   "source": [
    "# Number of trees in random forest\n",
    "n_estimators = [int(x) for x in np.linspace(start = 200, stop = 2000, num = 10)]\n",
    "# Number of features to consider at every split\n",
    "max_features = ['auto', 'sqrt']\n",
    "# Maximum number of levels in tree\n",
    "max_depth = [int(x) for x in np.linspace(10, 110, num = 11)]\n",
    "max_depth.append(None)\n",
    "# Minimum number of samples required to split a node\n",
    "min_samples_split = [2, 5, 10]\n",
    "# Minimum number of samples required at each leaf node\n",
    "min_samples_leaf = [1, 2, 4]\n",
    "# Method of selecting samples for training each tree\n",
    "bootstrap = [True, False]\n",
    "# Create the random grid\n",
    "random_grid = {'n_estimators': n_estimators,\n",
    "               'max_features': max_features,\n",
    "               'max_depth': max_depth,\n",
    "               'min_samples_split': min_samples_split,\n",
    "               'min_samples_leaf': min_samples_leaf,\n",
    "               'bootstrap': bootstrap}\n",
    "print(random_grid)"
   ]
  },
  {
   "cell_type": "code",
   "execution_count": 41,
   "id": "620dff64-3d10-47e6-83ec-f695051159bf",
   "metadata": {},
   "outputs": [
    {
     "name": "stdout",
     "output_type": "stream",
     "text": [
      "Fitting 3 folds for each of 100 candidates, totalling 300 fits\n"
     ]
    },
    {
     "data": {
      "text/plain": [
       "RandomizedSearchCV(cv=3, estimator=RandomForestClassifier(), n_iter=100,\n",
       "                   n_jobs=-1,\n",
       "                   param_distributions={'bootstrap': [True, False],\n",
       "                                        'max_depth': [10, 20, 30, 40, 50, 60,\n",
       "                                                      70, 80, 90, 100, 110,\n",
       "                                                      None],\n",
       "                                        'max_features': ['auto', 'sqrt'],\n",
       "                                        'min_samples_leaf': [1, 2, 4],\n",
       "                                        'min_samples_split': [2, 5, 10],\n",
       "                                        'n_estimators': [200, 400, 600, 800,\n",
       "                                                         1000, 1200, 1400, 1600,\n",
       "                                                         1800, 2000]},\n",
       "                   random_state=42, verbose=2)"
      ]
     },
     "execution_count": 41,
     "metadata": {},
     "output_type": "execute_result"
    }
   ],
   "source": [
    "# Use the random grid to search for best hyperparameters\n",
    "# First create the base model to tune\n",
    "rf = RandomForestClassifier()\n",
    "# Random search of parameters, using 3 fold cross validation, \n",
    "# search across 100 different combinations, and use all available cores\n",
    "rf_random = RandomizedSearchCV(estimator = rf, param_distributions = random_grid, n_iter = 100, cv = 3, verbose=2, random_state=42, n_jobs = -1)\n",
    "# Fit the random search model\n",
    "rf_random.fit(X_train_b, y_train_b)"
   ]
  },
  {
   "cell_type": "code",
   "execution_count": 42,
   "id": "f74f6be1-f10d-402e-9cd8-c7fd0747a73e",
   "metadata": {},
   "outputs": [
    {
     "name": "stdout",
     "output_type": "stream",
     "text": [
      "Model Performance\n",
      "Average Error: 0.3252 degrees.\n",
      "Accuracy = 91.20%.\n",
      "Model Performance\n",
      "Average Error: 0.0625 degrees.\n",
      "Accuracy = 98.25%.\n",
      "Improvement of 7.73%.\n"
     ]
    }
   ],
   "source": [
    "# Baseline\n",
    "base_model = RandomForestClassifier(n_estimators = 10, random_state = 42)\n",
    "\n",
    "# Base Accuracy\n",
    "base_model.fit(X_train_b, y_train_b)\n",
    "base_accuracy = evaluate(base_model, X_test_b, y_test_b)\n",
    "\n",
    "# Best Model by Random Search\n",
    "best_random = rf_random.best_estimator_\n",
    "random_accuracy = evaluate(best_random, X_test_b, y_test_b)\n",
    "\n",
    "print('Improvement of {:0.2f}%.'.format( 100 * (random_accuracy - base_accuracy) / base_accuracy))"
   ]
  },
  {
   "cell_type": "code",
   "execution_count": 43,
   "id": "c7affe63-3801-4c33-996e-cf790547f369",
   "metadata": {},
   "outputs": [
    {
     "data": {
      "text/plain": [
       "RandomForestClassifier(bootstrap=False, max_depth=20, n_estimators=1800)"
      ]
     },
     "execution_count": 43,
     "metadata": {},
     "output_type": "execute_result"
    }
   ],
   "source": [
    "rf_random.best_estimator_"
   ]
  },
  {
   "cell_type": "code",
   "execution_count": 44,
   "id": "90bb6d61-5496-4a35-b47e-d3398dae30a0",
   "metadata": {},
   "outputs": [],
   "source": [
    "best_model_all_features = rf_random.best_estimator_"
   ]
  },
  {
   "cell_type": "code",
   "execution_count": 45,
   "id": "1c67575d-de1e-44bb-9b53-f1fa23d4e5f3",
   "metadata": {},
   "outputs": [],
   "source": [
    "best_model_results_all_features = EvalBestModel(best_model_all_features,X_train_b, y_train_b)"
   ]
  },
  {
   "cell_type": "code",
   "execution_count": 46,
   "id": "543044af-9110-46bc-ba76-d915d4da7cba",
   "metadata": {},
   "outputs": [
    {
     "data": {
      "text/html": [
       "<div>\n",
       "<style scoped>\n",
       "    .dataframe tbody tr th:only-of-type {\n",
       "        vertical-align: middle;\n",
       "    }\n",
       "\n",
       "    .dataframe tbody tr th {\n",
       "        vertical-align: top;\n",
       "    }\n",
       "\n",
       "    .dataframe thead th {\n",
       "        text-align: right;\n",
       "    }\n",
       "</style>\n",
       "<table border=\"1\" class=\"dataframe\">\n",
       "  <thead>\n",
       "    <tr style=\"text-align: right;\">\n",
       "      <th></th>\n",
       "      <th>Best Model</th>\n",
       "    </tr>\n",
       "  </thead>\n",
       "  <tbody>\n",
       "    <tr>\n",
       "      <th>0</th>\n",
       "      <td>0.945843</td>\n",
       "    </tr>\n",
       "    <tr>\n",
       "      <th>0</th>\n",
       "      <td>0.943075</td>\n",
       "    </tr>\n",
       "    <tr>\n",
       "      <th>0</th>\n",
       "      <td>0.939914</td>\n",
       "    </tr>\n",
       "    <tr>\n",
       "      <th>0</th>\n",
       "      <td>0.948147</td>\n",
       "    </tr>\n",
       "    <tr>\n",
       "      <th>0</th>\n",
       "      <td>0.942670</td>\n",
       "    </tr>\n",
       "    <tr>\n",
       "      <th>0</th>\n",
       "      <td>0.964628</td>\n",
       "    </tr>\n",
       "    <tr>\n",
       "      <th>0</th>\n",
       "      <td>0.931493</td>\n",
       "    </tr>\n",
       "    <tr>\n",
       "      <th>0</th>\n",
       "      <td>0.932333</td>\n",
       "    </tr>\n",
       "    <tr>\n",
       "      <th>0</th>\n",
       "      <td>0.953482</td>\n",
       "    </tr>\n",
       "    <tr>\n",
       "      <th>0</th>\n",
       "      <td>0.972976</td>\n",
       "    </tr>\n",
       "  </tbody>\n",
       "</table>\n",
       "</div>"
      ],
      "text/plain": [
       "   Best Model\n",
       "0    0.945843\n",
       "0    0.943075\n",
       "0    0.939914\n",
       "0    0.948147\n",
       "0    0.942670\n",
       "0    0.964628\n",
       "0    0.931493\n",
       "0    0.932333\n",
       "0    0.953482\n",
       "0    0.972976"
      ]
     },
     "execution_count": 46,
     "metadata": {},
     "output_type": "execute_result"
    }
   ],
   "source": [
    "best_model_results_all_features"
   ]
  },
  {
   "cell_type": "code",
   "execution_count": 47,
   "id": "51bb472f-c484-434e-8cdb-31fbce2910e9",
   "metadata": {},
   "outputs": [
    {
     "data": {
      "text/html": [
       "<div>\n",
       "<style scoped>\n",
       "    .dataframe tbody tr th:only-of-type {\n",
       "        vertical-align: middle;\n",
       "    }\n",
       "\n",
       "    .dataframe tbody tr th {\n",
       "        vertical-align: top;\n",
       "    }\n",
       "\n",
       "    .dataframe thead th {\n",
       "        text-align: right;\n",
       "    }\n",
       "</style>\n",
       "<table border=\"1\" class=\"dataframe\">\n",
       "  <thead>\n",
       "    <tr style=\"text-align: right;\">\n",
       "      <th></th>\n",
       "      <th>Best Model</th>\n",
       "    </tr>\n",
       "  </thead>\n",
       "  <tbody>\n",
       "    <tr>\n",
       "      <th>count</th>\n",
       "      <td>10.000000</td>\n",
       "    </tr>\n",
       "    <tr>\n",
       "      <th>mean</th>\n",
       "      <td>0.947456</td>\n",
       "    </tr>\n",
       "    <tr>\n",
       "      <th>std</th>\n",
       "      <td>0.013199</td>\n",
       "    </tr>\n",
       "    <tr>\n",
       "      <th>min</th>\n",
       "      <td>0.931493</td>\n",
       "    </tr>\n",
       "    <tr>\n",
       "      <th>25%</th>\n",
       "      <td>0.940603</td>\n",
       "    </tr>\n",
       "    <tr>\n",
       "      <th>50%</th>\n",
       "      <td>0.944459</td>\n",
       "    </tr>\n",
       "    <tr>\n",
       "      <th>75%</th>\n",
       "      <td>0.952148</td>\n",
       "    </tr>\n",
       "    <tr>\n",
       "      <th>max</th>\n",
       "      <td>0.972976</td>\n",
       "    </tr>\n",
       "  </tbody>\n",
       "</table>\n",
       "</div>"
      ],
      "text/plain": [
       "       Best Model\n",
       "count   10.000000\n",
       "mean     0.947456\n",
       "std      0.013199\n",
       "min      0.931493\n",
       "25%      0.940603\n",
       "50%      0.944459\n",
       "75%      0.952148\n",
       "max      0.972976"
      ]
     },
     "execution_count": 47,
     "metadata": {},
     "output_type": "execute_result"
    }
   ],
   "source": [
    "best_model_results_all_features.describe()"
   ]
  },
  {
   "cell_type": "markdown",
   "id": "63bc94e9-d5fa-4f09-9e7f-5f6e6caed619",
   "metadata": {},
   "source": [
    "Observando el resultado final!"
   ]
  },
  {
   "cell_type": "code",
   "execution_count": 48,
   "id": "4dce00fe-7424-4751-b2a1-dc66058618c5",
   "metadata": {},
   "outputs": [],
   "source": [
    "expert_final_3 = best_model_results_all_features[\"Best Model\"]\n",
    "\n",
    "e_final_3 = np.reshape(np.asarray(expert_final_3),(10,1))\n",
    "B_final = np.hstack((B,e_final_3))"
   ]
  },
  {
   "cell_type": "code",
   "execution_count": 51,
   "id": "b28d9470-437f-4ff6-b8ff-29872ea32d53",
   "metadata": {},
   "outputs": [
    {
     "data": {
      "image/png": "[encoded data removed]",
      "text/plain": [
       "<Figure size 432x288 with 1 Axes>"
      ]
     },
     "metadata": {
      "needs_background": "light"
     },
     "output_type": "display_data"
    }
   ],
   "source": [
    "fig8, ax8 = plt.subplots()\n",
    "ax8.set_title('Best Results: Random Forest')\n",
    "ax8.boxplot(B_final)\n",
    "plt.xticks([1,2,3,4,5], ['Tuned-RF', 'RF','AdaBoost','DT','RF-All-Tuned'])\n",
    "plt.show()"
   ]
  },
  {
   "cell_type": "code",
   "execution_count": 50,
   "id": "75faed8e-467c-4366-ad26-cf14b059bfe4",
   "metadata": {},
   "outputs": [
    {
     "data": {
      "text/plain": [
       "<Figure size 432x288 with 0 Axes>"
      ]
     },
     "metadata": {},
     "output_type": "display_data"
    }
   ],
   "source": [
    "plt.savefig('all_features.png')"
   ]
  },
  {
   "cell_type": "code",
   "execution_count": 52,
   "id": "466e94b7-eab4-4c6f-bdbb-7cb53035a1e5",
   "metadata": {},
   "outputs": [],
   "source": [
    "from sklearn.metrics import confusion_matrix"
   ]
  },
  {
   "cell_type": "code",
   "execution_count": 58,
   "id": "d9536bab-2eac-456f-ab2d-f8d1cb593d40",
   "metadata": {},
   "outputs": [
    {
     "data": {
      "text/plain": [
       "RandomForestClassifier(bootstrap=False, max_depth=20, n_estimators=1800)"
      ]
     },
     "execution_count": 58,
     "metadata": {},
     "output_type": "execute_result"
    }
   ],
   "source": [
    "best_model_all_features.fit(X_train_b, y_train_b)"
   ]
  },
  {
   "cell_type": "code",
   "execution_count": 60,
   "id": "3269f9e8-7337-4520-8e33-83fe37e6b3d7",
   "metadata": {},
   "outputs": [],
   "source": [
    "pred = best_model_all_features.predict(X_test_b)"
   ]
  },
  {
   "cell_type": "code",
   "execution_count": 61,
   "id": "f1f0007a-7054-4872-8edf-4b2cdcd2fd77",
   "metadata": {},
   "outputs": [
    {
     "data": {
      "text/plain": [
       "array([[ 50,   1,   0,   0,   0,   0,   0,   0],\n",
       "       [  1, 112,   2,   0,   0,   0,   0,   0],\n",
       "       [  0,   0, 122,   3,   0,   2,   0,   2],\n",
       "       [  0,   3,   0, 114,   0,   0,   0,   1],\n",
       "       [  0,   0,   2,   2, 128,   0,   0,   1],\n",
       "       [  0,   0,   2,   0,   3,  98,   0,   0],\n",
       "       [  0,   0,   0,   0,   0,   0, 105,   0],\n",
       "       [  1,   0,   0,   0,   1,   0,   0, 108]])"
      ]
     },
     "execution_count": 61,
     "metadata": {},
     "output_type": "execute_result"
    }
   ],
   "source": [
    "confusion_matrix(y_test_b,pred )"
   ]
  },
  {
   "cell_type": "code",
   "execution_count": 62,
   "id": "9bea9548-764e-422c-8fb5-b8ffe9788638",
   "metadata": {},
   "outputs": [],
   "source": [
    "from sklearn.metrics import plot_confusion_matrix"
   ]
  },
  {
   "cell_type": "code",
   "execution_count": 64,
   "id": "fdce066d-7207-4739-9b09-6f386ebb4569",
   "metadata": {},
   "outputs": [
    {
     "data": {
      "image/png": "[encoded data removed]",
      "text/plain": [
       "<Figure size 432x288 with 2 Axes>"
      ]
     },
     "metadata": {
      "needs_background": "light"
     },
     "output_type": "display_data"
    }
   ],
   "source": [
    "plot_confusion_matrix(best_model_all_features, X_test_b, y_test_b)\n",
    "plt.show() "
   ]
  },
  {
   "cell_type": "code",
   "execution_count": 67,
   "id": "4963c0e8-d0d5-4249-9fdb-74d0f2014c73",
   "metadata": {},
   "outputs": [],
   "source": [
    "import pandas as pd"
   ]
  },
  {
   "cell_type": "code",
   "execution_count": 68,
   "id": "4f178053-9ead-4cb1-a9d5-c072008390cf",
   "metadata": {},
   "outputs": [
    {
     "data": {
      "text/html": [
       "<div>\n",
       "<style scoped>\n",
       "    .dataframe tbody tr th:only-of-type {\n",
       "        vertical-align: middle;\n",
       "    }\n",
       "\n",
       "    .dataframe tbody tr th {\n",
       "        vertical-align: top;\n",
       "    }\n",
       "\n",
       "    .dataframe thead th {\n",
       "        text-align: right;\n",
       "    }\n",
       "</style>\n",
       "<table border=\"1\" class=\"dataframe\">\n",
       "  <thead>\n",
       "    <tr style=\"text-align: right;\">\n",
       "      <th></th>\n",
       "      <th>0</th>\n",
       "    </tr>\n",
       "  </thead>\n",
       "  <tbody>\n",
       "    <tr>\n",
       "      <th>count</th>\n",
       "      <td>864.000000</td>\n",
       "    </tr>\n",
       "    <tr>\n",
       "      <th>mean</th>\n",
       "      <td>4.673611</td>\n",
       "    </tr>\n",
       "    <tr>\n",
       "      <th>std</th>\n",
       "      <td>2.127445</td>\n",
       "    </tr>\n",
       "    <tr>\n",
       "      <th>min</th>\n",
       "      <td>1.000000</td>\n",
       "    </tr>\n",
       "    <tr>\n",
       "      <th>25%</th>\n",
       "      <td>3.000000</td>\n",
       "    </tr>\n",
       "    <tr>\n",
       "      <th>50%</th>\n",
       "      <td>5.000000</td>\n",
       "    </tr>\n",
       "    <tr>\n",
       "      <th>75%</th>\n",
       "      <td>6.000000</td>\n",
       "    </tr>\n",
       "    <tr>\n",
       "      <th>max</th>\n",
       "      <td>8.000000</td>\n",
       "    </tr>\n",
       "  </tbody>\n",
       "</table>\n",
       "</div>"
      ],
      "text/plain": [
       "                0\n",
       "count  864.000000\n",
       "mean     4.673611\n",
       "std      2.127445\n",
       "min      1.000000\n",
       "25%      3.000000\n",
       "50%      5.000000\n",
       "75%      6.000000\n",
       "max      8.000000"
      ]
     },
     "execution_count": 68,
     "metadata": {},
     "output_type": "execute_result"
    }
   ],
   "source": [
    "pd.DataFrame(y_test_b).describe()"
   ]
  },
  {
   "cell_type": "code",
   "execution_count": 72,
   "id": "d9327109-e741-41b2-b68e-a095b6d11f38",
   "metadata": {},
   "outputs": [
    {
     "data": {
      "text/plain": [
       "51"
      ]
     },
     "execution_count": 72,
     "metadata": {},
     "output_type": "execute_result"
    }
   ],
   "source": [
    "np.sum(1*(y_test_b<2))"
   ]
  },
  {
   "cell_type": "code",
   "execution_count": null,
   "id": "6fed8c05-e7b2-43ce-b64f-4f9ff80e1ca1",
   "metadata": {},
   "outputs": [],
   "source": []
  }
 ],
 "metadata": {
  "kernelspec": {
   "display_name": "Python 3",
   "language": "python",
   "name": "python3"
  },
  "language_info": {
   "codemirror_mode": {
    "name": "ipython",
    "version": 3
   },
   "file_extension": ".py",
   "mimetype": "text/x-python",
   "name": "python",
   "nbconvert_exporter": "python",
   "pygments_lexer": "ipython3",
   "version": "3.8.10"
  }
 },
 "nbformat": 4,
 "nbformat_minor": 5
}
