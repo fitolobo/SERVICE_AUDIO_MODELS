{
 "cells": [
  {
   "cell_type": "markdown",
   "id": "bbb41bdc-c6d9-4049-b8ad-2a773d7e411c",
   "metadata": {},
   "source": [
    "### Resumiendo todo el proceso de experimentación en un solo cuaderno\n",
    "\n",
    "La idea es entrenar modelos con 12 o 40 MFFCs, luego observar en el caso de 12 MFCCs (por causa del tiempo que toma), cuales son los coeficientes más preponderantes en la clasificación de 4 expresiobes importantes para el proyecto: neutral-calma y enojo-disgusto."
   ]
  },
  {
   "cell_type": "code",
   "execution_count": 1,
   "id": "bf57b693-1d20-4dcd-ab38-f44b6cd3a89f",
   "metadata": {},
   "outputs": [
    {
     "name": "stdout",
     "output_type": "stream",
     "text": [
      "Requirement already satisfied: lime in /usr/local/lib/python3.8/site-packages (0.2.0.1)\n",
      "Requirement already satisfied: scikit-learn>=0.18 in /usr/local/lib/python3.8/site-packages (from lime) (1.0)\n",
      "Requirement already satisfied: numpy in /usr/local/lib/python3.8/site-packages (from lime) (1.19.5)\n",
      "Requirement already satisfied: scikit-image>=0.12 in /usr/local/lib/python3.8/site-packages (from lime) (0.18.3)\n",
      "Requirement already satisfied: tqdm in /usr/local/lib/python3.8/site-packages (from lime) (4.62.3)\n",
      "Requirement already satisfied: matplotlib in /usr/local/lib/python3.8/site-packages (from lime) (3.4.3)\n",
      "Requirement already satisfied: scipy in /usr/local/lib/python3.8/site-packages (from lime) (1.7.1)\n",
      "Requirement already satisfied: pillow!=7.1.0,!=7.1.1,>=4.3.0 in /usr/local/lib/python3.8/site-packages (from scikit-image>=0.12->lime) (8.3.2)\n",
      "Requirement already satisfied: networkx>=2.0 in /usr/local/lib/python3.8/site-packages (from scikit-image>=0.12->lime) (2.5)\n",
      "Requirement already satisfied: imageio>=2.3.0 in /usr/local/lib/python3.8/site-packages (from scikit-image>=0.12->lime) (2.10.1)\n",
      "Requirement already satisfied: tifffile>=2019.7.26 in /usr/local/lib/python3.8/site-packages (from scikit-image>=0.12->lime) (2021.11.2)\n",
      "Requirement already satisfied: PyWavelets>=1.1.1 in /usr/local/lib/python3.8/site-packages (from scikit-image>=0.12->lime) (1.1.1)\n",
      "Requirement already satisfied: kiwisolver>=1.0.1 in /usr/local/lib/python3.8/site-packages (from matplotlib->lime) (1.3.2)\n",
      "Requirement already satisfied: pyparsing>=2.2.1 in /usr/local/lib/python3.8/site-packages (from matplotlib->lime) (2.4.7)\n",
      "Requirement already satisfied: python-dateutil>=2.7 in /usr/local/lib/python3.8/site-packages (from matplotlib->lime) (2.8.2)\n",
      "Requirement already satisfied: cycler>=0.10 in /usr/local/lib/python3.8/site-packages (from matplotlib->lime) (0.10.0)\n",
      "Requirement already satisfied: six in /usr/local/lib/python3.8/site-packages (from cycler>=0.10->matplotlib->lime) (1.15.0)\n",
      "Requirement already satisfied: decorator>=4.3.0 in /usr/local/lib/python3.8/site-packages (from networkx>=2.0->scikit-image>=0.12->lime) (5.1.0)\n",
      "Requirement already satisfied: joblib>=0.11 in /usr/local/lib/python3.8/site-packages (from scikit-learn>=0.18->lime) (1.0.1)\n",
      "Requirement already satisfied: threadpoolctl>=2.0.0 in /usr/local/lib/python3.8/site-packages (from scikit-learn>=0.18->lime) (2.2.0)\n",
      "\u001b[33mWARNING: Running pip as the 'root' user can result in broken permissions and conflicting behaviour with the system package manager. It is recommended to use a virtual environment instead: https://pip.pypa.io/warnings/venv\u001b[0m\n",
      "\u001b[33mWARNING: You are using pip version 21.1.3; however, version 21.3.1 is available.\n",
      "You should consider upgrading via the '/usr/local/bin/python -m pip install --upgrade pip' command.\u001b[0m\n",
      "Requirement already satisfied: shap in /usr/local/lib/python3.8/site-packages (0.39.0)\n",
      "Requirement already satisfied: slicer==0.0.7 in /usr/local/lib/python3.8/site-packages (from shap) (0.0.7)\n",
      "Requirement already satisfied: tqdm>4.25.0 in /usr/local/lib/python3.8/site-packages (from shap) (4.62.3)\n",
      "Requirement already satisfied: pandas in /usr/local/lib/python3.8/site-packages (from shap) (1.3.3)\n",
      "Requirement already satisfied: numpy in /usr/local/lib/python3.8/site-packages (from shap) (1.19.5)\n",
      "Requirement already satisfied: scipy in /usr/local/lib/python3.8/site-packages (from shap) (1.7.1)\n",
      "Requirement already satisfied: cloudpickle in /usr/local/lib/python3.8/site-packages (from shap) (2.0.0)\n",
      "Requirement already satisfied: scikit-learn in /usr/local/lib/python3.8/site-packages (from shap) (1.0)\n",
      "Requirement already satisfied: numba in /usr/local/lib/python3.8/site-packages (from shap) (0.53.1)\n",
      "Requirement already satisfied: setuptools in /usr/local/lib/python3.8/site-packages (from numba->shap) (57.0.0)\n",
      "Requirement already satisfied: llvmlite<0.37,>=0.36.0rc1 in /usr/local/lib/python3.8/site-packages (from numba->shap) (0.36.0)\n",
      "Requirement already satisfied: pytz>=2017.3 in /usr/local/lib/python3.8/site-packages (from pandas->shap) (2021.1)\n",
      "Requirement already satisfied: python-dateutil>=2.7.3 in /usr/local/lib/python3.8/site-packages (from pandas->shap) (2.8.2)\n",
      "Requirement already satisfied: six>=1.5 in /usr/local/lib/python3.8/site-packages (from python-dateutil>=2.7.3->pandas->shap) (1.15.0)\n",
      "Requirement already satisfied: joblib>=0.11 in /usr/local/lib/python3.8/site-packages (from scikit-learn->shap) (1.0.1)\n",
      "Requirement already satisfied: threadpoolctl>=2.0.0 in /usr/local/lib/python3.8/site-packages (from scikit-learn->shap) (2.2.0)\n",
      "\u001b[33mWARNING: Running pip as the 'root' user can result in broken permissions and conflicting behaviour with the system package manager. It is recommended to use a virtual environment instead: https://pip.pypa.io/warnings/venv\u001b[0m\n",
      "\u001b[33mWARNING: You are using pip version 21.1.3; however, version 21.3.1 is available.\n",
      "You should consider upgrading via the '/usr/local/bin/python -m pip install --upgrade pip' command.\u001b[0m\n"
     ]
    }
   ],
   "source": [
    "!pip install lime\n",
    "!pip install shap"
   ]
  },
  {
   "cell_type": "code",
   "execution_count": 2,
   "id": "f5e72ff0-7971-4464-ad09-c71a63b85ec7",
   "metadata": {},
   "outputs": [],
   "source": [
    "import time\n",
    "import os\n",
    "import librosa\n",
    "import numpy as np\n",
    "import tensorflow\n",
    "\n",
    "### SEED configuration\n",
    "from numpy.random import seed\n",
    "seed(1)\n",
    "from tensorflow import random\n",
    "random.set_seed(1)\n",
    "\n",
    "#!pip install keras-tuner  # en caso de necesitar instalarlo\n",
    "#import keras_tuner as kt\n",
    "from sklearn.model_selection import RandomizedSearchCV\n",
    "from sklearn import ensemble\n",
    "from sklearn.preprocessing import StandardScaler\n",
    "from sklearn.pipeline import Pipeline\n",
    "from sklearn.model_selection import train_test_split\n",
    "from sklearn.ensemble import RandomForestClassifier\n",
    "\n",
    "from sklearn.datasets import make_classification\n",
    "from sklearn.metrics import balanced_accuracy_score\n",
    "from sklearn.model_selection import StratifiedKFold\n",
    "from sklearn.preprocessing import StandardScaler\n",
    "from sklearn.metrics import classification_report,confusion_matrix\n",
    "import pandas as pd\n",
    "from sklearn.model_selection import train_test_split\n",
    "from sklearn.metrics import plot_confusion_matrix\n",
    "import matplotlib.pyplot as plt"
   ]
  },
  {
   "cell_type": "markdown",
   "id": "eaeaf083-38ee-44a4-986a-5ff84afff661",
   "metadata": {},
   "source": [
    "Cargando los MFCCs de 1440 audios  y 8 clases. (Aproximadamente 180 audios por clase)"
   ]
  },
  {
   "cell_type": "code",
   "execution_count": 3,
   "id": "2941eff3-5f00-4ff6-a22a-3cb939123d4d",
   "metadata": {},
   "outputs": [
    {
     "name": "stdout",
     "output_type": "stream",
     "text": [
      "Xb:(1440, 40), yb:(1440,)\n",
      "Xs:(1440, 12), ys:(1440,)\n"
     ]
    }
   ],
   "source": [
    "filename = 'processed_data/mfccs_big_and_small.npy'\n",
    "with open(filename, 'rb') as f:\n",
    "    Xb = np.load(f)\n",
    "    yb = np.load(f)\n",
    "    Xs = np.load(f)\n",
    "    ys = np.load(f)\n",
    "# Check that we've recovered the right data\n",
    "print(f'Xb:{Xb.shape}, yb:{yb.shape}')\n",
    "print(f'Xs:{Xs.shape}, ys:{ys.shape}')"
   ]
  },
  {
   "cell_type": "markdown",
   "id": "41bb3e66-5bcb-49ee-8ae3-bb97d5bae384",
   "metadata": {},
   "source": [
    "### Desbalanceo en la clase neutral"
   ]
  },
  {
   "cell_type": "code",
   "execution_count": 4,
   "id": "99d6cfb0-d5bc-4f6d-b45c-2e2f3e36265e",
   "metadata": {},
   "outputs": [],
   "source": [
    "label_conversion = {'1': 'neutral',\n",
    "                     '2': 'calm',\n",
    "                     '3': 'happy',\n",
    "                     '4': 'sad',\n",
    "                     '5': 'angry',\n",
    "                     '6': 'fearful',\n",
    "                     '7': 'disgust',\n",
    "                     '8': 'surprised'}"
   ]
  },
  {
   "cell_type": "markdown",
   "id": "983c1c77-502c-478f-bc5e-41efd00973a1",
   "metadata": {},
   "source": [
    "Observando:"
   ]
  },
  {
   "cell_type": "code",
   "execution_count": 5,
   "id": "5d4adeb9-8d13-4cca-83d4-3190d79c30f5",
   "metadata": {},
   "outputs": [
    {
     "data": {
      "text/plain": [
       "array([[<AxesSubplot:title={'center':'0'}>]], dtype=object)"
      ]
     },
     "execution_count": 5,
     "metadata": {},
     "output_type": "execute_result"
    },
    {
     "data": {
      "image/png": "[encoded data removed]",
      "text/plain": [
       "<Figure size 432x288 with 1 Axes>"
      ]
     },
     "metadata": {
      "needs_background": "light"
     },
     "output_type": "display_data"
    }
   ],
   "source": [
    "y_df = pd.DataFrame(ys)\n",
    "y_df.hist()"
   ]
  },
  {
   "cell_type": "markdown",
   "id": "40088e03-852c-4c2a-9e50-10e47798c55b",
   "metadata": {},
   "source": [
    "Calculando los pesos para entrenar un modelo random forest con pesos"
   ]
  },
  {
   "cell_type": "code",
   "execution_count": 6,
   "id": "ada8e387-86ae-49b6-b423-83bb0de864c4",
   "metadata": {},
   "outputs": [],
   "source": [
    "X_train_b, X_test_b, y_train_b, y_test_b = train_test_split(Xb, yb, test_size=0.10, random_state=42)\n",
    "X_train_s, X_test_s, y_train_s, y_test_s = train_test_split(Xs, ys, test_size=0.10, random_state=42)"
   ]
  },
  {
   "cell_type": "markdown",
   "id": "d1efdb4e-cc2e-47c4-97e0-b2c8b3bd9a68",
   "metadata": {},
   "source": [
    "### Comenzando el análisis con 12 coeficientes"
   ]
  },
  {
   "cell_type": "code",
   "execution_count": 7,
   "id": "501e952d-04c4-48d0-ae5c-a9d3433dba50",
   "metadata": {},
   "outputs": [
    {
     "data": {
      "text/plain": [
       "RandomForestClassifier(bootstrap=False, class_weight='balanced', max_depth=20,\n",
       "                       n_estimators=1800)"
      ]
     },
     "execution_count": 7,
     "metadata": {},
     "output_type": "execute_result"
    }
   ],
   "source": [
    "model = RandomForestClassifier(bootstrap=False, max_depth=20, n_estimators=1800,class_weight='balanced')\n",
    "model.fit(X_train_s,y_train_s)"
   ]
  },
  {
   "cell_type": "code",
   "execution_count": 8,
   "id": "724c0480-5473-4413-93a9-bd3105d6d336",
   "metadata": {},
   "outputs": [
    {
     "name": "stderr",
     "output_type": "stream",
     "text": [
      "/usr/local/lib/python3.8/site-packages/sklearn/utils/deprecation.py:87: FutureWarning: Function plot_confusion_matrix is deprecated; Function `plot_confusion_matrix` is deprecated in 1.0 and will be removed in 1.2. Use one of the class methods: ConfusionMatrixDisplay.from_predictions or ConfusionMatrixDisplay.from_estimator.\n",
      "  warnings.warn(msg, category=FutureWarning)\n"
     ]
    },
    {
     "data": {
      "image/png": "[encoded data removed]",
      "text/plain": [
       "<Figure size 432x288 with 2 Axes>"
      ]
     },
     "metadata": {
      "needs_background": "light"
     },
     "output_type": "display_data"
    }
   ],
   "source": [
    "plot_confusion_matrix(model, X_test_s, y_test_s)\n",
    "plt.show() "
   ]
  },
  {
   "cell_type": "markdown",
   "id": "373e5297-5e99-4c2e-9d96-f2b7addb29e6",
   "metadata": {},
   "source": [
    "### Tuning"
   ]
  },
  {
   "cell_type": "code",
   "execution_count": 9,
   "id": "b0ff5173-fa49-4204-b8b9-3cee10f17a29",
   "metadata": {},
   "outputs": [
    {
     "name": "stdout",
     "output_type": "stream",
     "text": [
      "{'n_estimators': [1500, 1611, 1722, 1833, 1944, 2055, 2166, 2277, 2388, 2500], 'max_features': ['auto', 'sqrt'], 'max_depth': [10, 20, 30, 40, 50, 60, 70, 80, 90, 100, 110, None], 'min_samples_split': [2, 5, 10], 'min_samples_leaf': [1, 2, 4], 'bootstrap': [True, False]}\n"
     ]
    }
   ],
   "source": [
    "# Number of trees in random forest\n",
    "n_estimators = [int(x) for x in np.linspace(start = 1500, stop = 2500, num = 10)]\n",
    "# Number of features to consider at every split\n",
    "max_features = ['auto', 'sqrt']\n",
    "# Maximum number of levels in tree\n",
    "max_depth = [int(x) for x in np.linspace(10, 110, num = 11)]\n",
    "max_depth.append(None)\n",
    "# Minimum number of samples required to split a node\n",
    "min_samples_split = [2, 5, 10]\n",
    "# Minimum number of samples required at each leaf node\n",
    "min_samples_leaf = [1, 2, 4]\n",
    "# Method of selecting samples for training each tree\n",
    "bootstrap = [True, False]\n",
    "# Create the random grid\n",
    "random_grid = {'n_estimators': n_estimators,\n",
    "               'max_features': max_features,\n",
    "               'max_depth': max_depth,\n",
    "               'min_samples_split': min_samples_split,\n",
    "               'min_samples_leaf': min_samples_leaf,\n",
    "               'bootstrap': bootstrap}\n",
    "print(random_grid)"
   ]
  },
  {
   "cell_type": "code",
   "execution_count": 10,
   "id": "a19a09bf-bd65-4978-987a-4539fa5b1801",
   "metadata": {},
   "outputs": [
    {
     "name": "stdout",
     "output_type": "stream",
     "text": [
      "Fitting 3 folds for each of 100 candidates, totalling 300 fits\n"
     ]
    },
    {
     "data": {
      "text/plain": [
       "RandomizedSearchCV(cv=3,\n",
       "                   estimator=RandomForestClassifier(class_weight='balanced'),\n",
       "                   n_iter=100, n_jobs=-1,\n",
       "                   param_distributions={'bootstrap': [True, False],\n",
       "                                        'max_depth': [10, 20, 30, 40, 50, 60,\n",
       "                                                      70, 80, 90, 100, 110,\n",
       "                                                      None],\n",
       "                                        'max_features': ['auto', 'sqrt'],\n",
       "                                        'min_samples_leaf': [1, 2, 4],\n",
       "                                        'min_samples_split': [2, 5, 10],\n",
       "                                        'n_estimators': [1500, 1611, 1722, 1833,\n",
       "                                                         1944, 2055, 2166, 2277,\n",
       "                                                         2388, 2500]},\n",
       "                   random_state=42, verbose=2)"
      ]
     },
     "execution_count": 10,
     "metadata": {},
     "output_type": "execute_result"
    }
   ],
   "source": [
    "# Use the random grid to search for best hyperparameters\n",
    "# First create the base model to tune\n",
    "rf = RandomForestClassifier(class_weight='balanced')\n",
    "# Random search of parameters, using 3 fold cross validation, \n",
    "# search across 100 different combinations, and use all available cores\n",
    "rf_random = RandomizedSearchCV(estimator = rf, param_distributions = random_grid, n_iter = 100, cv = 3, verbose=2, random_state=42, n_jobs = -1)\n",
    "# Fit the random search model\n",
    "rf_random.fit(X_train_s, y_train_s)"
   ]
  },
  {
   "cell_type": "markdown",
   "id": "0e2a9b9e-ee77-4bfa-a96f-9041ff51f2d6",
   "metadata": {},
   "source": [
    "Los mejores parámetros obtenidos son"
   ]
  },
  {
   "cell_type": "code",
   "execution_count": 11,
   "id": "2f5c4445-f3df-4f25-9ade-d0ac593c7cc3",
   "metadata": {},
   "outputs": [
    {
     "data": {
      "text/plain": [
       "{'n_estimators': 1944,\n",
       " 'min_samples_split': 2,\n",
       " 'min_samples_leaf': 1,\n",
       " 'max_features': 'auto',\n",
       " 'max_depth': 50,\n",
       " 'bootstrap': False}"
      ]
     },
     "execution_count": 11,
     "metadata": {},
     "output_type": "execute_result"
    }
   ],
   "source": [
    "rf_random.best_params_"
   ]
  },
  {
   "cell_type": "markdown",
   "id": "5fd6e958-d19f-43f7-aa36-419315b712ad",
   "metadata": {},
   "source": [
    "### Evaluando la mejora"
   ]
  },
  {
   "cell_type": "code",
   "execution_count": 12,
   "id": "a37828ec-e045-4b2f-abe4-150bbd0b395d",
   "metadata": {},
   "outputs": [],
   "source": [
    "def evaluate(model, test_features, test_labels):\n",
    "    predictions = model.predict(test_features)\n",
    "    errors = abs(predictions - test_labels)\n",
    "    mape = 100 * np.mean(errors / test_labels)\n",
    "    accuracy = 100 - mape\n",
    "    print('Model Performance')\n",
    "    print('Average Error: {:0.4f} degrees.'.format(np.mean(errors)))\n",
    "    print('Accuracy = {:0.2f}%.'.format(accuracy))\n",
    "    \n",
    "    return accuracy"
   ]
  },
  {
   "cell_type": "code",
   "execution_count": 13,
   "id": "d85a15a1-cca8-4fcd-9be1-7136ad598ebd",
   "metadata": {},
   "outputs": [
    {
     "name": "stdout",
     "output_type": "stream",
     "text": [
      "Model Performance\n",
      "Average Error: 0.9722 degrees.\n",
      "Accuracy = 74.80%.\n",
      "Model Performance\n",
      "Average Error: 0.9792 degrees.\n",
      "Accuracy = 74.02%.\n",
      "Improvement of -1.04%.\n"
     ]
    }
   ],
   "source": [
    "# Baseline\n",
    "base_model = RandomForestClassifier(bootstrap=False, max_depth=20, n_estimators=1800,class_weight='balanced')\n",
    "\n",
    "# Base Accuracy\n",
    "base_model.fit(X_train_s, y_train_s)\n",
    "base_accuracy = evaluate(base_model, X_test_s, y_test_s)\n",
    "\n",
    "# Best Model by Random Search\n",
    "best_random = rf_random.best_estimator_\n",
    "random_accuracy = evaluate(best_random, X_test_s, y_test_s)\n",
    "\n",
    "print('Improvement of {:0.2f}%.'.format( 100 * (random_accuracy - base_accuracy) / base_accuracy))"
   ]
  },
  {
   "cell_type": "markdown",
   "id": "beca572c-1ee5-49c8-8e94-aa8da00f8ea0",
   "metadata": {},
   "source": [
    "### Realizando el mismo proceso con 40 coeficientes"
   ]
  },
  {
   "cell_type": "code",
   "execution_count": 14,
   "id": "7313f7d2-a27c-441c-aaf4-7f9c1fb4658f",
   "metadata": {},
   "outputs": [
    {
     "data": {
      "text/plain": [
       "RandomForestClassifier(bootstrap=False, class_weight='balanced', max_depth=20,\n",
       "                       n_estimators=1800)"
      ]
     },
     "execution_count": 14,
     "metadata": {},
     "output_type": "execute_result"
    }
   ],
   "source": [
    "model = RandomForestClassifier(bootstrap=False, max_depth=20, n_estimators=1800,class_weight='balanced')\n",
    "model.fit(X_train_b,y_train_b)"
   ]
  },
  {
   "cell_type": "code",
   "execution_count": 15,
   "id": "ff0a45c6-4eaa-4705-8ae7-4b4cb6461df3",
   "metadata": {},
   "outputs": [
    {
     "name": "stderr",
     "output_type": "stream",
     "text": [
      "/usr/local/lib/python3.8/site-packages/sklearn/utils/deprecation.py:87: FutureWarning: Function plot_confusion_matrix is deprecated; Function `plot_confusion_matrix` is deprecated in 1.0 and will be removed in 1.2. Use one of the class methods: ConfusionMatrixDisplay.from_predictions or ConfusionMatrixDisplay.from_estimator.\n",
      "  warnings.warn(msg, category=FutureWarning)\n"
     ]
    },
    {
     "data": {
      "image/png": "[encoded data removed]",
      "text/plain": [
       "<Figure size 432x288 with 2 Axes>"
      ]
     },
     "metadata": {
      "needs_background": "light"
     },
     "output_type": "display_data"
    }
   ],
   "source": [
    "plot_confusion_matrix(model, X_test_b, y_test_b)\n",
    "plt.show() "
   ]
  },
  {
   "cell_type": "code",
   "execution_count": 20,
   "id": "b1cd22ea-708b-4659-8742-30dae0945262",
   "metadata": {},
   "outputs": [
    {
     "name": "stdout",
     "output_type": "stream",
     "text": [
      "Fitting 3 folds for each of 100 candidates, totalling 300 fits\n"
     ]
    },
    {
     "data": {
      "text/plain": [
       "RandomizedSearchCV(cv=3,\n",
       "                   estimator=RandomForestClassifier(class_weight='balanced'),\n",
       "                   n_iter=100, n_jobs=-1,\n",
       "                   param_distributions={'bootstrap': [True, False],\n",
       "                                        'max_depth': [10, 20, 30, 40, 50, 60,\n",
       "                                                      70, 80, 90, 100, 110,\n",
       "                                                      None],\n",
       "                                        'max_features': ['auto', 'sqrt'],\n",
       "                                        'min_samples_leaf': [1, 2, 4],\n",
       "                                        'min_samples_split': [2, 5, 10],\n",
       "                                        'n_estimators': [1500, 1611, 1722, 1833,\n",
       "                                                         1944, 2055, 2166, 2277,\n",
       "                                                         2388, 2500]},\n",
       "                   random_state=42, verbose=2)"
      ]
     },
     "execution_count": 20,
     "metadata": {},
     "output_type": "execute_result"
    }
   ],
   "source": [
    "# Use the random grid to search for best hyperparameters\n",
    "# First create the base model to tune\n",
    "rf = RandomForestClassifier(class_weight='balanced')\n",
    "# Random search of parameters, using 3 fold cross validation, \n",
    "# search across 100 different combinations, and use all available cores\n",
    "rf_random = RandomizedSearchCV(estimator = rf, param_distributions = random_grid, n_iter = 100, cv = 3, verbose=2, random_state=42, n_jobs = -1)\n",
    "# Fit the random search model\n",
    "rf_random.fit(X_train_b, y_train_b)"
   ]
  },
  {
   "cell_type": "markdown",
   "id": "ec1c2f7d-02f3-42bc-a711-de56dffcedb4",
   "metadata": {},
   "source": [
    "Utilizando más MFCCs cambia la distribución de los mejores parámetros obteniendo:"
   ]
  },
  {
   "cell_type": "code",
   "execution_count": 21,
   "id": "ea067d53-e7da-43c8-9055-cd87af4ff4ea",
   "metadata": {},
   "outputs": [
    {
     "data": {
      "text/plain": [
       "{'n_estimators': 1611,\n",
       " 'min_samples_split': 2,\n",
       " 'min_samples_leaf': 1,\n",
       " 'max_features': 'sqrt',\n",
       " 'max_depth': None,\n",
       " 'bootstrap': False}"
      ]
     },
     "execution_count": 21,
     "metadata": {},
     "output_type": "execute_result"
    }
   ],
   "source": [
    "rf_random.best_params_"
   ]
  },
  {
   "cell_type": "code",
   "execution_count": 22,
   "id": "eb58c9c1-aafe-43c5-8b04-3f69a9064317",
   "metadata": {},
   "outputs": [
    {
     "name": "stdout",
     "output_type": "stream",
     "text": [
      "Model Performance\n",
      "Average Error: 0.7778 degrees.\n",
      "Accuracy = 81.58%.\n",
      "Model Performance\n",
      "Average Error: 0.7639 degrees.\n",
      "Accuracy = 81.61%.\n",
      "Improvement of 0.04%.\n"
     ]
    }
   ],
   "source": [
    "# Baseline\n",
    "base_model = RandomForestClassifier(bootstrap=False, max_depth=20, n_estimators=1800,class_weight='balanced')\n",
    "\n",
    "# Base Accuracy\n",
    "base_model.fit(X_train_b, y_train_b)\n",
    "base_accuracy = evaluate(base_model, X_test_b, y_test_b)\n",
    "\n",
    "# Best Model by Random Search\n",
    "best_random = rf_random.best_estimator_\n",
    "random_accuracy = evaluate(best_random, X_test_b, y_test_b)\n",
    "\n",
    "print('Improvement of {:0.2f}%.'.format( 100 * (random_accuracy - base_accuracy) / base_accuracy))"
   ]
  },
  {
   "cell_type": "markdown",
   "id": "1c9597d8-cb43-486e-8ea5-7b988c2ff47e",
   "metadata": {},
   "source": [
    "### Intentando un análisis de SHAP con 40 MFCCs en relación a la calma y el disgusto. "
   ]
  },
  {
   "cell_type": "markdown",
   "id": "1b2e376e-d2a2-4516-933c-e0a6325c9e8e",
   "metadata": {},
   "source": [
    "Creando los nombres de los coeficientes"
   ]
  },
  {
   "cell_type": "code",
   "execution_count": 23,
   "id": "78101a4a-e2b1-427d-970e-284c9cafc621",
   "metadata": {},
   "outputs": [],
   "source": [
    "col = list()\n",
    "for i in range(40):\n",
    "    name = 'c'+str(i)\n",
    "    col.append(name)"
   ]
  },
  {
   "cell_type": "code",
   "execution_count": 24,
   "id": "1231d214-20e6-40c0-85fb-b951bb56ffce",
   "metadata": {},
   "outputs": [],
   "source": [
    "Xb_df = pd.DataFrame(Xb, columns = col)"
   ]
  },
  {
   "cell_type": "code",
   "execution_count": 25,
   "id": "30db76b5-35ba-4715-a4e1-af6088c3654b",
   "metadata": {},
   "outputs": [
    {
     "data": {
      "text/html": [
       "<div>\n",
       "<style scoped>\n",
       "    .dataframe tbody tr th:only-of-type {\n",
       "        vertical-align: middle;\n",
       "    }\n",
       "\n",
       "    .dataframe tbody tr th {\n",
       "        vertical-align: top;\n",
       "    }\n",
       "\n",
       "    .dataframe thead th {\n",
       "        text-align: right;\n",
       "    }\n",
       "</style>\n",
       "<table border=\"1\" class=\"dataframe\">\n",
       "  <thead>\n",
       "    <tr style=\"text-align: right;\">\n",
       "      <th></th>\n",
       "      <th>c0</th>\n",
       "      <th>c1</th>\n",
       "      <th>c2</th>\n",
       "      <th>c3</th>\n",
       "      <th>c4</th>\n",
       "      <th>c5</th>\n",
       "      <th>c6</th>\n",
       "      <th>c7</th>\n",
       "      <th>c8</th>\n",
       "      <th>c9</th>\n",
       "      <th>...</th>\n",
       "      <th>c30</th>\n",
       "      <th>c31</th>\n",
       "      <th>c32</th>\n",
       "      <th>c33</th>\n",
       "      <th>c34</th>\n",
       "      <th>c35</th>\n",
       "      <th>c36</th>\n",
       "      <th>c37</th>\n",
       "      <th>c38</th>\n",
       "      <th>c39</th>\n",
       "    </tr>\n",
       "  </thead>\n",
       "  <tbody>\n",
       "    <tr>\n",
       "      <th>0</th>\n",
       "      <td>-712.916632</td>\n",
       "      <td>75.358159</td>\n",
       "      <td>3.621730</td>\n",
       "      <td>13.432812</td>\n",
       "      <td>6.055151</td>\n",
       "      <td>14.996539</td>\n",
       "      <td>-3.295746</td>\n",
       "      <td>3.384919</td>\n",
       "      <td>-3.657656</td>\n",
       "      <td>-1.698236</td>\n",
       "      <td>...</td>\n",
       "      <td>0.507562</td>\n",
       "      <td>-1.536800</td>\n",
       "      <td>-3.218657</td>\n",
       "      <td>-0.003591</td>\n",
       "      <td>-0.543979</td>\n",
       "      <td>-0.643697</td>\n",
       "      <td>0.043363</td>\n",
       "      <td>-1.321510</td>\n",
       "      <td>-1.759040</td>\n",
       "      <td>-1.578606</td>\n",
       "    </tr>\n",
       "    <tr>\n",
       "      <th>1</th>\n",
       "      <td>-703.129846</td>\n",
       "      <td>77.326490</td>\n",
       "      <td>0.811700</td>\n",
       "      <td>14.067484</td>\n",
       "      <td>8.303788</td>\n",
       "      <td>15.496743</td>\n",
       "      <td>-4.974930</td>\n",
       "      <td>4.534601</td>\n",
       "      <td>-4.316286</td>\n",
       "      <td>-4.447952</td>\n",
       "      <td>...</td>\n",
       "      <td>0.273331</td>\n",
       "      <td>-2.848086</td>\n",
       "      <td>-3.357191</td>\n",
       "      <td>0.407848</td>\n",
       "      <td>-0.573365</td>\n",
       "      <td>-1.588466</td>\n",
       "      <td>0.244208</td>\n",
       "      <td>-1.126646</td>\n",
       "      <td>-2.357637</td>\n",
       "      <td>-1.192158</td>\n",
       "    </tr>\n",
       "    <tr>\n",
       "      <th>2</th>\n",
       "      <td>-702.786108</td>\n",
       "      <td>75.008431</td>\n",
       "      <td>3.531222</td>\n",
       "      <td>12.218309</td>\n",
       "      <td>6.310768</td>\n",
       "      <td>11.260469</td>\n",
       "      <td>-3.783149</td>\n",
       "      <td>4.255870</td>\n",
       "      <td>-5.443272</td>\n",
       "      <td>-3.486488</td>\n",
       "      <td>...</td>\n",
       "      <td>-0.052613</td>\n",
       "      <td>-1.047554</td>\n",
       "      <td>-3.363821</td>\n",
       "      <td>-0.471607</td>\n",
       "      <td>-0.980246</td>\n",
       "      <td>-1.060577</td>\n",
       "      <td>-0.239832</td>\n",
       "      <td>-1.303470</td>\n",
       "      <td>-1.942153</td>\n",
       "      <td>-1.649498</td>\n",
       "    </tr>\n",
       "    <tr>\n",
       "      <th>3</th>\n",
       "      <td>-704.551649</td>\n",
       "      <td>70.019013</td>\n",
       "      <td>5.584466</td>\n",
       "      <td>13.946856</td>\n",
       "      <td>6.371682</td>\n",
       "      <td>12.725988</td>\n",
       "      <td>-2.490561</td>\n",
       "      <td>5.662441</td>\n",
       "      <td>-4.946397</td>\n",
       "      <td>-3.181764</td>\n",
       "      <td>...</td>\n",
       "      <td>-0.395063</td>\n",
       "      <td>-1.533994</td>\n",
       "      <td>-3.011586</td>\n",
       "      <td>-0.611432</td>\n",
       "      <td>-0.917090</td>\n",
       "      <td>-0.605942</td>\n",
       "      <td>0.521824</td>\n",
       "      <td>-1.710644</td>\n",
       "      <td>-1.907542</td>\n",
       "      <td>-1.765641</td>\n",
       "    </tr>\n",
       "    <tr>\n",
       "      <th>4</th>\n",
       "      <td>-732.367422</td>\n",
       "      <td>88.758566</td>\n",
       "      <td>6.665467</td>\n",
       "      <td>16.737361</td>\n",
       "      <td>7.218538</td>\n",
       "      <td>16.858025</td>\n",
       "      <td>-3.897938</td>\n",
       "      <td>5.073871</td>\n",
       "      <td>-6.443878</td>\n",
       "      <td>-1.111536</td>\n",
       "      <td>...</td>\n",
       "      <td>0.218540</td>\n",
       "      <td>-2.604790</td>\n",
       "      <td>-3.351783</td>\n",
       "      <td>0.544606</td>\n",
       "      <td>-1.188930</td>\n",
       "      <td>-1.647135</td>\n",
       "      <td>0.410808</td>\n",
       "      <td>-1.799680</td>\n",
       "      <td>-1.486435</td>\n",
       "      <td>-0.736792</td>\n",
       "    </tr>\n",
       "  </tbody>\n",
       "</table>\n",
       "<p>5 rows × 40 columns</p>\n",
       "</div>"
      ],
      "text/plain": [
       "           c0         c1        c2         c3        c4         c5        c6  \\\n",
       "0 -712.916632  75.358159  3.621730  13.432812  6.055151  14.996539 -3.295746   \n",
       "1 -703.129846  77.326490  0.811700  14.067484  8.303788  15.496743 -4.974930   \n",
       "2 -702.786108  75.008431  3.531222  12.218309  6.310768  11.260469 -3.783149   \n",
       "3 -704.551649  70.019013  5.584466  13.946856  6.371682  12.725988 -2.490561   \n",
       "4 -732.367422  88.758566  6.665467  16.737361  7.218538  16.858025 -3.897938   \n",
       "\n",
       "         c7        c8        c9  ...       c30       c31       c32       c33  \\\n",
       "0  3.384919 -3.657656 -1.698236  ...  0.507562 -1.536800 -3.218657 -0.003591   \n",
       "1  4.534601 -4.316286 -4.447952  ...  0.273331 -2.848086 -3.357191  0.407848   \n",
       "2  4.255870 -5.443272 -3.486488  ... -0.052613 -1.047554 -3.363821 -0.471607   \n",
       "3  5.662441 -4.946397 -3.181764  ... -0.395063 -1.533994 -3.011586 -0.611432   \n",
       "4  5.073871 -6.443878 -1.111536  ...  0.218540 -2.604790 -3.351783  0.544606   \n",
       "\n",
       "        c34       c35       c36       c37       c38       c39  \n",
       "0 -0.543979 -0.643697  0.043363 -1.321510 -1.759040 -1.578606  \n",
       "1 -0.573365 -1.588466  0.244208 -1.126646 -2.357637 -1.192158  \n",
       "2 -0.980246 -1.060577 -0.239832 -1.303470 -1.942153 -1.649498  \n",
       "3 -0.917090 -0.605942  0.521824 -1.710644 -1.907542 -1.765641  \n",
       "4 -1.188930 -1.647135  0.410808 -1.799680 -1.486435 -0.736792  \n",
       "\n",
       "[5 rows x 40 columns]"
      ]
     },
     "execution_count": 25,
     "metadata": {},
     "output_type": "execute_result"
    }
   ],
   "source": [
    "Xb_df.head()"
   ]
  },
  {
   "cell_type": "code",
   "execution_count": 26,
   "id": "9d75fc7f-1fde-4873-a2b4-2b20b2754fd1",
   "metadata": {},
   "outputs": [],
   "source": [
    "X_test_b_df = pd.DataFrame(X_test_b, columns = col)"
   ]
  },
  {
   "cell_type": "code",
   "execution_count": 27,
   "id": "8b8b8f05-9ce6-44a0-99e4-8196be43f9db",
   "metadata": {},
   "outputs": [
    {
     "data": {
      "text/html": [
       "<div>\n",
       "<style scoped>\n",
       "    .dataframe tbody tr th:only-of-type {\n",
       "        vertical-align: middle;\n",
       "    }\n",
       "\n",
       "    .dataframe tbody tr th {\n",
       "        vertical-align: top;\n",
       "    }\n",
       "\n",
       "    .dataframe thead th {\n",
       "        text-align: right;\n",
       "    }\n",
       "</style>\n",
       "<table border=\"1\" class=\"dataframe\">\n",
       "  <thead>\n",
       "    <tr style=\"text-align: right;\">\n",
       "      <th></th>\n",
       "      <th>c0</th>\n",
       "      <th>c1</th>\n",
       "      <th>c2</th>\n",
       "      <th>c3</th>\n",
       "      <th>c4</th>\n",
       "      <th>c5</th>\n",
       "      <th>c6</th>\n",
       "      <th>c7</th>\n",
       "      <th>c8</th>\n",
       "      <th>c9</th>\n",
       "      <th>...</th>\n",
       "      <th>c30</th>\n",
       "      <th>c31</th>\n",
       "      <th>c32</th>\n",
       "      <th>c33</th>\n",
       "      <th>c34</th>\n",
       "      <th>c35</th>\n",
       "      <th>c36</th>\n",
       "      <th>c37</th>\n",
       "      <th>c38</th>\n",
       "      <th>c39</th>\n",
       "    </tr>\n",
       "  </thead>\n",
       "  <tbody>\n",
       "    <tr>\n",
       "      <th>0</th>\n",
       "      <td>-536.251254</td>\n",
       "      <td>92.255721</td>\n",
       "      <td>-7.260184</td>\n",
       "      <td>16.638079</td>\n",
       "      <td>5.525358</td>\n",
       "      <td>18.834933</td>\n",
       "      <td>-19.968775</td>\n",
       "      <td>0.410151</td>\n",
       "      <td>-16.074328</td>\n",
       "      <td>4.008135</td>\n",
       "      <td>...</td>\n",
       "      <td>-3.841538</td>\n",
       "      <td>-2.976687</td>\n",
       "      <td>-4.315437</td>\n",
       "      <td>-1.556344</td>\n",
       "      <td>-3.149603</td>\n",
       "      <td>-0.012936</td>\n",
       "      <td>-2.107487</td>\n",
       "      <td>-1.881014</td>\n",
       "      <td>-3.171852</td>\n",
       "      <td>-1.041807</td>\n",
       "    </tr>\n",
       "    <tr>\n",
       "      <th>1</th>\n",
       "      <td>-740.436881</td>\n",
       "      <td>91.549474</td>\n",
       "      <td>18.336580</td>\n",
       "      <td>31.336648</td>\n",
       "      <td>11.072918</td>\n",
       "      <td>23.451171</td>\n",
       "      <td>5.604482</td>\n",
       "      <td>9.802121</td>\n",
       "      <td>2.593162</td>\n",
       "      <td>0.686124</td>\n",
       "      <td>...</td>\n",
       "      <td>-0.143490</td>\n",
       "      <td>-0.859826</td>\n",
       "      <td>-1.929317</td>\n",
       "      <td>0.810811</td>\n",
       "      <td>-1.371456</td>\n",
       "      <td>-1.013018</td>\n",
       "      <td>-1.642248</td>\n",
       "      <td>0.629566</td>\n",
       "      <td>0.121958</td>\n",
       "      <td>-0.444504</td>\n",
       "    </tr>\n",
       "    <tr>\n",
       "      <th>2</th>\n",
       "      <td>-551.685756</td>\n",
       "      <td>83.588441</td>\n",
       "      <td>-1.258835</td>\n",
       "      <td>8.126912</td>\n",
       "      <td>-0.182136</td>\n",
       "      <td>14.700079</td>\n",
       "      <td>-16.404759</td>\n",
       "      <td>-0.906090</td>\n",
       "      <td>-18.563803</td>\n",
       "      <td>-11.216289</td>\n",
       "      <td>...</td>\n",
       "      <td>-3.039757</td>\n",
       "      <td>-0.836400</td>\n",
       "      <td>0.941859</td>\n",
       "      <td>5.862033</td>\n",
       "      <td>6.546326</td>\n",
       "      <td>6.125977</td>\n",
       "      <td>7.436320</td>\n",
       "      <td>6.458670</td>\n",
       "      <td>5.995835</td>\n",
       "      <td>7.381008</td>\n",
       "    </tr>\n",
       "    <tr>\n",
       "      <th>3</th>\n",
       "      <td>-636.175372</td>\n",
       "      <td>87.146134</td>\n",
       "      <td>-7.884517</td>\n",
       "      <td>10.127150</td>\n",
       "      <td>-0.848407</td>\n",
       "      <td>3.994573</td>\n",
       "      <td>-13.146501</td>\n",
       "      <td>5.135944</td>\n",
       "      <td>-13.706629</td>\n",
       "      <td>-5.002185</td>\n",
       "      <td>...</td>\n",
       "      <td>-1.288613</td>\n",
       "      <td>-1.311622</td>\n",
       "      <td>0.154844</td>\n",
       "      <td>0.218891</td>\n",
       "      <td>2.335139</td>\n",
       "      <td>4.751294</td>\n",
       "      <td>3.110523</td>\n",
       "      <td>4.057819</td>\n",
       "      <td>4.742047</td>\n",
       "      <td>2.705476</td>\n",
       "    </tr>\n",
       "    <tr>\n",
       "      <th>4</th>\n",
       "      <td>-540.464330</td>\n",
       "      <td>76.908962</td>\n",
       "      <td>2.425845</td>\n",
       "      <td>20.243292</td>\n",
       "      <td>-1.637381</td>\n",
       "      <td>11.062681</td>\n",
       "      <td>-5.706190</td>\n",
       "      <td>5.695498</td>\n",
       "      <td>-0.769288</td>\n",
       "      <td>-0.626422</td>\n",
       "      <td>...</td>\n",
       "      <td>-1.451554</td>\n",
       "      <td>-0.717905</td>\n",
       "      <td>-2.346692</td>\n",
       "      <td>0.343195</td>\n",
       "      <td>-0.735396</td>\n",
       "      <td>-1.296848</td>\n",
       "      <td>-0.992322</td>\n",
       "      <td>-0.539070</td>\n",
       "      <td>-0.480849</td>\n",
       "      <td>0.386345</td>\n",
       "    </tr>\n",
       "  </tbody>\n",
       "</table>\n",
       "<p>5 rows × 40 columns</p>\n",
       "</div>"
      ],
      "text/plain": [
       "           c0         c1         c2         c3         c4         c5  \\\n",
       "0 -536.251254  92.255721  -7.260184  16.638079   5.525358  18.834933   \n",
       "1 -740.436881  91.549474  18.336580  31.336648  11.072918  23.451171   \n",
       "2 -551.685756  83.588441  -1.258835   8.126912  -0.182136  14.700079   \n",
       "3 -636.175372  87.146134  -7.884517  10.127150  -0.848407   3.994573   \n",
       "4 -540.464330  76.908962   2.425845  20.243292  -1.637381  11.062681   \n",
       "\n",
       "          c6        c7         c8         c9  ...       c30       c31  \\\n",
       "0 -19.968775  0.410151 -16.074328   4.008135  ... -3.841538 -2.976687   \n",
       "1   5.604482  9.802121   2.593162   0.686124  ... -0.143490 -0.859826   \n",
       "2 -16.404759 -0.906090 -18.563803 -11.216289  ... -3.039757 -0.836400   \n",
       "3 -13.146501  5.135944 -13.706629  -5.002185  ... -1.288613 -1.311622   \n",
       "4  -5.706190  5.695498  -0.769288  -0.626422  ... -1.451554 -0.717905   \n",
       "\n",
       "        c32       c33       c34       c35       c36       c37       c38  \\\n",
       "0 -4.315437 -1.556344 -3.149603 -0.012936 -2.107487 -1.881014 -3.171852   \n",
       "1 -1.929317  0.810811 -1.371456 -1.013018 -1.642248  0.629566  0.121958   \n",
       "2  0.941859  5.862033  6.546326  6.125977  7.436320  6.458670  5.995835   \n",
       "3  0.154844  0.218891  2.335139  4.751294  3.110523  4.057819  4.742047   \n",
       "4 -2.346692  0.343195 -0.735396 -1.296848 -0.992322 -0.539070 -0.480849   \n",
       "\n",
       "        c39  \n",
       "0 -1.041807  \n",
       "1 -0.444504  \n",
       "2  7.381008  \n",
       "3  2.705476  \n",
       "4  0.386345  \n",
       "\n",
       "[5 rows x 40 columns]"
      ]
     },
     "execution_count": 27,
     "metadata": {},
     "output_type": "execute_result"
    }
   ],
   "source": [
    "X_test_b_df.head()"
   ]
  },
  {
   "cell_type": "code",
   "execution_count": 28,
   "id": "9bec28e8-9a08-4153-a3d1-47d0308fc105",
   "metadata": {},
   "outputs": [],
   "source": [
    "X_train_b_df = pd.DataFrame(X_train_b, columns = col)"
   ]
  },
  {
   "cell_type": "code",
   "execution_count": 29,
   "id": "fdb10506-a34f-4d10-b8c4-35a9db5715d2",
   "metadata": {},
   "outputs": [
    {
     "data": {
      "text/html": [
       "<div>\n",
       "<style scoped>\n",
       "    .dataframe tbody tr th:only-of-type {\n",
       "        vertical-align: middle;\n",
       "    }\n",
       "\n",
       "    .dataframe tbody tr th {\n",
       "        vertical-align: top;\n",
       "    }\n",
       "\n",
       "    .dataframe thead th {\n",
       "        text-align: right;\n",
       "    }\n",
       "</style>\n",
       "<table border=\"1\" class=\"dataframe\">\n",
       "  <thead>\n",
       "    <tr style=\"text-align: right;\">\n",
       "      <th></th>\n",
       "      <th>c0</th>\n",
       "      <th>c1</th>\n",
       "      <th>c2</th>\n",
       "      <th>c3</th>\n",
       "      <th>c4</th>\n",
       "      <th>c5</th>\n",
       "      <th>c6</th>\n",
       "      <th>c7</th>\n",
       "      <th>c8</th>\n",
       "      <th>c9</th>\n",
       "      <th>...</th>\n",
       "      <th>c30</th>\n",
       "      <th>c31</th>\n",
       "      <th>c32</th>\n",
       "      <th>c33</th>\n",
       "      <th>c34</th>\n",
       "      <th>c35</th>\n",
       "      <th>c36</th>\n",
       "      <th>c37</th>\n",
       "      <th>c38</th>\n",
       "      <th>c39</th>\n",
       "    </tr>\n",
       "  </thead>\n",
       "  <tbody>\n",
       "    <tr>\n",
       "      <th>0</th>\n",
       "      <td>-322.435541</td>\n",
       "      <td>70.003281</td>\n",
       "      <td>-30.138073</td>\n",
       "      <td>6.328707</td>\n",
       "      <td>-13.031461</td>\n",
       "      <td>-1.528015</td>\n",
       "      <td>-15.071442</td>\n",
       "      <td>-3.438101</td>\n",
       "      <td>-19.828730</td>\n",
       "      <td>-10.583504</td>\n",
       "      <td>...</td>\n",
       "      <td>-0.642406</td>\n",
       "      <td>-0.052804</td>\n",
       "      <td>-2.472009</td>\n",
       "      <td>1.493877</td>\n",
       "      <td>3.050296</td>\n",
       "      <td>-0.060517</td>\n",
       "      <td>-2.171658</td>\n",
       "      <td>0.512474</td>\n",
       "      <td>-2.197307</td>\n",
       "      <td>1.766833</td>\n",
       "    </tr>\n",
       "    <tr>\n",
       "      <th>1</th>\n",
       "      <td>-678.809573</td>\n",
       "      <td>69.296158</td>\n",
       "      <td>10.636091</td>\n",
       "      <td>22.329441</td>\n",
       "      <td>1.796908</td>\n",
       "      <td>15.339881</td>\n",
       "      <td>2.037446</td>\n",
       "      <td>2.743736</td>\n",
       "      <td>-1.885635</td>\n",
       "      <td>-0.410140</td>\n",
       "      <td>...</td>\n",
       "      <td>0.939368</td>\n",
       "      <td>0.142485</td>\n",
       "      <td>-1.635994</td>\n",
       "      <td>0.584405</td>\n",
       "      <td>-0.867599</td>\n",
       "      <td>-0.516509</td>\n",
       "      <td>-0.365518</td>\n",
       "      <td>-0.706713</td>\n",
       "      <td>-1.051731</td>\n",
       "      <td>-0.264466</td>\n",
       "    </tr>\n",
       "    <tr>\n",
       "      <th>2</th>\n",
       "      <td>-329.451355</td>\n",
       "      <td>55.109342</td>\n",
       "      <td>-30.628392</td>\n",
       "      <td>2.536098</td>\n",
       "      <td>-5.906511</td>\n",
       "      <td>8.543116</td>\n",
       "      <td>-25.620602</td>\n",
       "      <td>-3.765538</td>\n",
       "      <td>-6.615645</td>\n",
       "      <td>-13.133439</td>\n",
       "      <td>...</td>\n",
       "      <td>1.296850</td>\n",
       "      <td>3.537775</td>\n",
       "      <td>1.882038</td>\n",
       "      <td>2.992856</td>\n",
       "      <td>1.474612</td>\n",
       "      <td>1.179054</td>\n",
       "      <td>1.972214</td>\n",
       "      <td>3.589802</td>\n",
       "      <td>3.051320</td>\n",
       "      <td>3.115090</td>\n",
       "    </tr>\n",
       "    <tr>\n",
       "      <th>3</th>\n",
       "      <td>-753.846292</td>\n",
       "      <td>103.383461</td>\n",
       "      <td>11.537815</td>\n",
       "      <td>15.747127</td>\n",
       "      <td>8.414447</td>\n",
       "      <td>16.662205</td>\n",
       "      <td>0.516080</td>\n",
       "      <td>2.466703</td>\n",
       "      <td>-3.776105</td>\n",
       "      <td>-4.802180</td>\n",
       "      <td>...</td>\n",
       "      <td>-0.394290</td>\n",
       "      <td>-0.179136</td>\n",
       "      <td>0.497887</td>\n",
       "      <td>-0.617812</td>\n",
       "      <td>0.091738</td>\n",
       "      <td>0.728357</td>\n",
       "      <td>-0.561499</td>\n",
       "      <td>0.590341</td>\n",
       "      <td>-0.951314</td>\n",
       "      <td>-0.351507</td>\n",
       "    </tr>\n",
       "    <tr>\n",
       "      <th>4</th>\n",
       "      <td>-643.812396</td>\n",
       "      <td>91.187602</td>\n",
       "      <td>1.875410</td>\n",
       "      <td>11.678617</td>\n",
       "      <td>10.514145</td>\n",
       "      <td>19.477736</td>\n",
       "      <td>-4.434624</td>\n",
       "      <td>5.159741</td>\n",
       "      <td>-1.805334</td>\n",
       "      <td>-2.418495</td>\n",
       "      <td>...</td>\n",
       "      <td>0.669158</td>\n",
       "      <td>0.203192</td>\n",
       "      <td>0.412243</td>\n",
       "      <td>1.134394</td>\n",
       "      <td>-0.624888</td>\n",
       "      <td>-0.044763</td>\n",
       "      <td>0.121245</td>\n",
       "      <td>0.199277</td>\n",
       "      <td>0.357035</td>\n",
       "      <td>1.165512</td>\n",
       "    </tr>\n",
       "  </tbody>\n",
       "</table>\n",
       "<p>5 rows × 40 columns</p>\n",
       "</div>"
      ],
      "text/plain": [
       "           c0          c1         c2         c3         c4         c5  \\\n",
       "0 -322.435541   70.003281 -30.138073   6.328707 -13.031461  -1.528015   \n",
       "1 -678.809573   69.296158  10.636091  22.329441   1.796908  15.339881   \n",
       "2 -329.451355   55.109342 -30.628392   2.536098  -5.906511   8.543116   \n",
       "3 -753.846292  103.383461  11.537815  15.747127   8.414447  16.662205   \n",
       "4 -643.812396   91.187602   1.875410  11.678617  10.514145  19.477736   \n",
       "\n",
       "          c6        c7         c8         c9  ...       c30       c31  \\\n",
       "0 -15.071442 -3.438101 -19.828730 -10.583504  ... -0.642406 -0.052804   \n",
       "1   2.037446  2.743736  -1.885635  -0.410140  ...  0.939368  0.142485   \n",
       "2 -25.620602 -3.765538  -6.615645 -13.133439  ...  1.296850  3.537775   \n",
       "3   0.516080  2.466703  -3.776105  -4.802180  ... -0.394290 -0.179136   \n",
       "4  -4.434624  5.159741  -1.805334  -2.418495  ...  0.669158  0.203192   \n",
       "\n",
       "        c32       c33       c34       c35       c36       c37       c38  \\\n",
       "0 -2.472009  1.493877  3.050296 -0.060517 -2.171658  0.512474 -2.197307   \n",
       "1 -1.635994  0.584405 -0.867599 -0.516509 -0.365518 -0.706713 -1.051731   \n",
       "2  1.882038  2.992856  1.474612  1.179054  1.972214  3.589802  3.051320   \n",
       "3  0.497887 -0.617812  0.091738  0.728357 -0.561499  0.590341 -0.951314   \n",
       "4  0.412243  1.134394 -0.624888 -0.044763  0.121245  0.199277  0.357035   \n",
       "\n",
       "        c39  \n",
       "0  1.766833  \n",
       "1 -0.264466  \n",
       "2  3.115090  \n",
       "3 -0.351507  \n",
       "4  1.165512  \n",
       "\n",
       "[5 rows x 40 columns]"
      ]
     },
     "execution_count": 29,
     "metadata": {},
     "output_type": "execute_result"
    }
   ],
   "source": [
    "X_train_b_df.head()"
   ]
  },
  {
   "cell_type": "markdown",
   "id": "be27ab9c-daea-437e-93ec-c4f35d98ecd5",
   "metadata": {},
   "source": [
    "# Validation Curves"
   ]
  },
  {
   "cell_type": "code",
   "execution_count": 30,
   "id": "4ba7b523-e6db-4c71-a398-d622efb09c63",
   "metadata": {},
   "outputs": [
    {
     "name": "stdout",
     "output_type": "stream",
     "text": [
      "Collecting yellowbrick\n",
      "  Downloading yellowbrick-1.3.post1-py3-none-any.whl (271 kB)\n",
      "\u001b[K     |████████████████████████████████| 271 kB 1.2 MB/s eta 0:00:01\n",
      "\u001b[?25hRequirement already satisfied: numpy<1.20,>=1.16.0 in /usr/local/lib/python3.8/site-packages (from yellowbrick) (1.19.5)\n",
      "Requirement already satisfied: cycler>=0.10.0 in /usr/local/lib/python3.8/site-packages (from yellowbrick) (0.10.0)\n",
      "Requirement already satisfied: scikit-learn>=0.20 in /usr/local/lib/python3.8/site-packages (from yellowbrick) (1.0)\n",
      "Requirement already satisfied: matplotlib!=3.0.0,>=2.0.2 in /usr/local/lib/python3.8/site-packages (from yellowbrick) (3.4.3)\n",
      "Requirement already satisfied: scipy>=1.0.0 in /usr/local/lib/python3.8/site-packages (from yellowbrick) (1.7.1)\n",
      "Requirement already satisfied: six in /usr/local/lib/python3.8/site-packages (from cycler>=0.10.0->yellowbrick) (1.15.0)\n",
      "Requirement already satisfied: kiwisolver>=1.0.1 in /usr/local/lib/python3.8/site-packages (from matplotlib!=3.0.0,>=2.0.2->yellowbrick) (1.3.2)\n",
      "Requirement already satisfied: pillow>=6.2.0 in /usr/local/lib/python3.8/site-packages (from matplotlib!=3.0.0,>=2.0.2->yellowbrick) (8.3.2)\n",
      "Requirement already satisfied: pyparsing>=2.2.1 in /usr/local/lib/python3.8/site-packages (from matplotlib!=3.0.0,>=2.0.2->yellowbrick) (2.4.7)\n",
      "Requirement already satisfied: python-dateutil>=2.7 in /usr/local/lib/python3.8/site-packages (from matplotlib!=3.0.0,>=2.0.2->yellowbrick) (2.8.2)\n",
      "Requirement already satisfied: joblib>=0.11 in /usr/local/lib/python3.8/site-packages (from scikit-learn>=0.20->yellowbrick) (1.0.1)\n",
      "Requirement already satisfied: threadpoolctl>=2.0.0 in /usr/local/lib/python3.8/site-packages (from scikit-learn>=0.20->yellowbrick) (2.2.0)\n",
      "Installing collected packages: yellowbrick\n",
      "Successfully installed yellowbrick-1.3.post1\n",
      "\u001b[33mWARNING: Running pip as the 'root' user can result in broken permissions and conflicting behaviour with the system package manager. It is recommended to use a virtual environment instead: https://pip.pypa.io/warnings/venv\u001b[0m\n",
      "\u001b[33mWARNING: You are using pip version 21.1.3; however, version 21.3.1 is available.\n",
      "You should consider upgrading via the '/usr/local/bin/python -m pip install --upgrade pip' command.\u001b[0m\n"
     ]
    }
   ],
   "source": [
    "!pip install yellowbrick"
   ]
  },
  {
   "cell_type": "code",
   "execution_count": 34,
   "id": "bc0c9968-dca6-4aa5-8eb8-3e2b8bfbd309",
   "metadata": {},
   "outputs": [],
   "source": [
    "from yellowbrick.model_selection import validation_curve "
   ]
  },
  {
   "cell_type": "markdown",
   "id": "778aa915-f09b-463e-9b3c-4bb1d85e165b",
   "metadata": {},
   "source": [
    "El mejor modelo obtuvo los siguientes parámetros:\n",
    "{'n_estimators': 1611,\n",
    " 'min_samples_split': 2,\n",
    " 'min_samples_leaf': 1,\n",
    " 'max_features': 'sqrt',\n",
    " 'max_depth': None,\n",
    " 'bootstrap': False}"
   ]
  },
  {
   "cell_type": "code",
   "execution_count": 35,
   "id": "4d5bfe8a-7f17-4480-98de-ff41e6092708",
   "metadata": {},
   "outputs": [],
   "source": [
    "model_final = RandomForestClassifier(bootstrap=False, max_depth=None, n_estimators=1611,class_weight='balanced',min_samples_split = 2, min_samples_leaf = 1,max_features = 'sqrt')"
   ]
  },
  {
   "cell_type": "markdown",
   "id": "644f74af-56c4-4d4f-986e-4dfca8f19357",
   "metadata": {},
   "source": [
    "Quiero medir el parámetro ```max_depth``` pues es el parámetro sensible del modelo en relación al overfitting.\n",
    "```n_jobs= -1``` permite utilizar todos los nucleos del computador para realizar los cálculos de validación cruzada. \n",
    "```param_range``` es el rango de valores que será testeados sobre el parámetro ```max_depth```. El número de validaciones cruzadas realizadas es ```cv```.  "
   ]
  },
  {
   "cell_type": "code",
   "execution_count": 36,
   "id": "e5c432b6-3eba-47b7-b9da-776ac813d71d",
   "metadata": {},
   "outputs": [
    {
     "name": "stderr",
     "output_type": "stream",
     "text": [
      "findfont: Font family ['sans-serif'] not found. Falling back to DejaVu Sans.\n",
      "findfont: Generic family 'sans-serif' not found because none of the following families were found: Arial, Liberation Sans, Bitstream Vera Sans, sans-serif\n",
      "findfont: Font family ['sans-serif'] not found. Falling back to DejaVu Sans.\n",
      "findfont: Generic family 'sans-serif' not found because none of the following families were found: Arial, Liberation Sans, Bitstream Vera Sans, sans-serif\n",
      "findfont: Font family ['sans-serif'] not found. Falling back to DejaVu Sans.\n",
      "findfont: Generic family 'sans-serif' not found because none of the following families were found: Arial, Liberation Sans, Bitstream Vera Sans, sans-serif\n"
     ]
    },
    {
     "data": {
      "image/png": "[encoded data removed]",
      "text/plain": [
       "<Figure size 576x396 with 1 Axes>"
      ]
     },
     "metadata": {},
     "output_type": "display_data"
    },
    {
     "name": "stdout",
     "output_type": "stream",
     "text": [
      "ValidationCurve(ax=<AxesSubplot:title={'center':'Validation Curve for RandomForestClassifier'}, xlabel='max_depth', ylabel='score'>,\n",
      "                cv=10,\n",
      "                estimator=RandomForestClassifier(bootstrap=False,\n",
      "                                                 class_weight='balanced',\n",
      "                                                 max_features='sqrt',\n",
      "                                                 n_estimators=1611),\n",
      "                n_jobs=-1, param_name='max_depth',\n",
      "                param_range=array([ 1,  2,  3,  4,  5,  6,  7,  8,  9, 10]),\n",
      "                scoring='accuracy')\n"
     ]
    }
   ],
   "source": [
    "# Plot the validation curve\n",
    "print(validation_curve(model_final, Xb, yb, param_name=\"max_depth\", n_jobs=-1,\n",
    "      param_range=np.arange(1, 11), cv=10, scoring=\"accuracy\"))"
   ]
  },
  {
   "cell_type": "markdown",
   "id": "ed60c7d4-21d6-489a-955f-5621379cadb6",
   "metadata": {},
   "source": [
    "A medida que mayor es el valor de ```max_depth``` el modelo tiende al overfit. ¿Ocurrirá lo mismo con el proceso de aumentación?. ¿O con data sets de diferentes distribuciones unidos en uno solo?"
   ]
  },
  {
   "cell_type": "code",
   "execution_count": null,
   "id": "21a02b38-631d-408d-9a9d-8de221b1a4f2",
   "metadata": {},
   "outputs": [],
   "source": []
  },
  {
   "cell_type": "code",
   "execution_count": null,
   "id": "db826b0e-aaf4-457a-bf6d-b1f2e3b8b27e",
   "metadata": {},
   "outputs": [],
   "source": []
  },
  {
   "cell_type": "markdown",
   "id": "7ae7f5b3-de72-43c1-8ab4-2865faef006f",
   "metadata": {},
   "source": [
    "# SHAP Values"
   ]
  },
  {
   "cell_type": "markdown",
   "id": "4f8129c2-c47f-4037-9a86-84345c14d6c3",
   "metadata": {},
   "source": [
    "Iniciando la libreria para calcular los valores SHAP "
   ]
  },
  {
   "cell_type": "code",
   "execution_count": null,
   "id": "2247851f-50d0-47bc-9b5a-eeb4702d3e3d",
   "metadata": {},
   "outputs": [],
   "source": [
    "import shap\n",
    "shap.initjs()"
   ]
  },
  {
   "cell_type": "markdown",
   "id": "da65516a-3198-4e6d-9733-6fa62c90b086",
   "metadata": {},
   "source": [
    "Diccionario con el nombre de las clases"
   ]
  },
  {
   "cell_type": "code",
   "execution_count": null,
   "id": "84ea7657-f73d-47a6-b878-54dbe5116de3",
   "metadata": {},
   "outputs": [],
   "source": [
    "clases = {'1': 'neutral',\n",
    "                     '2': 'calm',\n",
    "                     '3': 'happy',\n",
    "                     '4': 'sad',\n",
    "                     '5': 'angry',\n",
    "                     '6': 'fearful',\n",
    "                     '7': 'disgust',\n",
    "                     '8': 'surprised'}"
   ]
  },
  {
   "cell_type": "markdown",
   "id": "fd566b0f-1ea7-4a42-b541-8b80392bc187",
   "metadata": {},
   "source": [
    "Buscando en el conjunto de test solo los ejemplos de calma y disgusto"
   ]
  },
  {
   "cell_type": "code",
   "execution_count": null,
   "id": "fa3efc18-c0a7-4bf4-a34b-1f588cccb7d9",
   "metadata": {},
   "outputs": [],
   "source": [
    "calm_pos = []\n",
    "for i in range(len(y_test_s)):\n",
    "    if clases[str(y_test_s[i])]=='calm':\n",
    "        calm_pos.append(i)"
   ]
  },
  {
   "cell_type": "code",
   "execution_count": null,
   "id": "07b3dff5-4d5b-4d19-8531-a45042a20a42",
   "metadata": {},
   "outputs": [],
   "source": [
    "disg_pos = []\n",
    "for i in range(len(y_test_s)):\n",
    "    if clases[str(y_test_s[i])]=='disgust':\n",
    "        disg_pos.append(i)"
   ]
  },
  {
   "cell_type": "markdown",
   "id": "44c42735-f7d4-4fb3-9df1-1a68e685953d",
   "metadata": {},
   "source": [
    "Ejemplo"
   ]
  },
  {
   "cell_type": "code",
   "execution_count": null,
   "id": "c4ead39c-31a9-4b59-96f9-feb11b421898",
   "metadata": {},
   "outputs": [],
   "source": [
    "i = calm_pos[0]\n",
    "print(i)"
   ]
  },
  {
   "cell_type": "code",
   "execution_count": null,
   "id": "6c0d4060-d27d-437a-b166-37d51311a8ca",
   "metadata": {},
   "outputs": [],
   "source": [
    "shap.initjs()\n",
    "explainer = shap.KernelExplainer(best_random.predict_proba, shap.sample(X_train_b_df, 200))\n",
    "shap_values = explainer.shap_values(X_test_b_df.iloc[i,:])\n",
    "shap.force_plot(explainer.expected_value[0], shap_values[0], X_test_b_df.iloc[i,:])"
   ]
  },
  {
   "cell_type": "markdown",
   "id": "1b482ebe-ec4e-4ecf-8d9c-4d0fdef84e26",
   "metadata": {},
   "source": [
    "Este resultado confirma lo obtenido en la exploración inicial con la librería shap: los coeficientes $c_0$,$c_1$ y $c_2$ aparecen como siendo preponderantes en la clasificación correcta. Además, en los coeficientes superiores a 12 aparecen nuevos candidatos. "
   ]
  },
  {
   "cell_type": "markdown",
   "id": "1884d132-b2b8-41a2-8482-7e86d9f51bc8",
   "metadata": {},
   "source": [
    "Observemos el análisis realizado por $\\mathtt{lime}$ para el mismo ejemplo"
   ]
  },
  {
   "cell_type": "code",
   "execution_count": null,
   "id": "6f5bf321-6058-4e0e-80ae-fb45197206f5",
   "metadata": {},
   "outputs": [],
   "source": [
    "import lime\n",
    "import lime.lime_tabular\n",
    "from __future__ import print_function"
   ]
  },
  {
   "cell_type": "code",
   "execution_count": null,
   "id": "1dcc0c34-ff05-480b-8562-0d93d7d47b1d",
   "metadata": {},
   "outputs": [],
   "source": [
    "classes = ['neutral', 'calm','happy', 'sad', 'angry','fearful','disgust', 'surprised']"
   ]
  },
  {
   "cell_type": "code",
   "execution_count": null,
   "id": "bddb9e63-3f83-4920-a4cb-a143a3940ace",
   "metadata": {},
   "outputs": [],
   "source": [
    "explainer = lime.lime_tabular.LimeTabularExplainer(X_train_b, feature_names=col, class_names=classes , discretize_continuous=True)\n",
    "exp = explainer.explain_instance(X_test_b_df.iloc[calm_pos[i]], best_random.predict_proba, num_features=40, top_labels=1)\n",
    "exp.show_in_notebook(show_table=True, show_all=False)"
   ]
  },
  {
   "cell_type": "code",
   "execution_count": null,
   "id": "3f1763af-22d7-48bb-b4e1-29c1aacb78a8",
   "metadata": {},
   "outputs": [],
   "source": []
  }
 ],
 "metadata": {
  "kernelspec": {
   "display_name": "Python 3",
   "language": "python",
   "name": "python3"
  },
  "language_info": {
   "codemirror_mode": {
    "name": "ipython",
    "version": 3
   },
   "file_extension": ".py",
   "mimetype": "text/x-python",
   "name": "python",
   "nbconvert_exporter": "python",
   "pygments_lexer": "ipython3",
   "version": "3.8.10"
  }
 },
 "nbformat": 4,
 "nbformat_minor": 5
}
