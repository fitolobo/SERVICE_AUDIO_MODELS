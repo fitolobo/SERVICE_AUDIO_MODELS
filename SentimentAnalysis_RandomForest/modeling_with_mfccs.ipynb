{
 "cells": [
  {
   "cell_type": "code",
   "execution_count": 2,
   "id": "7b4033f3-f47a-4b47-bc85-7c42055e13ed",
   "metadata": {},
   "outputs": [],
   "source": [
    "import time\n",
    "import os\n",
    "import librosa\n",
    "import numpy as np\n",
    "import tensorflow"
   ]
  },
  {
   "cell_type": "code",
   "execution_count": 3,
   "id": "99bb5e3d-007b-4b23-9dc1-672b6537b270",
   "metadata": {},
   "outputs": [],
   "source": [
    "### SEED configuration\n",
    "from numpy.random import seed\n",
    "seed(1)\n",
    "from tensorflow import random\n",
    "random.set_seed(1)"
   ]
  },
  {
   "cell_type": "markdown",
   "id": "1eeb7460-154a-41cb-8861-88a7d32c45a4",
   "metadata": {},
   "source": [
    "#### Modeling by using MFCCs with smaller and bigger time-average MFCCs (Classic Ensemble Methods)"
   ]
  },
  {
   "cell_type": "markdown",
   "id": "ae594917-466d-491a-86d6-303078289301",
   "metadata": {},
   "source": [
    "The MFCC are given by the spectrogram's compression over the frequency range by using mel filters. \n",
    "Mel filters are based on the frequency response of the human ear. The objective is  trying to mimic our frequency response by using simple triangular filters. As a result of this process we obtain an image. \n",
    "\n",
    "The horizontal axis represents the time, and the vertical axis represents the frequency domain in mel scale. \n",
    "The preprocessed data is an average over the time, by summing up the frequecies dividing by the total time. Besides, it is possible to apply log function to the spectrum. Finally, we obtained a vector which represent into a one dimensional space the mel frequency cepstral coeficients (MFCCs). \n",
    "\n",
    "\n",
    "As a first approach I'm going to implement random forest classifiers with 12 features by vector, and other random forest model with 40 features by vector, in order to compare the dimension relevance. \n",
    "\n",
    "Note that all this hyphothesis are related to ML models for a multiclass classification problem (ensemble models). \n",
    "\n",
    "**Hypothesis 1**: Bigger models have a better accuracy. **$\\color{red}{\\text{True}}$**\n",
    "\n",
    "**Hypothesis 2**: Applying log to the spectrum improve the accuracy. **$\\color{red}{\\text{False}}$**\n",
    "\n",
    "**Hypothesis 3**: Data augmentation improves the performance. **$\\color{red}{\\text{True}}$**\n",
    "\n",
    "**Comparisons**: between ensemble models. Random forest, decision trees, and adaboost. "
   ]
  },
  {
   "cell_type": "markdown",
   "id": "fe713f9c-5cef-4292-97f7-3f478ea29c05",
   "metadata": {},
   "source": [
    "#### Loading the data"
   ]
  },
  {
   "cell_type": "code",
   "execution_count": 3,
   "id": "564ad463-ca23-4312-a15d-5a90280d09c8",
   "metadata": {},
   "outputs": [
    {
     "name": "stdout",
     "output_type": "stream",
     "text": [
      "Xb:(1440, 40), yb:(1440,)\n",
      "Xs:(1440, 12), ys:(1440,)\n",
      "Xbl:(1440, 40), ybl:(1440,)\n",
      "Xsl:(1440, 12), ysl:(1440,)\n"
     ]
    }
   ],
   "source": [
    "filename = '../processed_data/mfccs_big_and_small.npy'\n",
    "with open(filename, 'rb') as f:\n",
    "    Xb = np.load(f)\n",
    "    yb = np.load(f)\n",
    "    Xs = np.load(f)\n",
    "    ys = np.load(f)\n",
    "    Xbl = np.load(f)\n",
    "    ybl = np.load(f)\n",
    "    Xsl = np.load(f)\n",
    "    ysl = np.load(f)\n",
    "# Check that we've recovered the right data\n",
    "print(f'Xb:{Xb.shape}, yb:{yb.shape}')\n",
    "print(f'Xs:{Xs.shape}, ys:{ys.shape}')\n",
    "print(f'Xbl:{Xbl.shape}, ybl:{ybl.shape}')\n",
    "print(f'Xsl:{Xsl.shape}, ysl:{ysl.shape}')"
   ]
  },
  {
   "cell_type": "markdown",
   "id": "8a3e6042-4a03-41f8-9d9d-f57dcbb52200",
   "metadata": {},
   "source": [
    "#### Split the data\n",
    "\n",
    "I decided in this group of experiments using 90%-10% split ratio between train-test sets. The data obtained in the split process will be used for train diferent deep learning models at the end. "
   ]
  },
  {
   "cell_type": "code",
   "execution_count": 8,
   "id": "493dc992-770a-45c4-a131-61f6e06ff67d",
   "metadata": {},
   "outputs": [],
   "source": [
    "from sklearn.model_selection import train_test_split"
   ]
  },
  {
   "cell_type": "code",
   "execution_count": 5,
   "id": "e997ef58-f89c-40a8-87d3-9e6fddd20774",
   "metadata": {},
   "outputs": [],
   "source": [
    "X_train_b, X_test_b, y_train_b, y_test_b = train_test_split(Xb, yb, test_size=0.10, random_state=42)\n",
    "X_train_s, X_test_s, y_train_s, y_test_s = train_test_split(Xs, ys, test_size=0.10, random_state=42)"
   ]
  },
  {
   "cell_type": "markdown",
   "id": "bb1b2fd4-46f7-4012-b095-413a6c89affb",
   "metadata": {},
   "source": [
    "### Machine Learning Models: Ensembles"
   ]
  },
  {
   "cell_type": "markdown",
   "id": "81f54245-474c-4b30-a1b5-240f25518d6e",
   "metadata": {},
   "source": [
    "#### Trainig the models\n",
    "\n",
    "In this first approach I'm not including audio augmentation by using Gaussian noise or changing pitch. \n",
    "The baseline models are:\n",
    "\n",
    "1- Decision Tree\n",
    "\n",
    "2- Random Forest\n",
    "\n",
    "3- AdaBoost\n",
    "\n",
    "The evaluation is implemented in the fiel called ```eval_classifiers.py```. Initially, the classifiers doesn't have any parameter adjustment. "
   ]
  },
  {
   "cell_type": "code",
   "execution_count": 11,
   "id": "4a0c7974-e6ac-40dc-a58e-076bed7b083a",
   "metadata": {},
   "outputs": [],
   "source": [
    "from eval_classifiers import EvalClassifiers\n",
    "from eval_classifiers import EvalBestModel"
   ]
  },
  {
   "cell_type": "markdown",
   "id": "de988b82-f85d-4090-9a96-6b9011f15e35",
   "metadata": {},
   "source": [
    "Training the models with a small number of features, using stratified k-fold and balanced accuracy score as a first performance metric."
   ]
  },
  {
   "cell_type": "code",
   "execution_count": 7,
   "id": "493199f6-5ed7-42bc-b66f-9d86c42d0c34",
   "metadata": {},
   "outputs": [],
   "source": [
    "results_small_ensembles = EvalClassifiers(\"small_ensembles\", Xs, ys, n_splits=10)"
   ]
  },
  {
   "cell_type": "code",
   "execution_count": 8,
   "id": "22491ef2-18ad-4c94-88fc-8acd47b216e1",
   "metadata": {},
   "outputs": [
    {
     "data": {
      "text/html": [
       "<div>\n",
       "<style scoped>\n",
       "    .dataframe tbody tr th:only-of-type {\n",
       "        vertical-align: middle;\n",
       "    }\n",
       "\n",
       "    .dataframe tbody tr th {\n",
       "        vertical-align: top;\n",
       "    }\n",
       "\n",
       "    .dataframe thead th {\n",
       "        text-align: right;\n",
       "    }\n",
       "</style>\n",
       "<table border=\"1\" class=\"dataframe\">\n",
       "  <thead>\n",
       "    <tr style=\"text-align: right;\">\n",
       "      <th></th>\n",
       "      <th>Random Forest</th>\n",
       "      <th>AdaBoost</th>\n",
       "      <th>DecisionTree</th>\n",
       "    </tr>\n",
       "  </thead>\n",
       "  <tbody>\n",
       "    <tr>\n",
       "      <th>0</th>\n",
       "      <td>0.535197</td>\n",
       "      <td>0.297368</td>\n",
       "      <td>0.432895</td>\n",
       "    </tr>\n",
       "    <tr>\n",
       "      <th>0</th>\n",
       "      <td>0.636842</td>\n",
       "      <td>0.358224</td>\n",
       "      <td>0.435197</td>\n",
       "    </tr>\n",
       "    <tr>\n",
       "      <th>0</th>\n",
       "      <td>0.609539</td>\n",
       "      <td>0.264474</td>\n",
       "      <td>0.297697</td>\n",
       "    </tr>\n",
       "    <tr>\n",
       "      <th>0</th>\n",
       "      <td>0.505592</td>\n",
       "      <td>0.295395</td>\n",
       "      <td>0.363158</td>\n",
       "    </tr>\n",
       "    <tr>\n",
       "      <th>0</th>\n",
       "      <td>0.558224</td>\n",
       "      <td>0.299671</td>\n",
       "      <td>0.314145</td>\n",
       "    </tr>\n",
       "    <tr>\n",
       "      <th>0</th>\n",
       "      <td>0.610526</td>\n",
       "      <td>0.275329</td>\n",
       "      <td>0.428947</td>\n",
       "    </tr>\n",
       "    <tr>\n",
       "      <th>0</th>\n",
       "      <td>0.500621</td>\n",
       "      <td>0.343238</td>\n",
       "      <td>0.380227</td>\n",
       "    </tr>\n",
       "    <tr>\n",
       "      <th>0</th>\n",
       "      <td>0.479678</td>\n",
       "      <td>0.259868</td>\n",
       "      <td>0.339291</td>\n",
       "    </tr>\n",
       "    <tr>\n",
       "      <th>0</th>\n",
       "      <td>0.530629</td>\n",
       "      <td>0.361148</td>\n",
       "      <td>0.341338</td>\n",
       "    </tr>\n",
       "    <tr>\n",
       "      <th>0</th>\n",
       "      <td>0.497661</td>\n",
       "      <td>0.334503</td>\n",
       "      <td>0.445760</td>\n",
       "    </tr>\n",
       "  </tbody>\n",
       "</table>\n",
       "</div>"
      ],
      "text/plain": [
       "   Random Forest  AdaBoost  DecisionTree\n",
       "0       0.535197  0.297368      0.432895\n",
       "0       0.636842  0.358224      0.435197\n",
       "0       0.609539  0.264474      0.297697\n",
       "0       0.505592  0.295395      0.363158\n",
       "0       0.558224  0.299671      0.314145\n",
       "0       0.610526  0.275329      0.428947\n",
       "0       0.500621  0.343238      0.380227\n",
       "0       0.479678  0.259868      0.339291\n",
       "0       0.530629  0.361148      0.341338\n",
       "0       0.497661  0.334503      0.445760"
      ]
     },
     "execution_count": 8,
     "metadata": {},
     "output_type": "execute_result"
    }
   ],
   "source": [
    "results_small_ensembles"
   ]
  },
  {
   "cell_type": "code",
   "execution_count": 9,
   "id": "1c89bf1b-df95-44d9-aaef-c616aa979da4",
   "metadata": {},
   "outputs": [],
   "source": [
    "results_small_ensembles.to_csv('results/small_ensembles.csv',index=False)"
   ]
  },
  {
   "cell_type": "code",
   "execution_count": 10,
   "id": "c114024a-648b-4daf-8389-3bd393aff7ec",
   "metadata": {},
   "outputs": [],
   "source": [
    "results_big_ensembles = EvalClassifiers(\"big_ensembles\", Xb, yb, n_splits=10)"
   ]
  },
  {
   "cell_type": "code",
   "execution_count": 11,
   "id": "ae9a61cc-b81b-4dfa-8bfe-0ac5fbf95e3e",
   "metadata": {},
   "outputs": [
    {
     "data": {
      "text/html": [
       "<div>\n",
       "<style scoped>\n",
       "    .dataframe tbody tr th:only-of-type {\n",
       "        vertical-align: middle;\n",
       "    }\n",
       "\n",
       "    .dataframe tbody tr th {\n",
       "        vertical-align: top;\n",
       "    }\n",
       "\n",
       "    .dataframe thead th {\n",
       "        text-align: right;\n",
       "    }\n",
       "</style>\n",
       "<table border=\"1\" class=\"dataframe\">\n",
       "  <thead>\n",
       "    <tr style=\"text-align: right;\">\n",
       "      <th></th>\n",
       "      <th>Random Forest</th>\n",
       "      <th>AdaBoost</th>\n",
       "      <th>DecisionTree</th>\n",
       "    </tr>\n",
       "  </thead>\n",
       "  <tbody>\n",
       "    <tr>\n",
       "      <th>0</th>\n",
       "      <td>0.520066</td>\n",
       "      <td>0.267434</td>\n",
       "      <td>0.370724</td>\n",
       "    </tr>\n",
       "    <tr>\n",
       "      <th>0</th>\n",
       "      <td>0.581579</td>\n",
       "      <td>0.358224</td>\n",
       "      <td>0.360855</td>\n",
       "    </tr>\n",
       "    <tr>\n",
       "      <th>0</th>\n",
       "      <td>0.682895</td>\n",
       "      <td>0.289803</td>\n",
       "      <td>0.467434</td>\n",
       "    </tr>\n",
       "    <tr>\n",
       "      <th>0</th>\n",
       "      <td>0.528947</td>\n",
       "      <td>0.247039</td>\n",
       "      <td>0.377303</td>\n",
       "    </tr>\n",
       "    <tr>\n",
       "      <th>0</th>\n",
       "      <td>0.551645</td>\n",
       "      <td>0.342763</td>\n",
       "      <td>0.331908</td>\n",
       "    </tr>\n",
       "    <tr>\n",
       "      <th>0</th>\n",
       "      <td>0.558553</td>\n",
       "      <td>0.301316</td>\n",
       "      <td>0.397039</td>\n",
       "    </tr>\n",
       "    <tr>\n",
       "      <th>0</th>\n",
       "      <td>0.586221</td>\n",
       "      <td>0.299232</td>\n",
       "      <td>0.398246</td>\n",
       "    </tr>\n",
       "    <tr>\n",
       "      <th>0</th>\n",
       "      <td>0.581287</td>\n",
       "      <td>0.297770</td>\n",
       "      <td>0.390607</td>\n",
       "    </tr>\n",
       "    <tr>\n",
       "      <th>0</th>\n",
       "      <td>0.582602</td>\n",
       "      <td>0.254349</td>\n",
       "      <td>0.365205</td>\n",
       "    </tr>\n",
       "    <tr>\n",
       "      <th>0</th>\n",
       "      <td>0.633260</td>\n",
       "      <td>0.321418</td>\n",
       "      <td>0.469956</td>\n",
       "    </tr>\n",
       "  </tbody>\n",
       "</table>\n",
       "</div>"
      ],
      "text/plain": [
       "   Random Forest  AdaBoost  DecisionTree\n",
       "0       0.520066  0.267434      0.370724\n",
       "0       0.581579  0.358224      0.360855\n",
       "0       0.682895  0.289803      0.467434\n",
       "0       0.528947  0.247039      0.377303\n",
       "0       0.551645  0.342763      0.331908\n",
       "0       0.558553  0.301316      0.397039\n",
       "0       0.586221  0.299232      0.398246\n",
       "0       0.581287  0.297770      0.390607\n",
       "0       0.582602  0.254349      0.365205\n",
       "0       0.633260  0.321418      0.469956"
      ]
     },
     "execution_count": 11,
     "metadata": {},
     "output_type": "execute_result"
    }
   ],
   "source": [
    "results_big_ensembles"
   ]
  },
  {
   "cell_type": "code",
   "execution_count": 12,
   "id": "919b8cf4-ae0d-4ec2-8ba8-15854beacbb0",
   "metadata": {},
   "outputs": [],
   "source": [
    "results_big_ensembles.to_csv('results/big_ensembles.csv',index=False)"
   ]
  },
  {
   "cell_type": "code",
   "execution_count": 13,
   "id": "e8fbc2ec-0720-423c-bd95-01ab3eb20a18",
   "metadata": {},
   "outputs": [],
   "source": [
    "results_small_ensembles_log = EvalClassifiers(\"small_ensembles_log\", Xsl, ysl, n_splits=10)"
   ]
  },
  {
   "cell_type": "code",
   "execution_count": 14,
   "id": "f29969d8-ed67-49e3-9644-f11ac68d7467",
   "metadata": {},
   "outputs": [
    {
     "data": {
      "text/html": [
       "<div>\n",
       "<style scoped>\n",
       "    .dataframe tbody tr th:only-of-type {\n",
       "        vertical-align: middle;\n",
       "    }\n",
       "\n",
       "    .dataframe tbody tr th {\n",
       "        vertical-align: top;\n",
       "    }\n",
       "\n",
       "    .dataframe thead th {\n",
       "        text-align: right;\n",
       "    }\n",
       "</style>\n",
       "<table border=\"1\" class=\"dataframe\">\n",
       "  <thead>\n",
       "    <tr style=\"text-align: right;\">\n",
       "      <th></th>\n",
       "      <th>Random Forest</th>\n",
       "      <th>AdaBoost</th>\n",
       "      <th>DecisionTree</th>\n",
       "    </tr>\n",
       "  </thead>\n",
       "  <tbody>\n",
       "    <tr>\n",
       "      <th>0</th>\n",
       "      <td>0.435855</td>\n",
       "      <td>0.280263</td>\n",
       "      <td>0.261184</td>\n",
       "    </tr>\n",
       "    <tr>\n",
       "      <th>0</th>\n",
       "      <td>0.500987</td>\n",
       "      <td>0.313158</td>\n",
       "      <td>0.381908</td>\n",
       "    </tr>\n",
       "    <tr>\n",
       "      <th>0</th>\n",
       "      <td>0.453618</td>\n",
       "      <td>0.286513</td>\n",
       "      <td>0.323355</td>\n",
       "    </tr>\n",
       "    <tr>\n",
       "      <th>0</th>\n",
       "      <td>0.415789</td>\n",
       "      <td>0.318421</td>\n",
       "      <td>0.362500</td>\n",
       "    </tr>\n",
       "    <tr>\n",
       "      <th>0</th>\n",
       "      <td>0.415789</td>\n",
       "      <td>0.260855</td>\n",
       "      <td>0.234868</td>\n",
       "    </tr>\n",
       "    <tr>\n",
       "      <th>0</th>\n",
       "      <td>0.351974</td>\n",
       "      <td>0.265132</td>\n",
       "      <td>0.272697</td>\n",
       "    </tr>\n",
       "    <tr>\n",
       "      <th>0</th>\n",
       "      <td>0.403436</td>\n",
       "      <td>0.304678</td>\n",
       "      <td>0.264145</td>\n",
       "    </tr>\n",
       "    <tr>\n",
       "      <th>0</th>\n",
       "      <td>0.376864</td>\n",
       "      <td>0.240863</td>\n",
       "      <td>0.282273</td>\n",
       "    </tr>\n",
       "    <tr>\n",
       "      <th>0</th>\n",
       "      <td>0.363889</td>\n",
       "      <td>0.338633</td>\n",
       "      <td>0.279020</td>\n",
       "    </tr>\n",
       "    <tr>\n",
       "      <th>0</th>\n",
       "      <td>0.424306</td>\n",
       "      <td>0.253289</td>\n",
       "      <td>0.310526</td>\n",
       "    </tr>\n",
       "  </tbody>\n",
       "</table>\n",
       "</div>"
      ],
      "text/plain": [
       "   Random Forest  AdaBoost  DecisionTree\n",
       "0       0.435855  0.280263      0.261184\n",
       "0       0.500987  0.313158      0.381908\n",
       "0       0.453618  0.286513      0.323355\n",
       "0       0.415789  0.318421      0.362500\n",
       "0       0.415789  0.260855      0.234868\n",
       "0       0.351974  0.265132      0.272697\n",
       "0       0.403436  0.304678      0.264145\n",
       "0       0.376864  0.240863      0.282273\n",
       "0       0.363889  0.338633      0.279020\n",
       "0       0.424306  0.253289      0.310526"
      ]
     },
     "execution_count": 14,
     "metadata": {},
     "output_type": "execute_result"
    }
   ],
   "source": [
    "results_small_ensembles_log"
   ]
  },
  {
   "cell_type": "code",
   "execution_count": 15,
   "id": "d53d4c77-d379-4f60-b0b2-23be4c99213f",
   "metadata": {},
   "outputs": [],
   "source": [
    "results_small_ensembles_log.to_csv('results/small_ensembles_log.csv',index=False)"
   ]
  },
  {
   "cell_type": "code",
   "execution_count": 16,
   "id": "8d44c9d2-64a4-488a-b973-ba31fd65ec5b",
   "metadata": {},
   "outputs": [],
   "source": [
    "results_big_ensembles_log = EvalClassifiers(\"big_ensembles_log\", Xbl, ybl, n_splits=10)"
   ]
  },
  {
   "cell_type": "code",
   "execution_count": 17,
   "id": "1f4d21b2-d9e5-4172-92a7-7252965f2513",
   "metadata": {},
   "outputs": [
    {
     "data": {
      "text/html": [
       "<div>\n",
       "<style scoped>\n",
       "    .dataframe tbody tr th:only-of-type {\n",
       "        vertical-align: middle;\n",
       "    }\n",
       "\n",
       "    .dataframe tbody tr th {\n",
       "        vertical-align: top;\n",
       "    }\n",
       "\n",
       "    .dataframe thead th {\n",
       "        text-align: right;\n",
       "    }\n",
       "</style>\n",
       "<table border=\"1\" class=\"dataframe\">\n",
       "  <thead>\n",
       "    <tr style=\"text-align: right;\">\n",
       "      <th></th>\n",
       "      <th>Random Forest</th>\n",
       "      <th>AdaBoost</th>\n",
       "      <th>DecisionTree</th>\n",
       "    </tr>\n",
       "  </thead>\n",
       "  <tbody>\n",
       "    <tr>\n",
       "      <th>0</th>\n",
       "      <td>0.436184</td>\n",
       "      <td>0.339474</td>\n",
       "      <td>0.313487</td>\n",
       "    </tr>\n",
       "    <tr>\n",
       "      <th>0</th>\n",
       "      <td>0.462171</td>\n",
       "      <td>0.312829</td>\n",
       "      <td>0.339803</td>\n",
       "    </tr>\n",
       "    <tr>\n",
       "      <th>0</th>\n",
       "      <td>0.411184</td>\n",
       "      <td>0.279276</td>\n",
       "      <td>0.338816</td>\n",
       "    </tr>\n",
       "    <tr>\n",
       "      <th>0</th>\n",
       "      <td>0.450000</td>\n",
       "      <td>0.339803</td>\n",
       "      <td>0.330921</td>\n",
       "    </tr>\n",
       "    <tr>\n",
       "      <th>0</th>\n",
       "      <td>0.453618</td>\n",
       "      <td>0.313158</td>\n",
       "      <td>0.311184</td>\n",
       "    </tr>\n",
       "    <tr>\n",
       "      <th>0</th>\n",
       "      <td>0.422697</td>\n",
       "      <td>0.258882</td>\n",
       "      <td>0.333224</td>\n",
       "    </tr>\n",
       "    <tr>\n",
       "      <th>0</th>\n",
       "      <td>0.409759</td>\n",
       "      <td>0.366009</td>\n",
       "      <td>0.324415</td>\n",
       "    </tr>\n",
       "    <tr>\n",
       "      <th>0</th>\n",
       "      <td>0.460015</td>\n",
       "      <td>0.259284</td>\n",
       "      <td>0.305080</td>\n",
       "    </tr>\n",
       "    <tr>\n",
       "      <th>0</th>\n",
       "      <td>0.429825</td>\n",
       "      <td>0.279020</td>\n",
       "      <td>0.332054</td>\n",
       "    </tr>\n",
       "    <tr>\n",
       "      <th>0</th>\n",
       "      <td>0.474817</td>\n",
       "      <td>0.305665</td>\n",
       "      <td>0.274488</td>\n",
       "    </tr>\n",
       "  </tbody>\n",
       "</table>\n",
       "</div>"
      ],
      "text/plain": [
       "   Random Forest  AdaBoost  DecisionTree\n",
       "0       0.436184  0.339474      0.313487\n",
       "0       0.462171  0.312829      0.339803\n",
       "0       0.411184  0.279276      0.338816\n",
       "0       0.450000  0.339803      0.330921\n",
       "0       0.453618  0.313158      0.311184\n",
       "0       0.422697  0.258882      0.333224\n",
       "0       0.409759  0.366009      0.324415\n",
       "0       0.460015  0.259284      0.305080\n",
       "0       0.429825  0.279020      0.332054\n",
       "0       0.474817  0.305665      0.274488"
      ]
     },
     "execution_count": 17,
     "metadata": {},
     "output_type": "execute_result"
    }
   ],
   "source": [
    "results_big_ensembles_log"
   ]
  },
  {
   "cell_type": "code",
   "execution_count": 18,
   "id": "53e532b0-d7c1-41d1-a8ad-cb78648484bd",
   "metadata": {},
   "outputs": [],
   "source": [
    "results_big_ensembles_log.to_csv('results/big_ensembles_log.csv',index=False)"
   ]
  },
  {
   "cell_type": "markdown",
   "id": "ddce4f7b-052c-4f95-99b5-5c458726b2e4",
   "metadata": {},
   "source": [
    "### Visualizing the Results"
   ]
  },
  {
   "cell_type": "markdown",
   "id": "4fd8663f-7aa2-44ea-9860-f579b2f8df8f",
   "metadata": {},
   "source": [
    "Using normalized and averaged mel-spectrograms"
   ]
  },
  {
   "cell_type": "code",
   "execution_count": 19,
   "id": "9ea3d859-f1b2-41aa-b22b-b6ea6d7421cc",
   "metadata": {},
   "outputs": [
    {
     "data": {
      "image/png": "[encoded data removed]",
      "text/plain": [
       "<Figure size 432x288 with 1 Axes>"
      ]
     },
     "metadata": {
      "needs_background": "light"
     },
     "output_type": "display_data"
    }
   ],
   "source": [
    "boxplot = results_small_ensembles.boxplot(column=[\"Random Forest\", \"AdaBoost\", \"DecisionTree\"])"
   ]
  },
  {
   "cell_type": "code",
   "execution_count": 20,
   "id": "731cb9eb-94a8-48ef-b9ef-c9f547f6c9ea",
   "metadata": {},
   "outputs": [
    {
     "data": {
      "image/png": "[encoded data removed]",
      "text/plain": [
       "<Figure size 432x288 with 1 Axes>"
      ]
     },
     "metadata": {
      "needs_background": "light"
     },
     "output_type": "display_data"
    }
   ],
   "source": [
    "boxplot = results_big_ensembles.boxplot(column=[\"Random Forest\", \"AdaBoost\", \"DecisionTree\"])"
   ]
  },
  {
   "cell_type": "markdown",
   "id": "0a32e45f-0915-4311-8166-a848e8d27668",
   "metadata": {},
   "source": [
    "Using normalized, averaged and log mel-spectrograms"
   ]
  },
  {
   "cell_type": "code",
   "execution_count": 21,
   "id": "a779baed-6481-4746-8b04-837444fa0a67",
   "metadata": {},
   "outputs": [
    {
     "data": {
      "image/png": "[encoded data removed]",
      "text/plain": [
       "<Figure size 432x288 with 1 Axes>"
      ]
     },
     "metadata": {
      "needs_background": "light"
     },
     "output_type": "display_data"
    }
   ],
   "source": [
    "boxplot = results_small_ensembles_log.boxplot(column=[\"Random Forest\", \"AdaBoost\", \"DecisionTree\"])"
   ]
  },
  {
   "cell_type": "code",
   "execution_count": 22,
   "id": "79ecdf6a-477e-4ed0-8733-406285134d5a",
   "metadata": {},
   "outputs": [
    {
     "data": {
      "image/png": "[encoded data removed]",
      "text/plain": [
       "<Figure size 432x288 with 1 Axes>"
      ]
     },
     "metadata": {
      "needs_background": "light"
     },
     "output_type": "display_data"
    }
   ],
   "source": [
    "boxplot = results_big_ensembles_log.boxplot(column=[\"Random Forest\", \"AdaBoost\", \"DecisionTree\"])"
   ]
  },
  {
   "cell_type": "markdown",
   "id": "93f48e8c-e2b0-4735-9cee-1449243fc7e6",
   "metadata": {},
   "source": [
    "**First Conclusion**: the best default model was Random Forest, using the mel vectors with 40 features (big model). "
   ]
  },
  {
   "cell_type": "code",
   "execution_count": 23,
   "id": "300000ba-65c4-4a3f-9748-92a13e055160",
   "metadata": {},
   "outputs": [],
   "source": [
    "import pandas as pd"
   ]
  },
  {
   "cell_type": "code",
   "execution_count": 24,
   "id": "5bdcfcb9-81e1-4aea-b7cc-3fca33b8c24f",
   "metadata": {},
   "outputs": [],
   "source": [
    "best_1 = results_small_ensembles[\"Random Forest\"]\n",
    "best_2 = results_big_ensembles[\"Random Forest\"]"
   ]
  },
  {
   "cell_type": "code",
   "execution_count": 25,
   "id": "2622e77f-635f-4785-a045-79b0b00099bb",
   "metadata": {},
   "outputs": [],
   "source": [
    "b1 = np.asarray(best_1)\n",
    "b2 = np.asarray(best_2)\n",
    "B = np.asarray([b1,b2]).T"
   ]
  },
  {
   "cell_type": "code",
   "execution_count": 26,
   "id": "95ddd1b3-680c-4304-a12f-a65a3871e4d9",
   "metadata": {},
   "outputs": [
    {
     "data": {
      "text/plain": [
       "(10, 2)"
      ]
     },
     "execution_count": 26,
     "metadata": {},
     "output_type": "execute_result"
    }
   ],
   "source": [
    "B.shape"
   ]
  },
  {
   "cell_type": "code",
   "execution_count": 27,
   "id": "4d9dba1c-4401-485f-aba4-658ca18bd171",
   "metadata": {},
   "outputs": [
    {
     "data": {
      "image/png": "[encoded data removed]",
      "text/plain": [
       "<Figure size 432x288 with 1 Axes>"
      ]
     },
     "metadata": {
      "needs_background": "light"
     },
     "output_type": "display_data"
    }
   ],
   "source": [
    "import matplotlib.pyplot as plt\n",
    "fig7, ax7 = plt.subplots()\n",
    "ax7.set_title('Best Results: Random Forest')\n",
    "ax7.boxplot(B)\n",
    "plt.xticks([1, 2], ['Small', 'Big'])\n",
    "plt.show()"
   ]
  },
  {
   "cell_type": "markdown",
   "id": "f3630cc2-66ef-4a00-b587-fd13d96d3e68",
   "metadata": {},
   "source": [
    "### Training using 90%-10% train-test sets: 12 and 40 features without log. "
   ]
  },
  {
   "cell_type": "code",
   "execution_count": 28,
   "id": "57bdd78d-251b-4ec5-b68e-9fbeaf37860a",
   "metadata": {},
   "outputs": [],
   "source": [
    "from eval_classifiers import EvalClassifiers_9010"
   ]
  },
  {
   "cell_type": "code",
   "execution_count": 29,
   "id": "30a5f89f-ff3f-4c84-bf0c-01985612830b",
   "metadata": {},
   "outputs": [
    {
     "name": "stdout",
     "output_type": "stream",
     "text": [
      "Random Forest\n",
      "              precision    recall  f1-score   support\n",
      "\n",
      "           1       0.62      0.56      0.59         9\n",
      "           2       0.69      0.80      0.74        25\n",
      "           3       0.53      0.53      0.53        19\n",
      "           4       0.38      0.42      0.40        12\n",
      "           5       0.79      0.61      0.69        18\n",
      "           6       0.65      0.61      0.63        18\n",
      "           7       0.60      0.67      0.63        18\n",
      "           8       0.58      0.56      0.57        25\n",
      "\n",
      "    accuracy                           0.61       144\n",
      "   macro avg       0.61      0.59      0.60       144\n",
      "weighted avg       0.62      0.61      0.61       144\n",
      "\n",
      " \n",
      "AdaBoost\n",
      "              precision    recall  f1-score   support\n",
      "\n",
      "           1       0.22      0.22      0.22         9\n",
      "           2       0.43      0.40      0.42        25\n",
      "           3       0.23      0.16      0.19        19\n",
      "           4       0.08      0.08      0.08        12\n",
      "           5       0.27      0.67      0.38        18\n",
      "           6       0.33      0.22      0.27        18\n",
      "           7       0.42      0.28      0.33        18\n",
      "           8       0.35      0.24      0.29        25\n",
      "\n",
      "    accuracy                           0.30       144\n",
      "   macro avg       0.29      0.28      0.27       144\n",
      "weighted avg       0.31      0.30      0.29       144\n",
      "\n",
      " \n",
      "DecisionTree\n",
      "              precision    recall  f1-score   support\n",
      "\n",
      "           1       0.20      0.22      0.21         9\n",
      "           2       0.55      0.48      0.51        25\n",
      "           3       0.22      0.21      0.22        19\n",
      "           4       0.14      0.17      0.15        12\n",
      "           5       0.50      0.44      0.47        18\n",
      "           6       0.36      0.44      0.40        18\n",
      "           7       0.48      0.56      0.51        18\n",
      "           8       0.43      0.36      0.39        25\n",
      "\n",
      "    accuracy                           0.38       144\n",
      "   macro avg       0.36      0.36      0.36       144\n",
      "weighted avg       0.39      0.38      0.38       144\n",
      "\n",
      " \n"
     ]
    }
   ],
   "source": [
    "s_9010 = EvalClassifiers_9010('small_9010', X_train_s, y_train_s, X_test_s, y_test_s)"
   ]
  },
  {
   "cell_type": "code",
   "execution_count": 30,
   "id": "d4045606-7555-4ee3-aa43-8d2e41b0a3bb",
   "metadata": {},
   "outputs": [
    {
     "data": {
      "text/html": [
       "<div>\n",
       "<style scoped>\n",
       "    .dataframe tbody tr th:only-of-type {\n",
       "        vertical-align: middle;\n",
       "    }\n",
       "\n",
       "    .dataframe tbody tr th {\n",
       "        vertical-align: top;\n",
       "    }\n",
       "\n",
       "    .dataframe thead th {\n",
       "        text-align: right;\n",
       "    }\n",
       "</style>\n",
       "<table border=\"1\" class=\"dataframe\">\n",
       "  <thead>\n",
       "    <tr style=\"text-align: right;\">\n",
       "      <th></th>\n",
       "      <th>Random Forest</th>\n",
       "      <th>AdaBoost</th>\n",
       "      <th>DecisionTree</th>\n",
       "    </tr>\n",
       "  </thead>\n",
       "  <tbody>\n",
       "    <tr>\n",
       "      <th>0</th>\n",
       "      <td>0.593428</td>\n",
       "      <td>0.283765</td>\n",
       "      <td>0.360482</td>\n",
       "    </tr>\n",
       "  </tbody>\n",
       "</table>\n",
       "</div>"
      ],
      "text/plain": [
       "   Random Forest  AdaBoost  DecisionTree\n",
       "0       0.593428  0.283765      0.360482"
      ]
     },
     "execution_count": 30,
     "metadata": {},
     "output_type": "execute_result"
    }
   ],
   "source": [
    "s_9010"
   ]
  },
  {
   "cell_type": "code",
   "execution_count": 31,
   "id": "1d4eb08a-5bac-4714-9b5c-9562d14620a2",
   "metadata": {},
   "outputs": [
    {
     "name": "stdout",
     "output_type": "stream",
     "text": [
      "Random Forest\n",
      "              precision    recall  f1-score   support\n",
      "\n",
      "           1       0.54      0.78      0.64         9\n",
      "           2       0.77      0.96      0.86        25\n",
      "           3       0.59      0.53      0.56        19\n",
      "           4       0.58      0.58      0.58        12\n",
      "           5       0.65      0.61      0.63        18\n",
      "           6       0.75      0.83      0.79        18\n",
      "           7       0.58      0.61      0.59        18\n",
      "           8       0.87      0.52      0.65        25\n",
      "\n",
      "    accuracy                           0.68       144\n",
      "   macro avg       0.67      0.68      0.66       144\n",
      "weighted avg       0.69      0.68      0.67       144\n",
      "\n",
      " \n",
      "AdaBoost\n",
      "              precision    recall  f1-score   support\n",
      "\n",
      "           1       0.24      0.44      0.31         9\n",
      "           2       0.64      0.56      0.60        25\n",
      "           3       0.33      0.26      0.29        19\n",
      "           4       0.00      0.00      0.00        12\n",
      "           5       0.30      0.72      0.43        18\n",
      "           6       0.33      0.11      0.17        18\n",
      "           7       0.33      0.33      0.33        18\n",
      "           8       0.18      0.08      0.11        25\n",
      "\n",
      "    accuracy                           0.32       144\n",
      "   macro avg       0.29      0.31      0.28       144\n",
      "weighted avg       0.32      0.32      0.30       144\n",
      "\n",
      " \n",
      "DecisionTree\n",
      "              precision    recall  f1-score   support\n",
      "\n",
      "           1       0.25      0.33      0.29         9\n",
      "           2       0.61      0.68      0.64        25\n",
      "           3       0.30      0.32      0.31        19\n",
      "           4       0.24      0.33      0.28        12\n",
      "           5       0.50      0.50      0.50        18\n",
      "           6       0.42      0.28      0.33        18\n",
      "           7       0.37      0.39      0.38        18\n",
      "           8       0.39      0.28      0.33        25\n",
      "\n",
      "    accuracy                           0.40       144\n",
      "   macro avg       0.38      0.39      0.38       144\n",
      "weighted avg       0.41      0.40      0.40       144\n",
      "\n",
      " \n"
     ]
    }
   ],
   "source": [
    "b_9010 = EvalClassifiers_9010('big_9010', X_train_b, y_train_b, X_test_b, y_test_b)"
   ]
  },
  {
   "cell_type": "code",
   "execution_count": 32,
   "id": "a65c61bb-53e2-4ed1-a796-873f61ea6e42",
   "metadata": {},
   "outputs": [
    {
     "data": {
      "text/html": [
       "<div>\n",
       "<style scoped>\n",
       "    .dataframe tbody tr th:only-of-type {\n",
       "        vertical-align: middle;\n",
       "    }\n",
       "\n",
       "    .dataframe tbody tr th {\n",
       "        vertical-align: top;\n",
       "    }\n",
       "\n",
       "    .dataframe thead th {\n",
       "        text-align: right;\n",
       "    }\n",
       "</style>\n",
       "<table border=\"1\" class=\"dataframe\">\n",
       "  <thead>\n",
       "    <tr style=\"text-align: right;\">\n",
       "      <th></th>\n",
       "      <th>Random Forest</th>\n",
       "      <th>AdaBoost</th>\n",
       "      <th>DecisionTree</th>\n",
       "    </tr>\n",
       "  </thead>\n",
       "  <tbody>\n",
       "    <tr>\n",
       "      <th>0</th>\n",
       "      <td>0.677873</td>\n",
       "      <td>0.314284</td>\n",
       "      <td>0.38864</td>\n",
       "    </tr>\n",
       "  </tbody>\n",
       "</table>\n",
       "</div>"
      ],
      "text/plain": [
       "   Random Forest  AdaBoost  DecisionTree\n",
       "0       0.677873  0.314284       0.38864"
      ]
     },
     "execution_count": 32,
     "metadata": {},
     "output_type": "execute_result"
    }
   ],
   "source": [
    "b_9010 "
   ]
  },
  {
   "cell_type": "markdown",
   "id": "89d8a463-777d-45e8-9be1-4d81107ce964",
   "metadata": {},
   "source": [
    "**Until here model using 40 features (bigger models), in particular, Random Forest are better than the others, using default configuration.**"
   ]
  },
  {
   "cell_type": "markdown",
   "id": "03334c4a-c023-451a-8f5d-ef5bb61953e4",
   "metadata": {},
   "source": [
    "### Training using 90%-10% train-test sets: 12 and 40 features with log. "
   ]
  },
  {
   "cell_type": "code",
   "execution_count": 33,
   "id": "bed1cf93-bd8f-45d9-a54c-67c8710b2b71",
   "metadata": {},
   "outputs": [],
   "source": [
    "X_train_bl, X_test_bl, y_train_bl, y_test_bl = train_test_split(Xbl, ybl, test_size=0.10, random_state=42)\n",
    "X_train_sl, X_test_sl, y_train_sl, y_test_sl = train_test_split(Xsl, ysl, test_size=0.10, random_state=42)"
   ]
  },
  {
   "cell_type": "code",
   "execution_count": 34,
   "id": "b0bcad01-0237-4b60-ba05-85c7e39c1cab",
   "metadata": {},
   "outputs": [
    {
     "name": "stdout",
     "output_type": "stream",
     "text": [
      "Random Forest\n",
      "              precision    recall  f1-score   support\n",
      "\n",
      "           1       0.57      0.44      0.50         9\n",
      "           2       0.58      0.56      0.57        25\n",
      "           3       0.50      0.53      0.51        19\n",
      "           4       0.32      0.50      0.39        12\n",
      "           5       0.62      0.72      0.67        18\n",
      "           6       0.62      0.56      0.59        18\n",
      "           7       0.59      0.56      0.57        18\n",
      "           8       0.55      0.44      0.49        25\n",
      "\n",
      "    accuracy                           0.54       144\n",
      "   macro avg       0.54      0.54      0.54       144\n",
      "weighted avg       0.55      0.54      0.54       144\n",
      "\n",
      " \n",
      "AdaBoost\n",
      "              precision    recall  f1-score   support\n",
      "\n",
      "           1       0.11      0.11      0.11         9\n",
      "           2       0.42      0.44      0.43        25\n",
      "           3       0.33      0.26      0.29        19\n",
      "           4       0.09      0.08      0.09        12\n",
      "           5       0.28      0.39      0.33        18\n",
      "           6       0.44      0.39      0.41        18\n",
      "           7       0.36      0.28      0.31        18\n",
      "           8       0.29      0.32      0.30        25\n",
      "\n",
      "    accuracy                           0.31       144\n",
      "   macro avg       0.29      0.28      0.28       144\n",
      "weighted avg       0.32      0.31      0.31       144\n",
      "\n",
      " \n",
      "DecisionTree\n",
      "              precision    recall  f1-score   support\n",
      "\n",
      "           1       0.21      0.33      0.26         9\n",
      "           2       0.40      0.24      0.30        25\n",
      "           3       0.28      0.26      0.27        19\n",
      "           4       0.15      0.25      0.19        12\n",
      "           5       0.44      0.39      0.41        18\n",
      "           6       0.36      0.28      0.31        18\n",
      "           7       0.36      0.50      0.42        18\n",
      "           8       0.27      0.24      0.26        25\n",
      "\n",
      "    accuracy                           0.31       144\n",
      "   macro avg       0.31      0.31      0.30       144\n",
      "weighted avg       0.32      0.31      0.31       144\n",
      "\n",
      " \n"
     ]
    }
   ],
   "source": [
    "sl_9010 = EvalClassifiers_9010('small_log_9010', X_train_sl, y_train_sl, X_test_sl, y_test_sl)"
   ]
  },
  {
   "cell_type": "code",
   "execution_count": 35,
   "id": "4bb72399-b85e-46ce-a3e4-0a7b754876ad",
   "metadata": {},
   "outputs": [
    {
     "name": "stdout",
     "output_type": "stream",
     "text": [
      "Random Forest\n",
      "              precision    recall  f1-score   support\n",
      "\n",
      "           1       0.75      0.67      0.71         9\n",
      "           2       0.61      0.76      0.68        25\n",
      "           3       0.67      0.63      0.65        19\n",
      "           4       0.50      0.50      0.50        12\n",
      "           5       0.86      0.67      0.75        18\n",
      "           6       0.71      0.67      0.69        18\n",
      "           7       0.54      0.72      0.62        18\n",
      "           8       0.80      0.64      0.71        25\n",
      "\n",
      "    accuracy                           0.67       144\n",
      "   macro avg       0.68      0.66      0.66       144\n",
      "weighted avg       0.68      0.67      0.67       144\n",
      "\n",
      " \n",
      "AdaBoost\n",
      "              precision    recall  f1-score   support\n",
      "\n",
      "           1       0.25      0.22      0.24         9\n",
      "           2       0.44      0.44      0.44        25\n",
      "           3       0.33      0.32      0.32        19\n",
      "           4       0.09      0.17      0.11        12\n",
      "           5       0.17      0.22      0.19        18\n",
      "           6       0.40      0.22      0.29        18\n",
      "           7       0.13      0.11      0.12        18\n",
      "           8       0.38      0.32      0.35        25\n",
      "\n",
      "    accuracy                           0.27       144\n",
      "   macro avg       0.27      0.25      0.26       144\n",
      "weighted avg       0.30      0.27      0.28       144\n",
      "\n",
      " \n",
      "DecisionTree\n",
      "              precision    recall  f1-score   support\n",
      "\n",
      "           1       0.09      0.11      0.10         9\n",
      "           2       0.50      0.40      0.44        25\n",
      "           3       0.12      0.16      0.14        19\n",
      "           4       0.20      0.25      0.22        12\n",
      "           5       0.43      0.56      0.49        18\n",
      "           6       0.36      0.44      0.40        18\n",
      "           7       0.27      0.22      0.24        18\n",
      "           8       0.21      0.12      0.15        25\n",
      "\n",
      "    accuracy                           0.29       144\n",
      "   macro avg       0.27      0.28      0.27       144\n",
      "weighted avg       0.30      0.29      0.29       144\n",
      "\n",
      " \n"
     ]
    }
   ],
   "source": [
    "bl_9010 = EvalClassifiers_9010('big_log_9010', X_train_bl, y_train_bl, X_test_bl, y_test_bl)"
   ]
  },
  {
   "cell_type": "markdown",
   "id": "bdbaf76b-6c17-4f3b-beab-58900d73ce42",
   "metadata": {},
   "source": [
    "**Again Random Forest Model using 40 features (bigger) obtain better results without log the amplitude, and using default configuration.**"
   ]
  },
  {
   "cell_type": "markdown",
   "id": "ae44e98b-1978-4e72-8ece-f88d34fec262",
   "metadata": {},
   "source": [
    "### First Conclusions\n",
    "\n",
    "Until here **Hypothesis 1** was confirmed: models using more features obtain better results. Random Forest was the best model using balanced accuracy and other average metrics. \n",
    "\n",
    "**Hypothesis 2** was not true, the performance is worse in some cases. "
   ]
  },
  {
   "cell_type": "markdown",
   "id": "eb97337d-e286-4184-897f-e0c81a77b219",
   "metadata": {},
   "source": [
    "## Applying Data Augmentation"
   ]
  },
  {
   "cell_type": "markdown",
   "id": "b2574522-eb33-4e58-8c6d-275678776cb5",
   "metadata": {},
   "source": [
    "Con audio a 48 KHz"
   ]
  },
  {
   "cell_type": "code",
   "execution_count": 4,
   "id": "dac44ebe-a3d0-4b8d-9c18-43c0b9f592ff",
   "metadata": {},
   "outputs": [],
   "source": [
    "filename = '../processed_data/MFCCs_AUGMENTED_48.npy'\n",
    "# open file in write mode and write data\n",
    "with open(filename, 'rb') as f:\n",
    "    F12 = np.load(f)\n",
    "    F40 = np.load(f)\n",
    "    Y = np.load(f)"
   ]
  },
  {
   "cell_type": "markdown",
   "id": "7b692a75-76d9-45cf-817d-affa57c4fe69",
   "metadata": {},
   "source": [
    "Loading the mel-spectrograms augmented for 12 and 40 bins. "
   ]
  },
  {
   "cell_type": "code",
   "execution_count": 7,
   "id": "bc2c4f1d-e82e-4528-a742-fae6b7e3b7f2",
   "metadata": {},
   "outputs": [
    {
     "name": "stdout",
     "output_type": "stream",
     "text": [
      "(5760, 12)\n",
      "(5760, 40)\n",
      "(5760,)\n"
     ]
    }
   ],
   "source": [
    "print(F12.shape)\n",
    "print(F40.shape)\n",
    "print(Y.shape)"
   ]
  },
  {
   "cell_type": "code",
   "execution_count": 15,
   "id": "bbe0e1fb-e488-47ce-9515-b167c000b30e",
   "metadata": {},
   "outputs": [],
   "source": [
    "X_train_aug_12, X_test_aug_12, y_train_aug_12, y_test_aug_12 = train_test_split(F12, Y, test_size=0.05, random_state=42)"
   ]
  },
  {
   "cell_type": "code",
   "execution_count": 16,
   "id": "b41ba5d4-67c3-42ff-a088-bab653c61157",
   "metadata": {},
   "outputs": [],
   "source": [
    "results_small_ensemble_48 = EvalClassifiers(\"small_ensemble_48\", X_train_aug_12, y_train_aug_12, n_splits=10)"
   ]
  },
  {
   "cell_type": "code",
   "execution_count": 17,
   "id": "801bae24-3445-40ee-947c-ba6eb7863407",
   "metadata": {},
   "outputs": [
    {
     "data": {
      "image/png": "[encoded data removed]",
      "text/plain": [
       "<Figure size 432x288 with 1 Axes>"
      ]
     },
     "metadata": {
      "needs_background": "light"
     },
     "output_type": "display_data"
    }
   ],
   "source": [
    "boxplot = results_small_ensemble_48.boxplot(column=[\"Random Forest\", \"AdaBoost\", \"DecisionTree\"])"
   ]
  },
  {
   "cell_type": "code",
   "execution_count": 14,
   "id": "bb9d36f9-5a3f-4bd2-9ba4-0088c7202d8f",
   "metadata": {},
   "outputs": [
    {
     "data": {
      "text/html": [
       "<div>\n",
       "<style scoped>\n",
       "    .dataframe tbody tr th:only-of-type {\n",
       "        vertical-align: middle;\n",
       "    }\n",
       "\n",
       "    .dataframe tbody tr th {\n",
       "        vertical-align: top;\n",
       "    }\n",
       "\n",
       "    .dataframe thead th {\n",
       "        text-align: right;\n",
       "    }\n",
       "</style>\n",
       "<table border=\"1\" class=\"dataframe\">\n",
       "  <thead>\n",
       "    <tr style=\"text-align: right;\">\n",
       "      <th></th>\n",
       "      <th>Random Forest</th>\n",
       "      <th>AdaBoost</th>\n",
       "      <th>DecisionTree</th>\n",
       "    </tr>\n",
       "  </thead>\n",
       "  <tbody>\n",
       "    <tr>\n",
       "      <th>0</th>\n",
       "      <td>0.866566</td>\n",
       "      <td>0.351959</td>\n",
       "      <td>0.687269</td>\n",
       "    </tr>\n",
       "    <tr>\n",
       "      <th>0</th>\n",
       "      <td>0.826845</td>\n",
       "      <td>0.321767</td>\n",
       "      <td>0.665023</td>\n",
       "    </tr>\n",
       "    <tr>\n",
       "      <th>0</th>\n",
       "      <td>0.873605</td>\n",
       "      <td>0.324258</td>\n",
       "      <td>0.669928</td>\n",
       "    </tr>\n",
       "    <tr>\n",
       "      <th>0</th>\n",
       "      <td>0.829361</td>\n",
       "      <td>0.355138</td>\n",
       "      <td>0.668363</td>\n",
       "    </tr>\n",
       "    <tr>\n",
       "      <th>0</th>\n",
       "      <td>0.854400</td>\n",
       "      <td>0.331310</td>\n",
       "      <td>0.659506</td>\n",
       "    </tr>\n",
       "    <tr>\n",
       "      <th>0</th>\n",
       "      <td>0.880558</td>\n",
       "      <td>0.312094</td>\n",
       "      <td>0.673985</td>\n",
       "    </tr>\n",
       "    <tr>\n",
       "      <th>0</th>\n",
       "      <td>0.867894</td>\n",
       "      <td>0.353494</td>\n",
       "      <td>0.681779</td>\n",
       "    </tr>\n",
       "    <tr>\n",
       "      <th>0</th>\n",
       "      <td>0.859343</td>\n",
       "      <td>0.384646</td>\n",
       "      <td>0.659505</td>\n",
       "    </tr>\n",
       "    <tr>\n",
       "      <th>0</th>\n",
       "      <td>0.851654</td>\n",
       "      <td>0.339352</td>\n",
       "      <td>0.664188</td>\n",
       "    </tr>\n",
       "    <tr>\n",
       "      <th>0</th>\n",
       "      <td>0.847408</td>\n",
       "      <td>0.345353</td>\n",
       "      <td>0.654221</td>\n",
       "    </tr>\n",
       "  </tbody>\n",
       "</table>\n",
       "</div>"
      ],
      "text/plain": [
       "   Random Forest  AdaBoost  DecisionTree\n",
       "0       0.866566  0.351959      0.687269\n",
       "0       0.826845  0.321767      0.665023\n",
       "0       0.873605  0.324258      0.669928\n",
       "0       0.829361  0.355138      0.668363\n",
       "0       0.854400  0.331310      0.659506\n",
       "0       0.880558  0.312094      0.673985\n",
       "0       0.867894  0.353494      0.681779\n",
       "0       0.859343  0.384646      0.659505\n",
       "0       0.851654  0.339352      0.664188\n",
       "0       0.847408  0.345353      0.654221"
      ]
     },
     "execution_count": 14,
     "metadata": {},
     "output_type": "execute_result"
    }
   ],
   "source": [
    "results_small_ensemble_48"
   ]
  },
  {
   "cell_type": "code",
   "execution_count": 24,
   "id": "c048c7ea-4ab2-4db4-bf2a-308c5d2e955a",
   "metadata": {},
   "outputs": [
    {
     "data": {
      "text/html": [
       "<div>\n",
       "<style scoped>\n",
       "    .dataframe tbody tr th:only-of-type {\n",
       "        vertical-align: middle;\n",
       "    }\n",
       "\n",
       "    .dataframe tbody tr th {\n",
       "        vertical-align: top;\n",
       "    }\n",
       "\n",
       "    .dataframe thead th {\n",
       "        text-align: right;\n",
       "    }\n",
       "</style>\n",
       "<table border=\"1\" class=\"dataframe\">\n",
       "  <thead>\n",
       "    <tr style=\"text-align: right;\">\n",
       "      <th></th>\n",
       "      <th>Random Forest</th>\n",
       "      <th>AdaBoost</th>\n",
       "      <th>DecisionTree</th>\n",
       "    </tr>\n",
       "  </thead>\n",
       "  <tbody>\n",
       "    <tr>\n",
       "      <th>count</th>\n",
       "      <td>10.000000</td>\n",
       "      <td>10.000000</td>\n",
       "      <td>10.000000</td>\n",
       "    </tr>\n",
       "    <tr>\n",
       "      <th>mean</th>\n",
       "      <td>0.858554</td>\n",
       "      <td>0.343316</td>\n",
       "      <td>0.671268</td>\n",
       "    </tr>\n",
       "    <tr>\n",
       "      <th>std</th>\n",
       "      <td>0.010629</td>\n",
       "      <td>0.010577</td>\n",
       "      <td>0.026841</td>\n",
       "    </tr>\n",
       "    <tr>\n",
       "      <th>min</th>\n",
       "      <td>0.842286</td>\n",
       "      <td>0.317702</td>\n",
       "      <td>0.629895</td>\n",
       "    </tr>\n",
       "    <tr>\n",
       "      <th>25%</th>\n",
       "      <td>0.852351</td>\n",
       "      <td>0.338893</td>\n",
       "      <td>0.650105</td>\n",
       "    </tr>\n",
       "    <tr>\n",
       "      <th>50%</th>\n",
       "      <td>0.860642</td>\n",
       "      <td>0.346867</td>\n",
       "      <td>0.674835</td>\n",
       "    </tr>\n",
       "    <tr>\n",
       "      <th>75%</th>\n",
       "      <td>0.867389</td>\n",
       "      <td>0.350493</td>\n",
       "      <td>0.689598</td>\n",
       "    </tr>\n",
       "    <tr>\n",
       "      <th>max</th>\n",
       "      <td>0.870220</td>\n",
       "      <td>0.352678</td>\n",
       "      <td>0.711355</td>\n",
       "    </tr>\n",
       "  </tbody>\n",
       "</table>\n",
       "</div>"
      ],
      "text/plain": [
       "       Random Forest   AdaBoost  DecisionTree\n",
       "count      10.000000  10.000000     10.000000\n",
       "mean        0.858554   0.343316      0.671268\n",
       "std         0.010629   0.010577      0.026841\n",
       "min         0.842286   0.317702      0.629895\n",
       "25%         0.852351   0.338893      0.650105\n",
       "50%         0.860642   0.346867      0.674835\n",
       "75%         0.867389   0.350493      0.689598\n",
       "max         0.870220   0.352678      0.711355"
      ]
     },
     "execution_count": 24,
     "metadata": {},
     "output_type": "execute_result"
    }
   ],
   "source": [
    "results_small_ensemble_48.describe()"
   ]
  },
  {
   "cell_type": "code",
   "execution_count": 20,
   "id": "ab555b5d-1ddb-4311-b3fc-baa64807f838",
   "metadata": {},
   "outputs": [],
   "source": [
    "X_train_aug_40, X_test_aug_40, y_train_aug_40, y_test_aug_40 = train_test_split(F40, Y, test_size=0.05, random_state=42)"
   ]
  },
  {
   "cell_type": "code",
   "execution_count": 21,
   "id": "baac822b-de6f-4328-9a14-9be52e83f077",
   "metadata": {},
   "outputs": [],
   "source": [
    "results_big_ensemble_48 = EvalClassifiers(\"big_ensemble_48\", X_train_aug_40, y_train_aug_40, n_splits=10)"
   ]
  },
  {
   "cell_type": "code",
   "execution_count": 23,
   "id": "e8369889-6ba9-4621-9936-2c48e1b03f1a",
   "metadata": {},
   "outputs": [
    {
     "data": {
      "text/html": [
       "<div>\n",
       "<style scoped>\n",
       "    .dataframe tbody tr th:only-of-type {\n",
       "        vertical-align: middle;\n",
       "    }\n",
       "\n",
       "    .dataframe tbody tr th {\n",
       "        vertical-align: top;\n",
       "    }\n",
       "\n",
       "    .dataframe thead th {\n",
       "        text-align: right;\n",
       "    }\n",
       "</style>\n",
       "<table border=\"1\" class=\"dataframe\">\n",
       "  <thead>\n",
       "    <tr style=\"text-align: right;\">\n",
       "      <th></th>\n",
       "      <th>Random Forest</th>\n",
       "      <th>AdaBoost</th>\n",
       "      <th>DecisionTree</th>\n",
       "    </tr>\n",
       "  </thead>\n",
       "  <tbody>\n",
       "    <tr>\n",
       "      <th>0</th>\n",
       "      <td>0.859751</td>\n",
       "      <td>0.380280</td>\n",
       "      <td>0.639062</td>\n",
       "    </tr>\n",
       "    <tr>\n",
       "      <th>0</th>\n",
       "      <td>0.849448</td>\n",
       "      <td>0.370243</td>\n",
       "      <td>0.661290</td>\n",
       "    </tr>\n",
       "    <tr>\n",
       "      <th>0</th>\n",
       "      <td>0.864742</td>\n",
       "      <td>0.356757</td>\n",
       "      <td>0.631843</td>\n",
       "    </tr>\n",
       "    <tr>\n",
       "      <th>0</th>\n",
       "      <td>0.839194</td>\n",
       "      <td>0.375495</td>\n",
       "      <td>0.659444</td>\n",
       "    </tr>\n",
       "    <tr>\n",
       "      <th>0</th>\n",
       "      <td>0.841920</td>\n",
       "      <td>0.376413</td>\n",
       "      <td>0.607403</td>\n",
       "    </tr>\n",
       "    <tr>\n",
       "      <th>0</th>\n",
       "      <td>0.870863</td>\n",
       "      <td>0.363827</td>\n",
       "      <td>0.660727</td>\n",
       "    </tr>\n",
       "    <tr>\n",
       "      <th>0</th>\n",
       "      <td>0.869717</td>\n",
       "      <td>0.355620</td>\n",
       "      <td>0.600546</td>\n",
       "    </tr>\n",
       "    <tr>\n",
       "      <th>0</th>\n",
       "      <td>0.863011</td>\n",
       "      <td>0.336847</td>\n",
       "      <td>0.619800</td>\n",
       "    </tr>\n",
       "    <tr>\n",
       "      <th>0</th>\n",
       "      <td>0.867797</td>\n",
       "      <td>0.367650</td>\n",
       "      <td>0.631607</td>\n",
       "    </tr>\n",
       "    <tr>\n",
       "      <th>0</th>\n",
       "      <td>0.879044</td>\n",
       "      <td>0.336916</td>\n",
       "      <td>0.635092</td>\n",
       "    </tr>\n",
       "  </tbody>\n",
       "</table>\n",
       "</div>"
      ],
      "text/plain": [
       "   Random Forest  AdaBoost  DecisionTree\n",
       "0       0.859751  0.380280      0.639062\n",
       "0       0.849448  0.370243      0.661290\n",
       "0       0.864742  0.356757      0.631843\n",
       "0       0.839194  0.375495      0.659444\n",
       "0       0.841920  0.376413      0.607403\n",
       "0       0.870863  0.363827      0.660727\n",
       "0       0.869717  0.355620      0.600546\n",
       "0       0.863011  0.336847      0.619800\n",
       "0       0.867797  0.367650      0.631607\n",
       "0       0.879044  0.336916      0.635092"
      ]
     },
     "execution_count": 23,
     "metadata": {},
     "output_type": "execute_result"
    }
   ],
   "source": [
    "results_big_ensemble_48"
   ]
  },
  {
   "cell_type": "code",
   "execution_count": 22,
   "id": "5f615354-9f9c-4e7a-a855-2ec25066760f",
   "metadata": {},
   "outputs": [
    {
     "data": {
      "image/png": "[encoded data removed]",
      "text/plain": [
       "<Figure size 432x288 with 1 Axes>"
      ]
     },
     "metadata": {
      "needs_background": "light"
     },
     "output_type": "display_data"
    }
   ],
   "source": [
    "boxplot = results_big_ensemble_48.boxplot(column=[\"Random Forest\", \"AdaBoost\", \"DecisionTree\"])"
   ]
  },
  {
   "cell_type": "code",
   "execution_count": 25,
   "id": "84abc170-00bf-4025-995b-aadc5601c09a",
   "metadata": {},
   "outputs": [
    {
     "data": {
      "text/html": [
       "<div>\n",
       "<style scoped>\n",
       "    .dataframe tbody tr th:only-of-type {\n",
       "        vertical-align: middle;\n",
       "    }\n",
       "\n",
       "    .dataframe tbody tr th {\n",
       "        vertical-align: top;\n",
       "    }\n",
       "\n",
       "    .dataframe thead th {\n",
       "        text-align: right;\n",
       "    }\n",
       "</style>\n",
       "<table border=\"1\" class=\"dataframe\">\n",
       "  <thead>\n",
       "    <tr style=\"text-align: right;\">\n",
       "      <th></th>\n",
       "      <th>Random Forest</th>\n",
       "      <th>AdaBoost</th>\n",
       "      <th>DecisionTree</th>\n",
       "    </tr>\n",
       "  </thead>\n",
       "  <tbody>\n",
       "    <tr>\n",
       "      <th>count</th>\n",
       "      <td>10.000000</td>\n",
       "      <td>10.000000</td>\n",
       "      <td>10.000000</td>\n",
       "    </tr>\n",
       "    <tr>\n",
       "      <th>mean</th>\n",
       "      <td>0.860549</td>\n",
       "      <td>0.362005</td>\n",
       "      <td>0.634681</td>\n",
       "    </tr>\n",
       "    <tr>\n",
       "      <th>std</th>\n",
       "      <td>0.013062</td>\n",
       "      <td>0.015482</td>\n",
       "      <td>0.021518</td>\n",
       "    </tr>\n",
       "    <tr>\n",
       "      <th>min</th>\n",
       "      <td>0.839194</td>\n",
       "      <td>0.336847</td>\n",
       "      <td>0.600546</td>\n",
       "    </tr>\n",
       "    <tr>\n",
       "      <th>25%</th>\n",
       "      <td>0.852023</td>\n",
       "      <td>0.355904</td>\n",
       "      <td>0.622752</td>\n",
       "    </tr>\n",
       "    <tr>\n",
       "      <th>50%</th>\n",
       "      <td>0.863877</td>\n",
       "      <td>0.365739</td>\n",
       "      <td>0.633467</td>\n",
       "    </tr>\n",
       "    <tr>\n",
       "      <th>75%</th>\n",
       "      <td>0.869237</td>\n",
       "      <td>0.374182</td>\n",
       "      <td>0.654349</td>\n",
       "    </tr>\n",
       "    <tr>\n",
       "      <th>max</th>\n",
       "      <td>0.879044</td>\n",
       "      <td>0.380280</td>\n",
       "      <td>0.661290</td>\n",
       "    </tr>\n",
       "  </tbody>\n",
       "</table>\n",
       "</div>"
      ],
      "text/plain": [
       "       Random Forest   AdaBoost  DecisionTree\n",
       "count      10.000000  10.000000     10.000000\n",
       "mean        0.860549   0.362005      0.634681\n",
       "std         0.013062   0.015482      0.021518\n",
       "min         0.839194   0.336847      0.600546\n",
       "25%         0.852023   0.355904      0.622752\n",
       "50%         0.863877   0.365739      0.633467\n",
       "75%         0.869237   0.374182      0.654349\n",
       "max         0.879044   0.380280      0.661290"
      ]
     },
     "execution_count": 25,
     "metadata": {},
     "output_type": "execute_result"
    }
   ],
   "source": [
    "results_big_ensemble_48.describe()"
   ]
  },
  {
   "cell_type": "markdown",
   "id": "d0ed7818-4104-453e-b848-3bb5331f581a",
   "metadata": {},
   "source": [
    "A 48 KHz es mejor el resultado obtenido con 40 features provenientes del MFCCs!"
   ]
  },
  {
   "cell_type": "markdown",
   "id": "4271efa8-e3ee-4382-92e9-6b2aa1c9821d",
   "metadata": {},
   "source": [
    "Con audio a 22 KHz"
   ]
  },
  {
   "cell_type": "code",
   "execution_count": 26,
   "id": "50a80015-8fbb-4b0c-bb8c-e6fadcedd6e4",
   "metadata": {},
   "outputs": [],
   "source": [
    "filename = '../processed_data/MFCCs_AUGMENTED_22.npy'\n",
    "# open file in write mode and write data\n",
    "with open(filename, 'rb') as f:\n",
    "    F12 = np.load(f)\n",
    "    F40 = np.load(f)\n",
    "    Y = np.load(f)"
   ]
  },
  {
   "cell_type": "code",
   "execution_count": 27,
   "id": "27566255-6eec-425b-82d4-558c3bc612d3",
   "metadata": {},
   "outputs": [],
   "source": [
    "X_train_aug_12, X_test_aug_12, y_train_aug_12, y_test_aug_12 = train_test_split(F12, Y, test_size=0.05, random_state=42)"
   ]
  },
  {
   "cell_type": "code",
   "execution_count": 28,
   "id": "8ae447c2-3c67-4899-83e8-4c1aad3dd56e",
   "metadata": {},
   "outputs": [],
   "source": [
    "results_small_ensemble_22 = EvalClassifiers(\"small_ensemble_22\", X_train_aug_12, y_train_aug_12, n_splits=10)"
   ]
  },
  {
   "cell_type": "code",
   "execution_count": 29,
   "id": "0f6f013a-f4f1-4562-b3c3-c47c1d0fbd8c",
   "metadata": {},
   "outputs": [
    {
     "data": {
      "image/png": "[encoded data removed]",
      "text/plain": [
       "<Figure size 432x288 with 1 Axes>"
      ]
     },
     "metadata": {
      "needs_background": "light"
     },
     "output_type": "display_data"
    }
   ],
   "source": [
    "boxplot = results_small_ensemble_22.boxplot(column=[\"Random Forest\", \"AdaBoost\", \"DecisionTree\"])"
   ]
  },
  {
   "cell_type": "code",
   "execution_count": 30,
   "id": "ef60b61f-0057-48a6-9d77-d98fbd0283ad",
   "metadata": {},
   "outputs": [
    {
     "data": {
      "text/html": [
       "<div>\n",
       "<style scoped>\n",
       "    .dataframe tbody tr th:only-of-type {\n",
       "        vertical-align: middle;\n",
       "    }\n",
       "\n",
       "    .dataframe tbody tr th {\n",
       "        vertical-align: top;\n",
       "    }\n",
       "\n",
       "    .dataframe thead th {\n",
       "        text-align: right;\n",
       "    }\n",
       "</style>\n",
       "<table border=\"1\" class=\"dataframe\">\n",
       "  <thead>\n",
       "    <tr style=\"text-align: right;\">\n",
       "      <th></th>\n",
       "      <th>Random Forest</th>\n",
       "      <th>AdaBoost</th>\n",
       "      <th>DecisionTree</th>\n",
       "    </tr>\n",
       "  </thead>\n",
       "  <tbody>\n",
       "    <tr>\n",
       "      <th>count</th>\n",
       "      <td>10.000000</td>\n",
       "      <td>10.000000</td>\n",
       "      <td>10.000000</td>\n",
       "    </tr>\n",
       "    <tr>\n",
       "      <th>mean</th>\n",
       "      <td>0.821564</td>\n",
       "      <td>0.344968</td>\n",
       "      <td>0.633346</td>\n",
       "    </tr>\n",
       "    <tr>\n",
       "      <th>std</th>\n",
       "      <td>0.016736</td>\n",
       "      <td>0.015225</td>\n",
       "      <td>0.015959</td>\n",
       "    </tr>\n",
       "    <tr>\n",
       "      <th>min</th>\n",
       "      <td>0.793242</td>\n",
       "      <td>0.323484</td>\n",
       "      <td>0.613878</td>\n",
       "    </tr>\n",
       "    <tr>\n",
       "      <th>25%</th>\n",
       "      <td>0.812845</td>\n",
       "      <td>0.337970</td>\n",
       "      <td>0.621247</td>\n",
       "    </tr>\n",
       "    <tr>\n",
       "      <th>50%</th>\n",
       "      <td>0.818462</td>\n",
       "      <td>0.342394</td>\n",
       "      <td>0.630618</td>\n",
       "    </tr>\n",
       "    <tr>\n",
       "      <th>75%</th>\n",
       "      <td>0.833517</td>\n",
       "      <td>0.349642</td>\n",
       "      <td>0.641575</td>\n",
       "    </tr>\n",
       "    <tr>\n",
       "      <th>max</th>\n",
       "      <td>0.845670</td>\n",
       "      <td>0.370181</td>\n",
       "      <td>0.666438</td>\n",
       "    </tr>\n",
       "  </tbody>\n",
       "</table>\n",
       "</div>"
      ],
      "text/plain": [
       "       Random Forest   AdaBoost  DecisionTree\n",
       "count      10.000000  10.000000     10.000000\n",
       "mean        0.821564   0.344968      0.633346\n",
       "std         0.016736   0.015225      0.015959\n",
       "min         0.793242   0.323484      0.613878\n",
       "25%         0.812845   0.337970      0.621247\n",
       "50%         0.818462   0.342394      0.630618\n",
       "75%         0.833517   0.349642      0.641575\n",
       "max         0.845670   0.370181      0.666438"
      ]
     },
     "execution_count": 30,
     "metadata": {},
     "output_type": "execute_result"
    }
   ],
   "source": [
    "results_small_ensemble_22.describe()"
   ]
  },
  {
   "cell_type": "code",
   "execution_count": 31,
   "id": "42c0243c-9e5c-40f5-8fc8-2e8d25ce812b",
   "metadata": {},
   "outputs": [],
   "source": [
    "X_train_aug_40, X_test_aug_40, y_train_aug_40, y_test_aug_40 = train_test_split(F40, Y, test_size=0.05, random_state=42)"
   ]
  },
  {
   "cell_type": "code",
   "execution_count": 32,
   "id": "7c77ed1f-5b1e-49d2-acbf-54b3926af9e0",
   "metadata": {},
   "outputs": [],
   "source": [
    "results_big_ensemble_22 = EvalClassifiers(\"big_ensemble_22\", X_train_aug_40, y_train_aug_40, n_splits=10)"
   ]
  },
  {
   "cell_type": "code",
   "execution_count": 33,
   "id": "cddc84ce-963f-4e37-93ca-b97457f515ee",
   "metadata": {},
   "outputs": [
    {
     "data": {
      "text/html": [
       "<div>\n",
       "<style scoped>\n",
       "    .dataframe tbody tr th:only-of-type {\n",
       "        vertical-align: middle;\n",
       "    }\n",
       "\n",
       "    .dataframe tbody tr th {\n",
       "        vertical-align: top;\n",
       "    }\n",
       "\n",
       "    .dataframe thead th {\n",
       "        text-align: right;\n",
       "    }\n",
       "</style>\n",
       "<table border=\"1\" class=\"dataframe\">\n",
       "  <thead>\n",
       "    <tr style=\"text-align: right;\">\n",
       "      <th></th>\n",
       "      <th>Random Forest</th>\n",
       "      <th>AdaBoost</th>\n",
       "      <th>DecisionTree</th>\n",
       "    </tr>\n",
       "  </thead>\n",
       "  <tbody>\n",
       "    <tr>\n",
       "      <th>0</th>\n",
       "      <td>0.809794</td>\n",
       "      <td>0.338799</td>\n",
       "      <td>0.588383</td>\n",
       "    </tr>\n",
       "    <tr>\n",
       "      <th>0</th>\n",
       "      <td>0.837743</td>\n",
       "      <td>0.345000</td>\n",
       "      <td>0.596883</td>\n",
       "    </tr>\n",
       "    <tr>\n",
       "      <th>0</th>\n",
       "      <td>0.847402</td>\n",
       "      <td>0.355330</td>\n",
       "      <td>0.624876</td>\n",
       "    </tr>\n",
       "    <tr>\n",
       "      <th>0</th>\n",
       "      <td>0.832274</td>\n",
       "      <td>0.350594</td>\n",
       "      <td>0.621332</td>\n",
       "    </tr>\n",
       "    <tr>\n",
       "      <th>0</th>\n",
       "      <td>0.823320</td>\n",
       "      <td>0.327743</td>\n",
       "      <td>0.564544</td>\n",
       "    </tr>\n",
       "    <tr>\n",
       "      <th>0</th>\n",
       "      <td>0.845457</td>\n",
       "      <td>0.364149</td>\n",
       "      <td>0.600901</td>\n",
       "    </tr>\n",
       "    <tr>\n",
       "      <th>0</th>\n",
       "      <td>0.825231</td>\n",
       "      <td>0.380768</td>\n",
       "      <td>0.627501</td>\n",
       "    </tr>\n",
       "    <tr>\n",
       "      <th>0</th>\n",
       "      <td>0.840533</td>\n",
       "      <td>0.355644</td>\n",
       "      <td>0.614835</td>\n",
       "    </tr>\n",
       "    <tr>\n",
       "      <th>0</th>\n",
       "      <td>0.857238</td>\n",
       "      <td>0.379902</td>\n",
       "      <td>0.624752</td>\n",
       "    </tr>\n",
       "    <tr>\n",
       "      <th>0</th>\n",
       "      <td>0.839318</td>\n",
       "      <td>0.367484</td>\n",
       "      <td>0.594382</td>\n",
       "    </tr>\n",
       "  </tbody>\n",
       "</table>\n",
       "</div>"
      ],
      "text/plain": [
       "   Random Forest  AdaBoost  DecisionTree\n",
       "0       0.809794  0.338799      0.588383\n",
       "0       0.837743  0.345000      0.596883\n",
       "0       0.847402  0.355330      0.624876\n",
       "0       0.832274  0.350594      0.621332\n",
       "0       0.823320  0.327743      0.564544\n",
       "0       0.845457  0.364149      0.600901\n",
       "0       0.825231  0.380768      0.627501\n",
       "0       0.840533  0.355644      0.614835\n",
       "0       0.857238  0.379902      0.624752\n",
       "0       0.839318  0.367484      0.594382"
      ]
     },
     "execution_count": 33,
     "metadata": {},
     "output_type": "execute_result"
    }
   ],
   "source": [
    "results_big_ensemble_22"
   ]
  },
  {
   "cell_type": "code",
   "execution_count": 34,
   "id": "8bec4456-9142-4caa-9d9b-f5f13aadd00e",
   "metadata": {},
   "outputs": [
    {
     "data": {
      "image/png": "[encoded data removed]",
      "text/plain": [
       "<Figure size 432x288 with 1 Axes>"
      ]
     },
     "metadata": {
      "needs_background": "light"
     },
     "output_type": "display_data"
    }
   ],
   "source": [
    "boxplot = results_big_ensemble_22.boxplot(column=[\"Random Forest\", \"AdaBoost\", \"DecisionTree\"])"
   ]
  },
  {
   "cell_type": "code",
   "execution_count": 35,
   "id": "99c827d8-4f63-4805-a25a-781a943cf896",
   "metadata": {},
   "outputs": [
    {
     "data": {
      "text/html": [
       "<div>\n",
       "<style scoped>\n",
       "    .dataframe tbody tr th:only-of-type {\n",
       "        vertical-align: middle;\n",
       "    }\n",
       "\n",
       "    .dataframe tbody tr th {\n",
       "        vertical-align: top;\n",
       "    }\n",
       "\n",
       "    .dataframe thead th {\n",
       "        text-align: right;\n",
       "    }\n",
       "</style>\n",
       "<table border=\"1\" class=\"dataframe\">\n",
       "  <thead>\n",
       "    <tr style=\"text-align: right;\">\n",
       "      <th></th>\n",
       "      <th>Random Forest</th>\n",
       "      <th>AdaBoost</th>\n",
       "      <th>DecisionTree</th>\n",
       "    </tr>\n",
       "  </thead>\n",
       "  <tbody>\n",
       "    <tr>\n",
       "      <th>count</th>\n",
       "      <td>10.000000</td>\n",
       "      <td>10.000000</td>\n",
       "      <td>10.000000</td>\n",
       "    </tr>\n",
       "    <tr>\n",
       "      <th>mean</th>\n",
       "      <td>0.835831</td>\n",
       "      <td>0.356541</td>\n",
       "      <td>0.605839</td>\n",
       "    </tr>\n",
       "    <tr>\n",
       "      <th>std</th>\n",
       "      <td>0.013672</td>\n",
       "      <td>0.017079</td>\n",
       "      <td>0.020429</td>\n",
       "    </tr>\n",
       "    <tr>\n",
       "      <th>min</th>\n",
       "      <td>0.809794</td>\n",
       "      <td>0.327743</td>\n",
       "      <td>0.564544</td>\n",
       "    </tr>\n",
       "    <tr>\n",
       "      <th>25%</th>\n",
       "      <td>0.826992</td>\n",
       "      <td>0.346399</td>\n",
       "      <td>0.595007</td>\n",
       "    </tr>\n",
       "    <tr>\n",
       "      <th>50%</th>\n",
       "      <td>0.838531</td>\n",
       "      <td>0.355487</td>\n",
       "      <td>0.607868</td>\n",
       "    </tr>\n",
       "    <tr>\n",
       "      <th>75%</th>\n",
       "      <td>0.844226</td>\n",
       "      <td>0.366650</td>\n",
       "      <td>0.623897</td>\n",
       "    </tr>\n",
       "    <tr>\n",
       "      <th>max</th>\n",
       "      <td>0.857238</td>\n",
       "      <td>0.380768</td>\n",
       "      <td>0.627501</td>\n",
       "    </tr>\n",
       "  </tbody>\n",
       "</table>\n",
       "</div>"
      ],
      "text/plain": [
       "       Random Forest   AdaBoost  DecisionTree\n",
       "count      10.000000  10.000000     10.000000\n",
       "mean        0.835831   0.356541      0.605839\n",
       "std         0.013672   0.017079      0.020429\n",
       "min         0.809794   0.327743      0.564544\n",
       "25%         0.826992   0.346399      0.595007\n",
       "50%         0.838531   0.355487      0.607868\n",
       "75%         0.844226   0.366650      0.623897\n",
       "max         0.857238   0.380768      0.627501"
      ]
     },
     "execution_count": 35,
     "metadata": {},
     "output_type": "execute_result"
    }
   ],
   "source": [
    "results_big_ensemble_22.describe()"
   ]
  },
  {
   "cell_type": "markdown",
   "id": "3663f72a-fed6-48f8-8cb6-371a369ca14e",
   "metadata": {},
   "source": [
    "Los modelos internamente normalizan las matrices de características! (observación), la función EvalClassifiers contiene la normalización. "
   ]
  },
  {
   "cell_type": "markdown",
   "id": "9c9adf1b-bcb9-4352-aec8-72fb7e7c61c4",
   "metadata": {},
   "source": [
    "**Conclusion**: A mayor frecuencia de muestreo y a mayor cantidad de bandas mel es mejor el resultado obtenido por random forest!"
   ]
  },
  {
   "cell_type": "markdown",
   "id": "702ce195-7b67-4e53-87e1-7dfc8fbd42ae",
   "metadata": {},
   "source": [
    "# Here I explore a hyperparameter tuning alternative: keras_tuner"
   ]
  },
  {
   "cell_type": "markdown",
   "id": "170ae44c-7502-4c2c-90c0-744e26c3d6a2",
   "metadata": {},
   "source": [
    "### Tunning the Hyperparameters: Random Forest with 40 MFCCs"
   ]
  },
  {
   "cell_type": "code",
   "execution_count": 36,
   "id": "4462c8fc-63b1-4852-b9bc-3fc07b9affb1",
   "metadata": {},
   "outputs": [
    {
     "name": "stdout",
     "output_type": "stream",
     "text": [
      "Collecting keras-tuner\n",
      "  Downloading keras_tuner-1.0.4-py3-none-any.whl (97 kB)\n",
      "\u001b[K     |████████████████████████████████| 97 kB 910 kB/s eta 0:00:01\n",
      "\u001b[?25hRequirement already satisfied: scipy in /usr/local/lib/python3.8/site-packages (from keras-tuner) (1.7.1)\n",
      "Requirement already satisfied: ipython in /usr/local/lib/python3.8/site-packages (from keras-tuner) (7.16.1)\n",
      "Requirement already satisfied: tensorboard in /usr/local/lib/python3.8/site-packages (from keras-tuner) (2.6.0)\n",
      "Requirement already satisfied: packaging in /usr/local/lib/python3.8/site-packages (from keras-tuner) (21.0)\n",
      "Requirement already satisfied: requests in /usr/local/lib/python3.8/site-packages (from keras-tuner) (2.26.0)\n",
      "Collecting kt-legacy\n",
      "  Downloading kt_legacy-1.0.4-py3-none-any.whl (9.6 kB)\n",
      "Requirement already satisfied: numpy in /usr/local/lib/python3.8/site-packages (from keras-tuner) (1.19.5)\n",
      "Requirement already satisfied: setuptools>=18.5 in /usr/local/lib/python3.8/site-packages (from ipython->keras-tuner) (57.0.0)\n",
      "Requirement already satisfied: decorator in /usr/local/lib/python3.8/site-packages (from ipython->keras-tuner) (5.0.9)\n",
      "Requirement already satisfied: pygments in /usr/local/lib/python3.8/site-packages (from ipython->keras-tuner) (2.9.0)\n",
      "Requirement already satisfied: backcall in /usr/local/lib/python3.8/site-packages (from ipython->keras-tuner) (0.2.0)\n",
      "Requirement already satisfied: traitlets>=4.2 in /usr/local/lib/python3.8/site-packages (from ipython->keras-tuner) (5.0.5)\n",
      "Requirement already satisfied: pickleshare in /usr/local/lib/python3.8/site-packages (from ipython->keras-tuner) (0.7.5)\n",
      "Requirement already satisfied: jedi>=0.10 in /usr/local/lib/python3.8/site-packages (from ipython->keras-tuner) (0.18.0)\n",
      "Requirement already satisfied: pexpect in /usr/local/lib/python3.8/site-packages (from ipython->keras-tuner) (4.8.0)\n",
      "Requirement already satisfied: prompt-toolkit!=3.0.0,!=3.0.1,<3.1.0,>=2.0.0 in /usr/local/lib/python3.8/site-packages (from ipython->keras-tuner) (3.0.19)\n",
      "Requirement already satisfied: parso<0.9.0,>=0.8.0 in /usr/local/lib/python3.8/site-packages (from jedi>=0.10->ipython->keras-tuner) (0.8.2)\n",
      "Requirement already satisfied: wcwidth in /usr/local/lib/python3.8/site-packages (from prompt-toolkit!=3.0.0,!=3.0.1,<3.1.0,>=2.0.0->ipython->keras-tuner) (0.2.5)\n",
      "Requirement already satisfied: ipython-genutils in /usr/local/lib/python3.8/site-packages (from traitlets>=4.2->ipython->keras-tuner) (0.2.0)\n",
      "Requirement already satisfied: pyparsing>=2.0.2 in /usr/local/lib/python3.8/site-packages (from packaging->keras-tuner) (2.4.7)\n",
      "Requirement already satisfied: ptyprocess>=0.5 in /usr/local/lib/python3.8/site-packages (from pexpect->ipython->keras-tuner) (0.7.0)\n",
      "Requirement already satisfied: charset-normalizer~=2.0.0 in /usr/local/lib/python3.8/site-packages (from requests->keras-tuner) (2.0.4)\n",
      "Requirement already satisfied: certifi>=2017.4.17 in /usr/local/lib/python3.8/site-packages (from requests->keras-tuner) (2021.5.30)\n",
      "Requirement already satisfied: urllib3<1.27,>=1.21.1 in /usr/local/lib/python3.8/site-packages (from requests->keras-tuner) (1.26.6)\n",
      "Requirement already satisfied: idna<4,>=2.5 in /usr/local/lib/python3.8/site-packages (from requests->keras-tuner) (3.2)\n",
      "Requirement already satisfied: werkzeug>=0.11.15 in /usr/local/lib/python3.8/site-packages (from tensorboard->keras-tuner) (2.0.1)\n",
      "Requirement already satisfied: google-auth<2,>=1.6.3 in /usr/local/lib/python3.8/site-packages (from tensorboard->keras-tuner) (1.35.0)\n",
      "Requirement already satisfied: google-auth-oauthlib<0.5,>=0.4.1 in /usr/local/lib/python3.8/site-packages (from tensorboard->keras-tuner) (0.4.6)\n",
      "Requirement already satisfied: markdown>=2.6.8 in /usr/local/lib/python3.8/site-packages (from tensorboard->keras-tuner) (3.3.4)\n",
      "Requirement already satisfied: protobuf>=3.6.0 in /usr/local/lib/python3.8/site-packages (from tensorboard->keras-tuner) (3.17.3)\n",
      "Requirement already satisfied: wheel>=0.26 in /usr/local/lib/python3.8/site-packages (from tensorboard->keras-tuner) (0.36.2)\n",
      "Requirement already satisfied: absl-py>=0.4 in /usr/local/lib/python3.8/site-packages (from tensorboard->keras-tuner) (0.13.0)\n",
      "Requirement already satisfied: tensorboard-data-server<0.7.0,>=0.6.0 in /usr/local/lib/python3.8/site-packages (from tensorboard->keras-tuner) (0.6.1)\n",
      "Requirement already satisfied: tensorboard-plugin-wit>=1.6.0 in /usr/local/lib/python3.8/site-packages (from tensorboard->keras-tuner) (1.8.0)\n",
      "Requirement already satisfied: grpcio>=1.24.3 in /usr/local/lib/python3.8/site-packages (from tensorboard->keras-tuner) (1.40.0)\n",
      "Requirement already satisfied: six in /usr/local/lib/python3.8/site-packages (from absl-py>=0.4->tensorboard->keras-tuner) (1.15.0)\n",
      "Requirement already satisfied: rsa<5,>=3.1.4 in /usr/local/lib/python3.8/site-packages (from google-auth<2,>=1.6.3->tensorboard->keras-tuner) (4.7.2)\n",
      "Requirement already satisfied: cachetools<5.0,>=2.0.0 in /usr/local/lib/python3.8/site-packages (from google-auth<2,>=1.6.3->tensorboard->keras-tuner) (4.2.2)\n",
      "Requirement already satisfied: pyasn1-modules>=0.2.1 in /usr/local/lib/python3.8/site-packages (from google-auth<2,>=1.6.3->tensorboard->keras-tuner) (0.2.8)\n",
      "Requirement already satisfied: requests-oauthlib>=0.7.0 in /usr/local/lib/python3.8/site-packages (from google-auth-oauthlib<0.5,>=0.4.1->tensorboard->keras-tuner) (1.3.0)\n",
      "Requirement already satisfied: pyasn1<0.5.0,>=0.4.6 in /usr/local/lib/python3.8/site-packages (from pyasn1-modules>=0.2.1->google-auth<2,>=1.6.3->tensorboard->keras-tuner) (0.4.8)\n",
      "Requirement already satisfied: oauthlib>=3.0.0 in /usr/local/lib/python3.8/site-packages (from requests-oauthlib>=0.7.0->google-auth-oauthlib<0.5,>=0.4.1->tensorboard->keras-tuner) (3.1.1)\n",
      "Installing collected packages: kt-legacy, keras-tuner\n",
      "Successfully installed keras-tuner-1.0.4 kt-legacy-1.0.4\n",
      "\u001b[33mWARNING: Running pip as the 'root' user can result in broken permissions and conflicting behaviour with the system package manager. It is recommended to use a virtual environment instead: https://pip.pypa.io/warnings/venv\u001b[0m\n",
      "\u001b[33mWARNING: You are using pip version 21.1.3; however, version 21.2.4 is available.\n",
      "You should consider upgrading via the '/usr/local/bin/python -m pip install --upgrade pip' command.\u001b[0m\n"
     ]
    }
   ],
   "source": [
    "!pip install keras-tuner  # en caso de necesitar instalarlo\n",
    "import keras_tuner as kt\n",
    "from sklearn import ensemble\n",
    "from sklearn.preprocessing import StandardScaler\n",
    "from sklearn.pipeline import Pipeline"
   ]
  },
  {
   "cell_type": "code",
   "execution_count": 52,
   "id": "e9620385-7725-4f32-97a6-c762ef1a45ec",
   "metadata": {},
   "outputs": [],
   "source": [
    "# Process the data\n",
    "scaler = StandardScaler()\n",
    "Xb_augmented = scaler.fit_transform(Xb_augmented )"
   ]
  },
  {
   "cell_type": "code",
   "execution_count": 53,
   "id": "6089483b-b7d8-4fbc-904e-933b21c55688",
   "metadata": {},
   "outputs": [],
   "source": [
    "def build_random_forest(hp):\n",
    "    model = ensemble.RandomForestClassifier(\n",
    "        n_estimators=hp.Int('n_estimators', 10, 80, step=5),\n",
    "        max_depth=hp.Int('max_depth', 5, 30))\n",
    "    return model"
   ]
  },
  {
   "cell_type": "code",
   "execution_count": 54,
   "id": "6d1cc7e5-52bc-4f47-99af-3ed052816e2e",
   "metadata": {},
   "outputs": [
    {
     "name": "stdout",
     "output_type": "stream",
     "text": [
      "INFO:tensorflow:Reloading Oracle from existing project ./random_forest/oracle.json\n",
      "INFO:tensorflow:Reloading Tuner from ./random_forest/tuner0.json\n"
     ]
    }
   ],
   "source": [
    "tuner = kt.tuners.Sklearn(\n",
    "    oracle=kt.oracles.BayesianOptimization(\n",
    "        objective=kt.Objective('score', 'max'),\n",
    "        max_trials=15),\n",
    "    hypermodel= build_random_forest,\n",
    "    directory='.',\n",
    "    project_name='random_forest')"
   ]
  },
  {
   "cell_type": "code",
   "execution_count": 55,
   "id": "c7a4e9d7-e929-4bda-8971-f4343233eebf",
   "metadata": {},
   "outputs": [],
   "source": [
    "X_train_b, X_test_b, y_train_b, y_test_b = train_test_split(Xb_augmented, yb_augmented, test_size=0.1, random_state=42)"
   ]
  },
  {
   "cell_type": "code",
   "execution_count": 56,
   "id": "dc97d5e5-d11a-4b52-8ed3-3f5eab937160",
   "metadata": {},
   "outputs": [
    {
     "name": "stdout",
     "output_type": "stream",
     "text": [
      "INFO:tensorflow:Oracle triggered exit\n"
     ]
    }
   ],
   "source": [
    "# X_train_b, X_test_b, y_train_b, y_test_b\n",
    "tuner.search(X_train_b, y_train_b)\n",
    "best_hp = tuner.get_best_hyperparameters(num_trials=1)[0]\n",
    "best_model = tuner.get_best_models(num_models=1)[0]"
   ]
  },
  {
   "cell_type": "code",
   "execution_count": 57,
   "id": "b3e60ae8-ea7e-4056-b85d-de62c2add52e",
   "metadata": {},
   "outputs": [
    {
     "name": "stderr",
     "output_type": "stream",
     "text": [
      "/home/src/eval_classifiers.py:107: DataConversionWarning: A column-vector y was passed when a 1d array was expected. Please change the shape of y to (n_samples,), for example using ravel().\n",
      "  rf = best_model.fit(Xtr,ytr)\n",
      "/home/src/eval_classifiers.py:107: DataConversionWarning: A column-vector y was passed when a 1d array was expected. Please change the shape of y to (n_samples,), for example using ravel().\n",
      "  rf = best_model.fit(Xtr,ytr)\n",
      "/home/src/eval_classifiers.py:107: DataConversionWarning: A column-vector y was passed when a 1d array was expected. Please change the shape of y to (n_samples,), for example using ravel().\n",
      "  rf = best_model.fit(Xtr,ytr)\n",
      "/home/src/eval_classifiers.py:107: DataConversionWarning: A column-vector y was passed when a 1d array was expected. Please change the shape of y to (n_samples,), for example using ravel().\n",
      "  rf = best_model.fit(Xtr,ytr)\n",
      "/home/src/eval_classifiers.py:107: DataConversionWarning: A column-vector y was passed when a 1d array was expected. Please change the shape of y to (n_samples,), for example using ravel().\n",
      "  rf = best_model.fit(Xtr,ytr)\n",
      "/home/src/eval_classifiers.py:107: DataConversionWarning: A column-vector y was passed when a 1d array was expected. Please change the shape of y to (n_samples,), for example using ravel().\n",
      "  rf = best_model.fit(Xtr,ytr)\n",
      "/home/src/eval_classifiers.py:107: DataConversionWarning: A column-vector y was passed when a 1d array was expected. Please change the shape of y to (n_samples,), for example using ravel().\n",
      "  rf = best_model.fit(Xtr,ytr)\n",
      "/home/src/eval_classifiers.py:107: DataConversionWarning: A column-vector y was passed when a 1d array was expected. Please change the shape of y to (n_samples,), for example using ravel().\n",
      "  rf = best_model.fit(Xtr,ytr)\n",
      "/home/src/eval_classifiers.py:107: DataConversionWarning: A column-vector y was passed when a 1d array was expected. Please change the shape of y to (n_samples,), for example using ravel().\n",
      "  rf = best_model.fit(Xtr,ytr)\n",
      "/home/src/eval_classifiers.py:107: DataConversionWarning: A column-vector y was passed when a 1d array was expected. Please change the shape of y to (n_samples,), for example using ravel().\n",
      "  rf = best_model.fit(Xtr,ytr)\n"
     ]
    }
   ],
   "source": [
    "best_model_results = EvalBestModel(best_model,Xb_augmented, yb_augmented)"
   ]
  },
  {
   "cell_type": "code",
   "execution_count": 58,
   "id": "f705496b-1fa1-4abd-87c1-1d414280d168",
   "metadata": {},
   "outputs": [
    {
     "data": {
      "text/html": [
       "<div>\n",
       "<style scoped>\n",
       "    .dataframe tbody tr th:only-of-type {\n",
       "        vertical-align: middle;\n",
       "    }\n",
       "\n",
       "    .dataframe tbody tr th {\n",
       "        vertical-align: top;\n",
       "    }\n",
       "\n",
       "    .dataframe thead th {\n",
       "        text-align: right;\n",
       "    }\n",
       "</style>\n",
       "<table border=\"1\" class=\"dataframe\">\n",
       "  <thead>\n",
       "    <tr style=\"text-align: right;\">\n",
       "      <th></th>\n",
       "      <th>Best Model</th>\n",
       "    </tr>\n",
       "  </thead>\n",
       "  <tbody>\n",
       "    <tr>\n",
       "      <th>0</th>\n",
       "      <td>0.717874</td>\n",
       "    </tr>\n",
       "    <tr>\n",
       "      <th>0</th>\n",
       "      <td>0.732506</td>\n",
       "    </tr>\n",
       "    <tr>\n",
       "      <th>0</th>\n",
       "      <td>0.693823</td>\n",
       "    </tr>\n",
       "    <tr>\n",
       "      <th>0</th>\n",
       "      <td>0.723001</td>\n",
       "    </tr>\n",
       "    <tr>\n",
       "      <th>0</th>\n",
       "      <td>0.717554</td>\n",
       "    </tr>\n",
       "    <tr>\n",
       "      <th>0</th>\n",
       "      <td>0.753418</td>\n",
       "    </tr>\n",
       "    <tr>\n",
       "      <th>0</th>\n",
       "      <td>0.714536</td>\n",
       "    </tr>\n",
       "    <tr>\n",
       "      <th>0</th>\n",
       "      <td>0.670806</td>\n",
       "    </tr>\n",
       "    <tr>\n",
       "      <th>0</th>\n",
       "      <td>0.696762</td>\n",
       "    </tr>\n",
       "    <tr>\n",
       "      <th>0</th>\n",
       "      <td>0.723833</td>\n",
       "    </tr>\n",
       "  </tbody>\n",
       "</table>\n",
       "</div>"
      ],
      "text/plain": [
       "   Best Model\n",
       "0    0.717874\n",
       "0    0.732506\n",
       "0    0.693823\n",
       "0    0.723001\n",
       "0    0.717554\n",
       "0    0.753418\n",
       "0    0.714536\n",
       "0    0.670806\n",
       "0    0.696762\n",
       "0    0.723833"
      ]
     },
     "execution_count": 58,
     "metadata": {},
     "output_type": "execute_result"
    }
   ],
   "source": [
    "best_model_results"
   ]
  },
  {
   "cell_type": "code",
   "execution_count": 59,
   "id": "93ae43de-80fd-47db-b669-24086ccd8e4b",
   "metadata": {},
   "outputs": [],
   "source": [
    "best_final = best_model_results[\"Best Model\"]"
   ]
  },
  {
   "cell_type": "code",
   "execution_count": 60,
   "id": "feb09a99-2dbb-4db4-bea8-cf73fbf57034",
   "metadata": {},
   "outputs": [],
   "source": [
    "b_final = np.reshape(np.asarray(best_final),(10,1))"
   ]
  },
  {
   "cell_type": "code",
   "execution_count": 61,
   "id": "0bfe2c4e-25b0-4d59-95f3-6eb9e43f0f70",
   "metadata": {},
   "outputs": [],
   "source": [
    "B_final = np.hstack((B,b_final))"
   ]
  },
  {
   "cell_type": "code",
   "execution_count": 62,
   "id": "3099e3b0-7940-46a5-988f-d7b320d76126",
   "metadata": {},
   "outputs": [
    {
     "data": {
      "image/png": "[encoded data removed]",
      "text/plain": [
       "<Figure size 432x288 with 1 Axes>"
      ]
     },
     "metadata": {
      "needs_background": "light"
     },
     "output_type": "display_data"
    }
   ],
   "source": [
    "fig7, ax7 = plt.subplots()\n",
    "ax7.set_title('Best Results: Random Forest')\n",
    "ax7.boxplot(B_final)\n",
    "plt.xticks([1, 2,3], ['Small', 'Big','Tuned-Big'])\n",
    "plt.show()"
   ]
  },
  {
   "cell_type": "markdown",
   "id": "3c54647b-35b4-4182-842f-61642819a6ec",
   "metadata": {},
   "source": [
    "### Final experiment: using a Random Forest with parameter settings given by an expert!"
   ]
  },
  {
   "cell_type": "code",
   "execution_count": 63,
   "id": "9446d459-1037-4ae7-b5aa-3b413acb81e5",
   "metadata": {},
   "outputs": [],
   "source": [
    "final_model = ensemble.RandomForestClassifier(criterion=\"gini\", max_depth=10, max_features=\"log2\", \n",
    "                                 max_leaf_nodes = 100, min_samples_leaf = 3, min_samples_split = 20, \n",
    "                                 n_estimators= 22000, random_state= 5)"
   ]
  },
  {
   "cell_type": "code",
   "execution_count": 64,
   "id": "4f3dd921-e4e1-48fd-ae02-31b448d03748",
   "metadata": {},
   "outputs": [
    {
     "name": "stderr",
     "output_type": "stream",
     "text": [
      "/home/src/eval_classifiers.py:107: DataConversionWarning: A column-vector y was passed when a 1d array was expected. Please change the shape of y to (n_samples,), for example using ravel().\n",
      "  rf = best_model.fit(Xtr,ytr)\n",
      "/home/src/eval_classifiers.py:107: DataConversionWarning: A column-vector y was passed when a 1d array was expected. Please change the shape of y to (n_samples,), for example using ravel().\n",
      "  rf = best_model.fit(Xtr,ytr)\n",
      "/home/src/eval_classifiers.py:107: DataConversionWarning: A column-vector y was passed when a 1d array was expected. Please change the shape of y to (n_samples,), for example using ravel().\n",
      "  rf = best_model.fit(Xtr,ytr)\n",
      "/home/src/eval_classifiers.py:107: DataConversionWarning: A column-vector y was passed when a 1d array was expected. Please change the shape of y to (n_samples,), for example using ravel().\n",
      "  rf = best_model.fit(Xtr,ytr)\n",
      "/home/src/eval_classifiers.py:107: DataConversionWarning: A column-vector y was passed when a 1d array was expected. Please change the shape of y to (n_samples,), for example using ravel().\n",
      "  rf = best_model.fit(Xtr,ytr)\n",
      "/home/src/eval_classifiers.py:107: DataConversionWarning: A column-vector y was passed when a 1d array was expected. Please change the shape of y to (n_samples,), for example using ravel().\n",
      "  rf = best_model.fit(Xtr,ytr)\n",
      "/home/src/eval_classifiers.py:107: DataConversionWarning: A column-vector y was passed when a 1d array was expected. Please change the shape of y to (n_samples,), for example using ravel().\n",
      "  rf = best_model.fit(Xtr,ytr)\n",
      "/home/src/eval_classifiers.py:107: DataConversionWarning: A column-vector y was passed when a 1d array was expected. Please change the shape of y to (n_samples,), for example using ravel().\n",
      "  rf = best_model.fit(Xtr,ytr)\n",
      "/home/src/eval_classifiers.py:107: DataConversionWarning: A column-vector y was passed when a 1d array was expected. Please change the shape of y to (n_samples,), for example using ravel().\n",
      "  rf = best_model.fit(Xtr,ytr)\n",
      "/home/src/eval_classifiers.py:107: DataConversionWarning: A column-vector y was passed when a 1d array was expected. Please change the shape of y to (n_samples,), for example using ravel().\n",
      "  rf = best_model.fit(Xtr,ytr)\n"
     ]
    }
   ],
   "source": [
    "final_model_results = EvalBestModel(final_model , Xb_augmented, yb_augmented)"
   ]
  },
  {
   "cell_type": "code",
   "execution_count": 65,
   "id": "b28bc1f8-e67d-4b6c-98c2-51f5183159d9",
   "metadata": {},
   "outputs": [
    {
     "data": {
      "text/html": [
       "<div>\n",
       "<style scoped>\n",
       "    .dataframe tbody tr th:only-of-type {\n",
       "        vertical-align: middle;\n",
       "    }\n",
       "\n",
       "    .dataframe tbody tr th {\n",
       "        vertical-align: top;\n",
       "    }\n",
       "\n",
       "    .dataframe thead th {\n",
       "        text-align: right;\n",
       "    }\n",
       "</style>\n",
       "<table border=\"1\" class=\"dataframe\">\n",
       "  <thead>\n",
       "    <tr style=\"text-align: right;\">\n",
       "      <th></th>\n",
       "      <th>Best Model</th>\n",
       "    </tr>\n",
       "  </thead>\n",
       "  <tbody>\n",
       "    <tr>\n",
       "      <th>0</th>\n",
       "      <td>0.597189</td>\n",
       "    </tr>\n",
       "    <tr>\n",
       "      <th>0</th>\n",
       "      <td>0.647386</td>\n",
       "    </tr>\n",
       "    <tr>\n",
       "      <th>0</th>\n",
       "      <td>0.646446</td>\n",
       "    </tr>\n",
       "    <tr>\n",
       "      <th>0</th>\n",
       "      <td>0.585996</td>\n",
       "    </tr>\n",
       "    <tr>\n",
       "      <th>0</th>\n",
       "      <td>0.653879</td>\n",
       "    </tr>\n",
       "    <tr>\n",
       "      <th>0</th>\n",
       "      <td>0.643968</td>\n",
       "    </tr>\n",
       "    <tr>\n",
       "      <th>0</th>\n",
       "      <td>0.647843</td>\n",
       "    </tr>\n",
       "    <tr>\n",
       "      <th>0</th>\n",
       "      <td>0.591018</td>\n",
       "    </tr>\n",
       "    <tr>\n",
       "      <th>0</th>\n",
       "      <td>0.646643</td>\n",
       "    </tr>\n",
       "    <tr>\n",
       "      <th>0</th>\n",
       "      <td>0.615333</td>\n",
       "    </tr>\n",
       "  </tbody>\n",
       "</table>\n",
       "</div>"
      ],
      "text/plain": [
       "   Best Model\n",
       "0    0.597189\n",
       "0    0.647386\n",
       "0    0.646446\n",
       "0    0.585996\n",
       "0    0.653879\n",
       "0    0.643968\n",
       "0    0.647843\n",
       "0    0.591018\n",
       "0    0.646643\n",
       "0    0.615333"
      ]
     },
     "execution_count": 65,
     "metadata": {},
     "output_type": "execute_result"
    }
   ],
   "source": [
    "final_model_results"
   ]
  },
  {
   "cell_type": "code",
   "execution_count": 66,
   "id": "571e0ed1-2f8a-4047-8f9c-7b8cee301ee3",
   "metadata": {},
   "outputs": [],
   "source": [
    "expert_final = best_model_results[\"Best Model\"]\n",
    "e_final = np.reshape(np.asarray(expert_final),(10,1))\n",
    "B2 = np.hstack((B_final,e_final))"
   ]
  },
  {
   "cell_type": "code",
   "execution_count": 67,
   "id": "e2f50b48-78b7-4b3a-b9f6-62654e434909",
   "metadata": {},
   "outputs": [
    {
     "data": {
      "image/png": "[encoded data removed]",
      "text/plain": [
       "<Figure size 432x288 with 1 Axes>"
      ]
     },
     "metadata": {
      "needs_background": "light"
     },
     "output_type": "display_data"
    }
   ],
   "source": [
    "fig7, ax7 = plt.subplots()\n",
    "ax7.set_title('Best Results: Random Forest')\n",
    "ax7.boxplot(B2)\n",
    "plt.xticks([1,2,3,4], ['Small', 'Big','Tuned-Big','Big Expert'])\n",
    "plt.show()"
   ]
  },
  {
   "cell_type": "code",
   "execution_count": 68,
   "id": "b644884d-2b25-4016-b3c5-8bbdff7f6c03",
   "metadata": {},
   "outputs": [],
   "source": [
    "#criterion=\"gini\", max_depth=10, max_features=\"log2\", \n",
    "#                                 max_leaf_nodes = 100, min_samples_leaf = 3, min_samples_split = 20, \n",
    "#                                 n_estimators= 22000, random_state= 5"
   ]
  },
  {
   "cell_type": "code",
   "execution_count": 69,
   "id": "388741d3-b0c8-436a-99ce-925dfa6effaf",
   "metadata": {},
   "outputs": [],
   "source": [
    "def build_random_forest_final(hp):\n",
    "    model = ensemble.RandomForestClassifier(\n",
    "        n_estimators=hp.Int('n_estimators', 100,20000 , step=100),\n",
    "        max_depth=hp.Int('max_depth', 5, 30),\n",
    "        max_leaf_nodes=hp.Int('max_leaf_nodes', 50, 100),\n",
    "        min_samples_leaf = hp.Int('min_samples_leaf', 3, 5),\n",
    "        min_samples_split =hp.Int('min_samples_split', 10, 20) )\n",
    "    return model"
   ]
  },
  {
   "cell_type": "code",
   "execution_count": 70,
   "id": "28ba2961-daae-41ae-95d1-e94357d47684",
   "metadata": {},
   "outputs": [
    {
     "name": "stdout",
     "output_type": "stream",
     "text": [
      "INFO:tensorflow:Reloading Oracle from existing project ./random_forest_final/oracle.json\n",
      "INFO:tensorflow:Reloading Tuner from ./random_forest_final/tuner0.json\n"
     ]
    }
   ],
   "source": [
    "tuner_final = kt.tuners.Sklearn(\n",
    "    oracle=kt.oracles.BayesianOptimization(\n",
    "        objective=kt.Objective('score', 'max'),\n",
    "        max_trials=15),\n",
    "    hypermodel= build_random_forest_final,\n",
    "    directory='.',\n",
    "    project_name='random_forest_final')"
   ]
  },
  {
   "cell_type": "code",
   "execution_count": 71,
   "id": "c0925c62-be37-4c55-9a8b-0303a452f763",
   "metadata": {},
   "outputs": [
    {
     "name": "stdout",
     "output_type": "stream",
     "text": [
      "INFO:tensorflow:Oracle triggered exit\n"
     ]
    }
   ],
   "source": [
    "tuner_final.search(X_train_b, y_train_b)\n",
    "best_hp = tuner_final.get_best_hyperparameters(num_trials=1)[0]\n",
    "best_model = tuner_final.get_best_models(num_models=1)[0]"
   ]
  },
  {
   "cell_type": "code",
   "execution_count": 72,
   "id": "0f8bf930-cef0-4e10-aa36-916425664821",
   "metadata": {},
   "outputs": [
    {
     "name": "stderr",
     "output_type": "stream",
     "text": [
      "/home/src/eval_classifiers.py:107: DataConversionWarning: A column-vector y was passed when a 1d array was expected. Please change the shape of y to (n_samples,), for example using ravel().\n",
      "  rf = best_model.fit(Xtr,ytr)\n",
      "/home/src/eval_classifiers.py:107: DataConversionWarning: A column-vector y was passed when a 1d array was expected. Please change the shape of y to (n_samples,), for example using ravel().\n",
      "  rf = best_model.fit(Xtr,ytr)\n",
      "/home/src/eval_classifiers.py:107: DataConversionWarning: A column-vector y was passed when a 1d array was expected. Please change the shape of y to (n_samples,), for example using ravel().\n",
      "  rf = best_model.fit(Xtr,ytr)\n",
      "/home/src/eval_classifiers.py:107: DataConversionWarning: A column-vector y was passed when a 1d array was expected. Please change the shape of y to (n_samples,), for example using ravel().\n",
      "  rf = best_model.fit(Xtr,ytr)\n",
      "/home/src/eval_classifiers.py:107: DataConversionWarning: A column-vector y was passed when a 1d array was expected. Please change the shape of y to (n_samples,), for example using ravel().\n",
      "  rf = best_model.fit(Xtr,ytr)\n",
      "/home/src/eval_classifiers.py:107: DataConversionWarning: A column-vector y was passed when a 1d array was expected. Please change the shape of y to (n_samples,), for example using ravel().\n",
      "  rf = best_model.fit(Xtr,ytr)\n",
      "/home/src/eval_classifiers.py:107: DataConversionWarning: A column-vector y was passed when a 1d array was expected. Please change the shape of y to (n_samples,), for example using ravel().\n",
      "  rf = best_model.fit(Xtr,ytr)\n",
      "/home/src/eval_classifiers.py:107: DataConversionWarning: A column-vector y was passed when a 1d array was expected. Please change the shape of y to (n_samples,), for example using ravel().\n",
      "  rf = best_model.fit(Xtr,ytr)\n",
      "/home/src/eval_classifiers.py:107: DataConversionWarning: A column-vector y was passed when a 1d array was expected. Please change the shape of y to (n_samples,), for example using ravel().\n",
      "  rf = best_model.fit(Xtr,ytr)\n",
      "/home/src/eval_classifiers.py:107: DataConversionWarning: A column-vector y was passed when a 1d array was expected. Please change the shape of y to (n_samples,), for example using ravel().\n",
      "  rf = best_model.fit(Xtr,ytr)\n"
     ]
    }
   ],
   "source": [
    "best_model_results_final = EvalBestModel(best_model, Xb_augmented, yb_augmented)"
   ]
  },
  {
   "cell_type": "code",
   "execution_count": 73,
   "id": "3615eff8-fc5b-47a6-973b-06f25e09f62e",
   "metadata": {},
   "outputs": [],
   "source": [
    "expert_final_2 = best_model_results_final [\"Best Model\"]\n",
    "e_final_2 = np.reshape(np.asarray(expert_final_2),(10,1))\n",
    "B3 = np.hstack((B2,e_final_2))"
   ]
  },
  {
   "cell_type": "code",
   "execution_count": 75,
   "id": "209f3b08-4379-4a9e-8b36-0fada07403b1",
   "metadata": {},
   "outputs": [
    {
     "data": {
      "image/png": "[encoded data removed]",
      "text/plain": [
       "<Figure size 432x288 with 1 Axes>"
      ]
     },
     "metadata": {
      "needs_background": "light"
     },
     "output_type": "display_data"
    }
   ],
   "source": [
    "fig7, ax7 = plt.subplots()\n",
    "ax7.set_title('Best Results: Random Forest')\n",
    "ax7.boxplot(B3)\n",
    "plt.xticks([1,2,3,4,5], ['Small', 'Big','Tuned-Big','Big Expert','Expert Tuned'])\n",
    "plt.show()"
   ]
  }
 ],
 "metadata": {
  "kernelspec": {
   "display_name": "Python 3",
   "language": "python",
   "name": "python3"
  },
  "language_info": {
   "codemirror_mode": {
    "name": "ipython",
    "version": 3
   },
   "file_extension": ".py",
   "mimetype": "text/x-python",
   "name": "python",
   "nbconvert_exporter": "python",
   "pygments_lexer": "ipython3",
   "version": "3.8.10"
  }
 },
 "nbformat": 4,
 "nbformat_minor": 5
}
