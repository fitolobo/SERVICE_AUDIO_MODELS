{
 "cells": [
  {
   "cell_type": "code",
   "execution_count": 1,
   "id": "f039bd44-e48c-4eaa-949d-c3c3d7318f5a",
   "metadata": {},
   "outputs": [],
   "source": [
    "from sklearn.model_selection import train_test_split\n",
    "from sklearn.ensemble import RandomForestClassifier\n",
    "import numpy as np\n",
    "import matplotlib.pyplot as plt\n",
    "import joblib\n",
    "from sklearn.metrics import accuracy_score"
   ]
  },
  {
   "cell_type": "markdown",
   "id": "a408b1e7-b007-4f56-b8dc-50b9da12ffbd",
   "metadata": {},
   "source": [
    "### Best Model : all features!"
   ]
  },
  {
   "cell_type": "markdown",
   "id": "b754acd0-6f04-42b7-8703-4fd875b99128",
   "metadata": {},
   "source": [
    "RandomForestClassifier(bootstrap=False, max_depth=40, n_estimators=1400)"
   ]
  },
  {
   "cell_type": "markdown",
   "id": "92bd5bb4-6b3f-4677-8b9f-bb695f9d108c",
   "metadata": {},
   "source": [
    "Loading data"
   ]
  },
  {
   "cell_type": "code",
   "execution_count": 2,
   "id": "8655ee90-c27e-4c2f-92c5-bc64264a57ae",
   "metadata": {},
   "outputs": [],
   "source": [
    "filename = 'processed_data/ALL40_48.npy'\n",
    "with open(filename, 'rb') as f:\n",
    "    ALL40_48 = np.load(f)"
   ]
  },
  {
   "cell_type": "code",
   "execution_count": 3,
   "id": "fb33427e-d7e0-4aa3-8270-dcfcc8844a21",
   "metadata": {},
   "outputs": [],
   "source": [
    "filename = 'processed_data/ZE_48.npy'\n",
    "# open file in write mode and write data\n",
    "with open(filename, 'rb') as f:\n",
    "    Z = np.load(f)\n",
    "    E = np.load(f)\n",
    "    Y = np.load(f)"
   ]
  },
  {
   "cell_type": "markdown",
   "id": "c07f7746-44f0-4c0a-a368-22fd2cd7bf0a",
   "metadata": {},
   "source": [
    "Splitting"
   ]
  },
  {
   "cell_type": "code",
   "execution_count": 4,
   "id": "9ef42cd7-40c5-464a-b57d-7f11e8ec59b5",
   "metadata": {},
   "outputs": [],
   "source": [
    "X_train_b, X_test_b, y_train_b, y_test_b = train_test_split(ALL40_48, Y, test_size=0.05, random_state=42)"
   ]
  },
  {
   "cell_type": "code",
   "execution_count": 5,
   "id": "7f95594e-81b0-4254-8aa9-89ed7578970a",
   "metadata": {},
   "outputs": [],
   "source": [
    "model = RandomForestClassifier(bootstrap=False, max_depth=20, n_estimators=1800)"
   ]
  },
  {
   "cell_type": "markdown",
   "id": "f4651086-7f2d-44bb-af7d-0a4ee53cab93",
   "metadata": {},
   "source": [
    "Training"
   ]
  },
  {
   "cell_type": "code",
   "execution_count": 6,
   "id": "327f7430-28c3-4689-9150-92fbaeeeba02",
   "metadata": {},
   "outputs": [
    {
     "data": {
      "text/plain": [
       "RandomForestClassifier(bootstrap=False, max_depth=20, n_estimators=1800)"
      ]
     },
     "execution_count": 6,
     "metadata": {},
     "output_type": "execute_result"
    }
   ],
   "source": [
    "model.fit(X_train_b,y_train_b)"
   ]
  },
  {
   "cell_type": "markdown",
   "id": "164314b9-52c6-490a-b308-5938339a115b",
   "metadata": {},
   "source": [
    "Checking Evaluation"
   ]
  },
  {
   "cell_type": "code",
   "execution_count": 7,
   "id": "45e99502-1d31-4b2a-a829-00b793e2c68d",
   "metadata": {},
   "outputs": [
    {
     "name": "stdout",
     "output_type": "stream",
     "text": [
      "0.9953703703703703\n"
     ]
    }
   ],
   "source": [
    "predictions = model.predict(X_test_b)\n",
    "print(accuracy_score(y_test_b, predictions))"
   ]
  },
  {
   "cell_type": "markdown",
   "id": "3ca63b1a-857a-4965-b1e6-ed979115c2a0",
   "metadata": {},
   "source": [
    "Saving the model"
   ]
  },
  {
   "cell_type": "code",
   "execution_count": 8,
   "id": "6672acb8-8b59-4d80-afca-5dd9156ca8eb",
   "metadata": {},
   "outputs": [
    {
     "data": {
      "text/plain": [
       "['./random_forest.joblib']"
      ]
     },
     "execution_count": 8,
     "metadata": {},
     "output_type": "execute_result"
    }
   ],
   "source": [
    "## save\n",
    "joblib.dump(model, \"./random_forest.joblib\")\n",
    "\n",
    "## load, no need to initialize the loaded_rf\n",
    "#loaded_rf = joblib.load(\"./random_forest.joblib\")"
   ]
  },
  {
   "cell_type": "markdown",
   "id": "a3e03c91-5309-4df4-90e7-511d812573a8",
   "metadata": {},
   "source": [
    "## Confusion Matrix"
   ]
  },
  {
   "cell_type": "code",
   "execution_count": 9,
   "id": "e986e5e3-35ae-4c12-ba69-b47d5fc167b1",
   "metadata": {},
   "outputs": [],
   "source": [
    "import os"
   ]
  },
  {
   "cell_type": "code",
   "execution_count": 10,
   "id": "e82c2fc2-db65-4389-b7d4-64bafeb79996",
   "metadata": {},
   "outputs": [],
   "source": [
    "cwd = os.getcwd()"
   ]
  },
  {
   "cell_type": "code",
   "execution_count": 11,
   "id": "6c5247d9-9d32-46f0-a218-78bc44ae1326",
   "metadata": {},
   "outputs": [
    {
     "data": {
      "text/plain": [
       "'/home/src/ML_2x_Augmentation'"
      ]
     },
     "execution_count": 11,
     "metadata": {},
     "output_type": "execute_result"
    }
   ],
   "source": [
    "cwd"
   ]
  },
  {
   "cell_type": "code",
   "execution_count": 12,
   "id": "3e84fabb-ebd3-4481-a41c-2a543490ab1a",
   "metadata": {},
   "outputs": [
    {
     "name": "stdout",
     "output_type": "stream",
     "text": [
      "\u001b[0m\u001b[01;34mCSVs\u001b[0m/                      eval_classifiers.py\n",
      "Saving_Best_Model.ipynb    general_preprocessing.ipynb\n",
      "Summarize.ipynb            modeling_with_mfccs.ipynb\n",
      "Test_SHAP_values.ipynb     modeling_with_more_features.ipynb\n",
      "Tuning_RandomForest.ipynb  \u001b[01;34mprocessed_data\u001b[0m/\n",
      "\u001b[01;34m__pycache__\u001b[0m/               \u001b[01;34mrandom_forest\u001b[0m/\n",
      "all_features.png           random_forest.joblib\n",
      "augmentation.py            \u001b[01;34mrandom_forest_final\u001b[0m/\n",
      "best_results.png           \u001b[01;34mresults\u001b[0m/\n"
     ]
    }
   ],
   "source": [
    "%ls"
   ]
  },
  {
   "cell_type": "code",
   "execution_count": 13,
   "id": "1adc32c9-d306-4fe2-aa3c-2848f8656aa4",
   "metadata": {},
   "outputs": [],
   "source": [
    "loaded_rf = joblib.load(\"./random_forest.joblib\")"
   ]
  },
  {
   "cell_type": "code",
   "execution_count": 14,
   "id": "80a1ab2b-a31f-436c-81ba-c5c851e97368",
   "metadata": {},
   "outputs": [],
   "source": [
    "predictions = loaded_rf.predict(X_test_b)"
   ]
  },
  {
   "cell_type": "code",
   "execution_count": 15,
   "id": "43b837e6-5013-46fe-b0dd-d67edb63ba9d",
   "metadata": {},
   "outputs": [],
   "source": [
    "from sklearn.metrics import confusion_matrix\n",
    "from sklearn.metrics import plot_confusion_matrix"
   ]
  },
  {
   "cell_type": "code",
   "execution_count": 16,
   "id": "8a11772f-06d6-4c00-9aea-32327271ae76",
   "metadata": {},
   "outputs": [
    {
     "data": {
      "text/plain": [
       "array([[12,  0,  0,  0,  0,  0,  0,  0],\n",
       "       [ 0, 33,  0,  0,  0,  0,  0,  0],\n",
       "       [ 0,  0, 32,  0,  0,  0,  0,  0],\n",
       "       [ 0,  0,  0, 29,  0,  0,  0,  0],\n",
       "       [ 0,  0,  0,  1, 30,  0,  0,  0],\n",
       "       [ 0,  0,  0,  0,  0, 22,  0,  0],\n",
       "       [ 0,  0,  0,  0,  0,  0, 25,  0],\n",
       "       [ 0,  0,  0,  0,  0,  0,  0, 32]])"
      ]
     },
     "execution_count": 16,
     "metadata": {},
     "output_type": "execute_result"
    }
   ],
   "source": [
    "confusion_matrix(y_test_b,predictions)"
   ]
  },
  {
   "cell_type": "code",
   "execution_count": 17,
   "id": "a5add07e-0ffc-47b1-b751-2022aebb6b4e",
   "metadata": {},
   "outputs": [
    {
     "name": "stderr",
     "output_type": "stream",
     "text": [
      "/usr/local/lib/python3.8/site-packages/sklearn/utils/deprecation.py:87: FutureWarning: Function plot_confusion_matrix is deprecated; Function `plot_confusion_matrix` is deprecated in 1.0 and will be removed in 1.2. Use one of the class methods: ConfusionMatrixDisplay.from_predictions or ConfusionMatrixDisplay.from_estimator.\n",
      "  warnings.warn(msg, category=FutureWarning)\n"
     ]
    },
    {
     "data": {
      "image/png": "[encoded data removed]",
      "text/plain": [
       "<Figure size 432x288 with 2 Axes>"
      ]
     },
     "metadata": {
      "needs_background": "light"
     },
     "output_type": "display_data"
    }
   ],
   "source": [
    "plot_confusion_matrix(loaded_rf, X_test_b, y_test_b)\n",
    "plt.show() "
   ]
  },
  {
   "cell_type": "markdown",
   "id": "05bb7187-c1d6-4657-84b4-5a9ae7500b10",
   "metadata": {},
   "source": [
    "### Feature Importance! (pendiente)\n",
    "\n",
    "Asumo que no existe correlación entre las variables (difícil de aceptar, puesto que en el caso de formantes vocálicas existe un grado de correlación para vocales -- bandas de energia paralelas --) "
   ]
  },
  {
   "cell_type": "code",
   "execution_count": 18,
   "id": "d57fc43f-fb17-4564-a2f8-ab16e050e14d",
   "metadata": {},
   "outputs": [],
   "source": [
    "from sklearn.inspection import permutation_importance\n",
    "\n",
    "def feature_importance(clf, X, y, top_limit=None):\n",
    "\n",
    "    # Retrieve the Bunch object after 50 repeats\n",
    "    # n_repeats is the number of times that each feature was permuted to compute the final score\n",
    "    bunch = permutation_importance(clf, X, y,\n",
    "                                 n_repeats=50, random_state=42)\n",
    "\n",
    "    # Average feature importance\n",
    "    imp_means = bunch.importances_mean\n",
    "\n",
    "    # List that contains the index of each feature in descending order of importance\n",
    "    ordered_imp_means_args = np.argsort(imp_means)[::-1]\n",
    "\n",
    "    # If no limit print all features\n",
    "    if top_limit is None:\n",
    "        top_limit = len(ordered_imp_means_args)\n",
    "\n",
    "  # Print relevant information\n",
    "    for i, _ in zip(ordered_imp_means_args, range(top_limit)):\n",
    "        name = data.feature_names[i]\n",
    "        imp_score = imp_means[i]\n",
    "        imp_std = bunch.importances_std[i]\n",
    "        print(f\"Feature {name} with index {i} has an average importance score of {imp_score:.3f} +/- {imp_std:.3f}\\n\")"
   ]
  },
  {
   "cell_type": "markdown",
   "id": "0fa2c5e1-b2e7-42d3-b632-25df2a98ea17",
   "metadata": {},
   "source": [
    "### Aparentemente requiere de un pd dataframe para listar con nombres las características!"
   ]
  },
  {
   "cell_type": "code",
   "execution_count": null,
   "id": "5b45217b-eb39-4bd5-9dbe-0fd666ad718d",
   "metadata": {},
   "outputs": [],
   "source": [
    "# colapsa para muchas caracteristicas!\n",
    "feature_importance(loaded_rf, X_test_b, y_test_b)"
   ]
  },
  {
   "cell_type": "code",
   "execution_count": null,
   "id": "0901a4ed-c085-4be3-97c7-ae006dd93b93",
   "metadata": {},
   "outputs": [],
   "source": [
    "feature_importance(rf_clf, X_train_b, y_train_b)"
   ]
  },
  {
   "cell_type": "markdown",
   "id": "b0e3dbd1-a802-4e29-81ec-ae77f205a9e7",
   "metadata": {},
   "source": [
    "### Reentrenando el modelo con las 20 características más importantes"
   ]
  },
  {
   "cell_type": "code",
   "execution_count": null,
   "id": "b9ce3e54-db08-405f-af24-c423ef2a35c9",
   "metadata": {},
   "outputs": [],
   "source": [
    "print(\"On TRAIN split:\\n\")\n",
    "feature_importance(rf_clf, X_train, y_train, top_limit=3)\n",
    "\n",
    "print(\"\\nOn TEST split:\\n\")\n",
    "feature_importance(rf_clf, X_test, y_test, top_limit=3)"
   ]
  },
  {
   "cell_type": "markdown",
   "id": "86722642-c428-4f49-adc9-f57bbf943a8f",
   "metadata": {},
   "source": [
    "En el ejemplo, una vez realizado el análisis, vuelve a entrenar con $x$ nuevas características"
   ]
  },
  {
   "cell_type": "markdown",
   "id": "24a99314-c361-40dc-941a-34176e635dd1",
   "metadata": {},
   "source": [
    "```python\n",
    "# Preserve only the top 3 features\n",
    "X_train_top_features = X_train[:,[6, 9, 12]]\n",
    "X_test_top_features = X_test[:,[6, 9, 12]]\n",
    "\n",
    "# Re-train with only these features\n",
    "rf_clf_top = RandomForestClassifier(n_estimators=10, random_state=42).fit(X_train_top_features, y_train)\n",
    "\n",
    "# Compute mean accuracy achieved\n",
    "rf_clf_top.score(X_test_top_features, y_test)\n",
    "```"
   ]
  },
  {
   "cell_type": "markdown",
   "id": "adb4ed2d-7188-4c85-9148-86981dc27d08",
   "metadata": {},
   "source": [
    "En mi caso tendría que seleccionar las características segun aparezca un nombre o algo similar. (mejor intentarlo en colab)"
   ]
  },
  {
   "cell_type": "markdown",
   "id": "9ced312e-4ec7-424f-b5c4-d562768c4654",
   "metadata": {},
   "source": [
    "Una conclusión interesante del tutorial fue la interpretación del resultado:\n",
    "    \n",
    "    ** Notice that by using only the 3 most important features the model achieved a mean accuracy even higher than the one using all 13 features. Remember that the alcohol feature was deemed not important in the train split but you had the hypotheses that it had important information for the generalization of the model. **"
   ]
  },
  {
   "cell_type": "code",
   "execution_count": null,
   "id": "022db280-9f79-4501-8887-3acb9e75beb5",
   "metadata": {},
   "outputs": [],
   "source": []
  }
 ],
 "metadata": {
  "kernelspec": {
   "display_name": "Python 3",
   "language": "python",
   "name": "python3"
  },
  "language_info": {
   "codemirror_mode": {
    "name": "ipython",
    "version": 3
   },
   "file_extension": ".py",
   "mimetype": "text/x-python",
   "name": "python",
   "nbconvert_exporter": "python",
   "pygments_lexer": "ipython3",
   "version": "3.8.10"
  }
 },
 "nbformat": 4,
 "nbformat_minor": 5
}
