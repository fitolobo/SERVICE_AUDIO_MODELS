{
 "cells": [
  {
   "cell_type": "code",
   "execution_count": 1,
   "id": "6dc17318-e07d-4f8a-a219-87a57ed5c448",
   "metadata": {},
   "outputs": [],
   "source": [
    "import speechbrain\n",
    "import torchaudio\n",
    "import numpy as np\n",
    "import tensorflow\n",
    "\n",
    "import matplotlib.pyplot as plt\n",
    "\n",
    "from tensorflow import keras\n",
    "from tensorflow.keras.preprocessing import sequence\n",
    "from tensorflow.keras.models import Sequential\n",
    "from tensorflow.keras.layers import Dense, Embedding\n",
    "from tensorflow.keras.utils import to_categorical\n",
    "from tensorflow.keras.layers import Input, Flatten, Dropout, Activation\n",
    "from tensorflow.keras.layers import Conv1D, MaxPooling1D\n",
    "from tensorflow.keras.layers import BatchNormalization, ELU, Flatten\n",
    "from tensorflow.keras.models import Model\n",
    "from tensorflow.keras.callbacks import ModelCheckpoint\n",
    "\n",
    "from sklearn.model_selection import train_test_split"
   ]
  },
  {
   "cell_type": "code",
   "execution_count": 3,
   "id": "f6acb95a-5f65-4926-b510-019f221255ea",
   "metadata": {},
   "outputs": [],
   "source": [
    "from numpy.random import seed\n",
    "seed(1)\n",
    "from tensorflow import random\n",
    "random.set_seed(1)"
   ]
  },
  {
   "cell_type": "markdown",
   "id": "570d611b-137e-40cf-b5b2-e721b0b3d6df",
   "metadata": {},
   "source": [
    "### Entendiendo SpeechBrain"
   ]
  },
  {
   "cell_type": "code",
   "execution_count": 4,
   "id": "e4378813-fbd6-4bbe-b4a4-474046cd88cc",
   "metadata": {},
   "outputs": [
    {
     "name": "stderr",
     "output_type": "stream",
     "text": [
      "100%|██████████| 1/1 [00:00<00:00,  7.17it/s, train_loss=0.634]\n",
      "100%|██████████| 1/1 [00:00<00:00, 435.14it/s, train_loss=0.605]\n",
      "100%|██████████| 1/1 [00:00<00:00, 342.45it/s, train_loss=0.576]\n",
      "100%|██████████| 1/1 [00:00<00:00, 275.90it/s, train_loss=0.548]\n",
      "100%|██████████| 1/1 [00:00<00:00, 273.10it/s, train_loss=0.521]\n",
      "100%|██████████| 1/1 [00:00<00:00, 366.09it/s, train_loss=0.496]\n",
      "100%|██████████| 1/1 [00:00<00:00, 350.08it/s, train_loss=0.474]\n",
      "100%|██████████| 1/1 [00:00<00:00, 464.33it/s, train_loss=0.451]\n",
      "100%|██████████| 1/1 [00:00<00:00, 290.54it/s, train_loss=0.429]\n",
      "100%|██████████| 1/1 [00:00<00:00, 277.58it/s, train_loss=0.409]\n"
     ]
    }
   ],
   "source": [
    "import torch\n",
    "import speechbrain as sb\n",
    "\n",
    "class SimpleBrain(sb.Brain):\n",
    "    def compute_forward(self, batch, stage):\n",
    "        return self.modules.model(batch[\"input\"])\n",
    "\n",
    "    \n",
    "    def compute_objectives(self, predictions, batch, stage):\n",
    "        return torch.nn.functional.l1_loss(predictions, batch[\"target\"])\n",
    "\n",
    "model = torch.nn.Linear(in_features=10, out_features=10)\n",
    "brain = SimpleBrain({\"model\": model}, opt_class=lambda x: torch.optim.SGD(x, 0.1))\n",
    "data = [{\"input\": torch.rand(10, 10), \"target\": torch.rand(10, 10)}]\n",
    "brain.fit(range(10), data)"
   ]
  },
  {
   "cell_type": "markdown",
   "id": "3216711a-15df-4f9c-8e3a-aadd02d1edaf",
   "metadata": {},
   "source": [
    "### Como defino una clase de speechbrain"
   ]
  },
  {
   "cell_type": "markdown",
   "id": "7e46bd0e-806b-42a7-baac-06a915bcc417",
   "metadata": {},
   "source": [
    "```\n",
    "def __init__(\n",
    "    self,\n",
    "    modules=None,\n",
    "    opt_class=None,\n",
    "    hparams=None,\n",
    "    run_opts=None,\n",
    "    checkpointer=None,\n",
    "):\n",
    "```"
   ]
  },
  {
   "cell_type": "code",
   "execution_count": 5,
   "id": "2bc69241-b775-4353-92af-80590f009462",
   "metadata": {},
   "outputs": [],
   "source": [
    "import torch\n",
    "from speechbrain.nnet.complex_networks.c_CNN import CConv1d, CConv2d\n",
    "from speechbrain.nnet.complex_networks.c_linear import CLinear"
   ]
  },
  {
   "cell_type": "code",
   "execution_count": null,
   "id": "a32aa94c-6ccb-4483-8a01-88d1e6ba7770",
   "metadata": {},
   "outputs": [],
   "source": [
    "# cnn_1d_new = CConv1d( input_shape=input_X.shape, out_channels=12, kernel_size=1, padding = 'valid')\n",
    "# lin = CLinear(10, input_shape=out_tensor.shape, init_criterion='glorot', weight_init='complex')"
   ]
  },
  {
   "cell_type": "markdown",
   "id": "b821e3aa-82bb-4b12-b733-bcb661944eba",
   "metadata": {},
   "source": [
    "### Ejemplo de un clasificador simple\n",
    "```python\n",
    "from speechbrain.lobes.features import MFCC, Fbank\n",
    "from speechbrain.nnet.losses import nll_loss\n",
    "\n",
    "\n",
    "class SimpleBrain(speechbrain.Brain):\n",
    "    def compute_forward(self, batch, stage):\n",
    "        example_batch = batch\n",
    "        x = self.modules.features(batch.signal.data)\n",
    "        x = self.modules.encoder(x)\n",
    "        x = self.modules.pooling(x, batch.signal.lengths)\n",
    "        x = self.modules.to_output(x)\n",
    "        return self.modules.softmax(x)\n",
    "    \n",
    "    def compute_objectives(self, logits, batch, stage):\n",
    "        return nll_loss(logits, batch.spk_encoded.data)\n",
    "\n",
    "modules = {\"features\": Fbank(left_frames=1, right_frames=1),\n",
    "          \"encoder\": torch.nn.Sequential(torch.nn.Linear(40, 256),\n",
    "                                       torch.nn.ReLU()),\n",
    "          \"pooling\": speechbrain.nnet.pooling.StatisticsPooling(),\n",
    "          \"to_output\": torch.nn.Linear(512, len(spk_id_encoder)),\n",
    "          \"softmax\": speechbrain.nnet.activations.Softmax(apply_log=True)}\n",
    "brain = SimpleBrain(modules, opt_class=lambda x: torch.optim.SGD(x, 1))\n",
    "brain.fit(range(1), train_set=sorted_data, \n",
    "          train_loader_kwargs={\"batch_size\": 8, \"drop_last\":True})\n",
    "```"
   ]
  },
  {
   "cell_type": "markdown",
   "id": "9ed5af23-2474-4d4a-bc2c-f6a80d38915a",
   "metadata": {},
   "source": [
    "### Tratando de crear un clasificador complejo simple!"
   ]
  },
  {
   "cell_type": "code",
   "execution_count": 6,
   "id": "1b436ecd-3155-4079-9e9f-5e33869da64f",
   "metadata": {},
   "outputs": [],
   "source": [
    "from speechbrain.nnet.complex_networks.c_ops import get_real, get_imag"
   ]
  },
  {
   "cell_type": "code",
   "execution_count": null,
   "id": "2a096fcf-44b4-4305-8e1f-2cbeeff1818e",
   "metadata": {},
   "outputs": [],
   "source": []
  }
 ],
 "metadata": {
  "kernelspec": {
   "display_name": "Python 3",
   "language": "python",
   "name": "python3"
  },
  "language_info": {
   "codemirror_mode": {
    "name": "ipython",
    "version": 3
   },
   "file_extension": ".py",
   "mimetype": "text/x-python",
   "name": "python",
   "nbconvert_exporter": "python",
   "pygments_lexer": "ipython3",
   "version": "3.8.10"
  }
 },
 "nbformat": 4,
 "nbformat_minor": 5
}
