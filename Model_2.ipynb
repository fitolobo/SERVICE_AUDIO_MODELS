{
 "cells": [
  {
   "cell_type": "code",
   "execution_count": 1,
   "id": "b216ea0d-1993-47e1-aa60-46d307a0efb6",
   "metadata": {},
   "outputs": [],
   "source": [
    "# Install from PyPI\n",
    "#!pip install torchaudio==0.8.1 #Temporary (until pytorch 0.9 is supported in Colab)\n",
    "#!pip install speechbrain\n",
    "import speechbrain\n",
    "import torchaudio\n",
    "import numpy as np\n",
    "import tensorflow\n",
    "\n",
    "import matplotlib.pyplot as plt\n",
    "\n",
    "from tensorflow import keras\n",
    "from tensorflow.keras.preprocessing import sequence\n",
    "from tensorflow.keras.models import Sequential\n",
    "from tensorflow.keras.layers import Dense, Embedding\n",
    "from tensorflow.keras.utils import to_categorical\n",
    "from tensorflow.keras.layers import Input, Flatten, Dropout, Activation\n",
    "from tensorflow.keras.layers import Conv1D, MaxPooling1D\n",
    "from tensorflow.keras.layers import BatchNormalization, ELU, Flatten\n",
    "from tensorflow.keras.models import Model\n",
    "from tensorflow.keras.callbacks import ModelCheckpoint\n",
    "\n",
    "from sklearn.model_selection import train_test_split\n",
    "from sklearn.utils.class_weight import compute_class_weight\n",
    "from sklearn.metrics import accuracy_score"
   ]
  },
  {
   "cell_type": "code",
   "execution_count": 2,
   "id": "d6941707-7278-442b-ad61-f0a4264c8ce9",
   "metadata": {},
   "outputs": [],
   "source": [
    "from numpy.random import seed\n",
    "seed(1)\n",
    "from tensorflow import random\n",
    "random.set_seed(1)"
   ]
  },
  {
   "cell_type": "markdown",
   "id": "8ec4b548-ff3d-4d94-b45b-9c1ab92d393f",
   "metadata": {},
   "source": [
    "### Loading the data\n",
    "\n",
    "Now I'm going to traing using MFCCs, Energy RMS and Zero Crossing."
   ]
  },
  {
   "cell_type": "code",
   "execution_count": 3,
   "id": "fdfd67a1-2e3d-4ac8-94f1-baec95afe742",
   "metadata": {},
   "outputs": [
    {
     "name": "stdout",
     "output_type": "stream",
     "text": [
      "Xb:(1440, 40), yb:(1440,)\n",
      "Xs:(1440, 12), ys:(1440,)\n",
      "Xb:(1440, 40), yb:(1440,)\n",
      "Xs:(1440, 12), ys:(1440,)\n"
     ]
    }
   ],
   "source": [
    "# open file in read mode and read data \n",
    "filename = '../processed_data/mfccs_big_and_small.npy'\n",
    "with open(filename, 'rb') as f:\n",
    "    Xb = np.load(f)\n",
    "    yb = np.load(f)\n",
    "    Xs = np.load(f)\n",
    "    ys = np.load(f)\n",
    "    Xbl = np.load(f)\n",
    "    ybl = np.load(f)\n",
    "    Xsl = np.load(f)\n",
    "    ysl = np.load(f)\n",
    "# Check that we've recovered the right data\n",
    "print(f'Xb:{Xb.shape}, yb:{yb.shape}')\n",
    "print(f'Xs:{Xs.shape}, ys:{ys.shape}')\n",
    "print(f'Xb:{Xbl.shape}, yb:{ybl.shape}')\n",
    "print(f'Xs:{Xsl.shape}, ys:{ysl.shape}')"
   ]
  },
  {
   "cell_type": "code",
   "execution_count": 4,
   "id": "b1f90fe2-c6fd-43b2-b6ab-9ffca29e2e11",
   "metadata": {},
   "outputs": [],
   "source": [
    "filename = '../processed_data/ALL40_48.npy'\n",
    "with open(filename, 'rb') as f:\n",
    "    ALL40_48 = np.load(f)"
   ]
  },
  {
   "cell_type": "code",
   "execution_count": 5,
   "id": "502ab9be-0fae-4941-b9de-08852431b1e5",
   "metadata": {},
   "outputs": [],
   "source": [
    "filename = '../processed_data/ZE_48.npy'\n",
    "# open file in write mode and write data\n",
    "with open(filename, 'rb') as f:\n",
    "    Z = np.load(f)\n",
    "    E = np.load(f)\n",
    "    Y = np.load(f)"
   ]
  },
  {
   "cell_type": "code",
   "execution_count": 6,
   "id": "6d4fc9e9-7a63-42c0-a25b-73fe42944e55",
   "metadata": {},
   "outputs": [
    {
     "name": "stdout",
     "output_type": "stream",
     "text": [
      "Features:(5760, 885), Classes:(5760,)\n"
     ]
    }
   ],
   "source": [
    "print(f'Features:{ALL40_48.shape}, Classes:{Y.shape}')"
   ]
  },
  {
   "cell_type": "code",
   "execution_count": 7,
   "id": "afdfe68a-6ca3-47c4-b456-c554dc55e162",
   "metadata": {},
   "outputs": [],
   "source": [
    "filename = '../processed_data/ALL40_22.npy'\n",
    "with open(filename, 'rb') as f:\n",
    "    ALL40_22 = np.load(f)"
   ]
  },
  {
   "cell_type": "code",
   "execution_count": 8,
   "id": "9bd3945c-6838-4c0c-b250-d1180623a5d1",
   "metadata": {},
   "outputs": [
    {
     "name": "stdout",
     "output_type": "stream",
     "text": [
      "Features:(5760, 885), Classes:(5760,)\n"
     ]
    }
   ],
   "source": [
    "print(f'Features:{ ALL40_22 .shape}, Classes:{Y.shape}')"
   ]
  },
  {
   "cell_type": "markdown",
   "id": "314afc09-897e-4b6b-874d-6b00879c5405",
   "metadata": {},
   "source": [
    "### 1D - Sequential Model from Literature : Choi architecture using more features!"
   ]
  },
  {
   "cell_type": "code",
   "execution_count": 9,
   "id": "74e0bcb4-1a60-45c9-8a40-633fc1c7f959",
   "metadata": {},
   "outputs": [],
   "source": [
    "model_0 = Sequential()\n",
    "model_0.add(BatchNormalization(axis = 1,input_shape=(885,1), name = \"batchnorm_1\"))\n",
    "\n",
    "model_0.add(Conv1D(64, 5,padding='same', name=\"conv1_1\"))\n",
    "model_0.add(ELU())\n",
    "model_0.add(MaxPooling1D(pool_size=2,strides=1, padding='same'))\n",
    "\n",
    "model_0.add(Conv1D(128, 5,padding='same', name=\"conv1_2\"))\n",
    "model_0.add(ELU())\n",
    "model_0.add(MaxPooling1D(pool_size=2,strides=1, padding='same'))\n",
    "\n",
    "model_0.add(Conv1D(128, 5,padding='same', name=\"conv1_3\"))\n",
    "model_0.add(ELU())\n",
    "model_0.add(MaxPooling1D(pool_size=2,strides=1, padding='same'))\n",
    "\n",
    "\n",
    "model_0.add(Conv1D(128, 5,padding='same',name=\"conv1_4\"))\n",
    "model_0.add(ELU())\n",
    "model_0.add(MaxPooling1D(pool_size=4,strides=1, padding='same'))\n",
    "\n",
    "model_0.add(Conv1D(64, 5,padding='same',name=\"conv1_5\"))\n",
    "model_0.add(ELU())\n",
    "model_0.add(MaxPooling1D(pool_size=8,strides=4, padding='same'))\n",
    "\n",
    "model_0.add(Flatten())\n",
    "model_0.add(Dense(8))\n",
    "model_0.add(Activation('softmax'))\n",
    "opt0 = keras.optimizers.RMSprop(learning_rate=0.00005, rho=0.9, epsilon=None, decay=0.0)"
   ]
  },
  {
   "cell_type": "code",
   "execution_count": 10,
   "id": "b9e84948-df3e-4a4a-bc94-ccd0e3f027ae",
   "metadata": {},
   "outputs": [
    {
     "name": "stdout",
     "output_type": "stream",
     "text": [
      "Model: \"sequential\"\n",
      "_________________________________________________________________\n",
      "Layer (type)                 Output Shape              Param #   \n",
      "=================================================================\n",
      "batchnorm_1 (BatchNormalizat (None, 885, 1)            3540      \n",
      "_________________________________________________________________\n",
      "conv1_1 (Conv1D)             (None, 885, 64)           384       \n",
      "_________________________________________________________________\n",
      "elu (ELU)                    (None, 885, 64)           0         \n",
      "_________________________________________________________________\n",
      "max_pooling1d (MaxPooling1D) (None, 885, 64)           0         \n",
      "_________________________________________________________________\n",
      "conv1_2 (Conv1D)             (None, 885, 128)          41088     \n",
      "_________________________________________________________________\n",
      "elu_1 (ELU)                  (None, 885, 128)          0         \n",
      "_________________________________________________________________\n",
      "max_pooling1d_1 (MaxPooling1 (None, 885, 128)          0         \n",
      "_________________________________________________________________\n",
      "conv1_3 (Conv1D)             (None, 885, 128)          82048     \n",
      "_________________________________________________________________\n",
      "elu_2 (ELU)                  (None, 885, 128)          0         \n",
      "_________________________________________________________________\n",
      "max_pooling1d_2 (MaxPooling1 (None, 885, 128)          0         \n",
      "_________________________________________________________________\n",
      "conv1_4 (Conv1D)             (None, 885, 128)          82048     \n",
      "_________________________________________________________________\n",
      "elu_3 (ELU)                  (None, 885, 128)          0         \n",
      "_________________________________________________________________\n",
      "max_pooling1d_3 (MaxPooling1 (None, 885, 128)          0         \n",
      "_________________________________________________________________\n",
      "conv1_5 (Conv1D)             (None, 885, 64)           41024     \n",
      "_________________________________________________________________\n",
      "elu_4 (ELU)                  (None, 885, 64)           0         \n",
      "_________________________________________________________________\n",
      "max_pooling1d_4 (MaxPooling1 (None, 222, 64)           0         \n",
      "_________________________________________________________________\n",
      "flatten (Flatten)            (None, 14208)             0         \n",
      "_________________________________________________________________\n",
      "dense (Dense)                (None, 8)                 113672    \n",
      "_________________________________________________________________\n",
      "activation (Activation)      (None, 8)                 0         \n",
      "=================================================================\n",
      "Total params: 363,804\n",
      "Trainable params: 362,034\n",
      "Non-trainable params: 1,770\n",
      "_________________________________________________________________\n"
     ]
    }
   ],
   "source": [
    "model_0.build()\n",
    "model_0.summary()"
   ]
  },
  {
   "cell_type": "code",
   "execution_count": 11,
   "id": "018e38a7-82bf-4fdf-ab04-307b1c82dbd5",
   "metadata": {},
   "outputs": [],
   "source": [
    "model_0.compile(loss='sparse_categorical_crossentropy',\n",
    "              optimizer=opt0,\n",
    "              metrics=['accuracy'],weighted_metrics=['accuracy'])"
   ]
  },
  {
   "cell_type": "code",
   "execution_count": 12,
   "id": "6dee1f5c-b911-4e8b-b22b-393e89f7b9d1",
   "metadata": {},
   "outputs": [],
   "source": [
    "model_0_v1 = tensorflow.keras.models.clone_model(model_0)"
   ]
  },
  {
   "cell_type": "code",
   "execution_count": 13,
   "id": "9e74dd77-a18a-4e1f-b002-a81a0ba7e3c7",
   "metadata": {},
   "outputs": [],
   "source": [
    "from sklearn.model_selection import train_test_split"
   ]
  },
  {
   "cell_type": "code",
   "execution_count": 14,
   "id": "adfcac76-aa1a-4b31-9ee2-64edbed50c2e",
   "metadata": {},
   "outputs": [],
   "source": [
    "X_train_b, X_test_b, y_train_b, y_test_b = train_test_split(ALL40_48, Y, test_size=0.20, random_state=42)"
   ]
  },
  {
   "cell_type": "code",
   "execution_count": 15,
   "id": "e378b613-471f-44b7-a1aa-671f10987848",
   "metadata": {},
   "outputs": [
    {
     "data": {
      "text/plain": [
       "(8,)"
      ]
     },
     "execution_count": 15,
     "metadata": {},
     "output_type": "execute_result"
    }
   ],
   "source": [
    "np.unique(y_train_b).shape"
   ]
  },
  {
   "cell_type": "code",
   "execution_count": 16,
   "id": "96e37994-9bf5-4fcd-9cb1-3e8b8f7f1da5",
   "metadata": {},
   "outputs": [],
   "source": [
    "cls_weights = compute_class_weight('balanced', classes = np.unique(y_train_b),y = y_train_b)"
   ]
  },
  {
   "cell_type": "code",
   "execution_count": 17,
   "id": "e512ebfc-1d30-47e6-b466-2c3df3fbe1e6",
   "metadata": {},
   "outputs": [
    {
     "data": {
      "text/plain": [
       "array([1.81132075, 0.93658537, 0.93658537, 0.97627119, 0.93506494,\n",
       "       0.92753623, 0.93811075, 0.93053312])"
      ]
     },
     "execution_count": 17,
     "metadata": {},
     "output_type": "execute_result"
    }
   ],
   "source": [
    "cls_weights"
   ]
  },
  {
   "cell_type": "code",
   "execution_count": 18,
   "id": "166ae078-306d-4845-91f8-6781ece60153",
   "metadata": {},
   "outputs": [],
   "source": [
    "x_traincnn_b = np.expand_dims(X_train_b, axis=2)\n",
    "x_testcnn_b = np.expand_dims(X_test_b, axis=2)\n",
    "y_train_b = (y_train_b - 1).astype(int)\n",
    "y_test_b = (y_test_b - 1).astype(int)"
   ]
  },
  {
   "cell_type": "code",
   "execution_count": 21,
   "id": "fcbec200-965c-4b9d-8cd2-a28e4c31abaa",
   "metadata": {},
   "outputs": [],
   "source": [
    "cls_weight_dict = {0: cls_weights[0], 1: cls_weights[1], 2: cls_weights[2], 3: cls_weights[3], 4: cls_weights[4], 5: cls_weights[5], 6: cls_weights[6], 7: cls_weights[7]}\n",
    "#val_sample_weights = compute_sample_weight(cls_weight_dict, y_test_b)"
   ]
  },
  {
   "cell_type": "code",
   "execution_count": 22,
   "id": "4c466ae0-303b-484f-a590-9aff93d0a0e3",
   "metadata": {},
   "outputs": [
    {
     "data": {
      "text/plain": [
       "{0: 1.8113207547169812,\n",
       " 1: 0.9365853658536586,\n",
       " 2: 0.9365853658536586,\n",
       " 3: 0.976271186440678,\n",
       " 4: 0.935064935064935,\n",
       " 5: 0.927536231884058,\n",
       " 6: 0.9381107491856677,\n",
       " 7: 0.9305331179321487}"
      ]
     },
     "execution_count": 22,
     "metadata": {},
     "output_type": "execute_result"
    }
   ],
   "source": [
    "cls_weight_dict "
   ]
  },
  {
   "cell_type": "code",
   "execution_count": 23,
   "id": "4e7fbf43-5e5e-454d-8893-edf0f8739ab9",
   "metadata": {},
   "outputs": [
    {
     "name": "stdout",
     "output_type": "stream",
     "text": [
      "(4608, 885, 1)\n"
     ]
    }
   ],
   "source": [
    "print(x_traincnn_b.shape)"
   ]
  },
  {
   "cell_type": "code",
   "execution_count": 24,
   "id": "dbd27482-4f53-465b-8a27-632baf7ca8b0",
   "metadata": {},
   "outputs": [
    {
     "name": "stdout",
     "output_type": "stream",
     "text": [
      "Epoch 1/100\n",
      "144/144 [==============================] - 45s 307ms/step - loss: 1.7057 - accuracy: 0.3407 - weighted_accuracy: 0.3428 - val_loss: 1.8764 - val_accuracy: 0.3220 - val_weighted_accuracy: 0.3220\n",
      "Epoch 2/100\n",
      "144/144 [==============================] - 45s 315ms/step - loss: 1.5500 - accuracy: 0.4091 - weighted_accuracy: 0.4088 - val_loss: 1.6916 - val_accuracy: 0.3828 - val_weighted_accuracy: 0.3828\n",
      "Epoch 3/100\n",
      "144/144 [==============================] - 47s 330ms/step - loss: 1.4783 - accuracy: 0.4421 - weighted_accuracy: 0.4459 - val_loss: 1.5340 - val_accuracy: 0.4297 - val_weighted_accuracy: 0.4297\n",
      "Epoch 4/100\n",
      "144/144 [==============================] - 51s 356ms/step - loss: 1.4156 - accuracy: 0.4720 - weighted_accuracy: 0.4739 - val_loss: 1.3983 - val_accuracy: 0.4852 - val_weighted_accuracy: 0.4852\n",
      "Epoch 5/100\n",
      "144/144 [==============================] - 50s 347ms/step - loss: 1.3660 - accuracy: 0.4850 - weighted_accuracy: 0.4846 - val_loss: 1.3332 - val_accuracy: 0.4757 - val_weighted_accuracy: 0.4757\n",
      "Epoch 6/100\n",
      "144/144 [==============================] - 50s 349ms/step - loss: 1.3136 - accuracy: 0.5167 - weighted_accuracy: 0.5209 - val_loss: 1.2625 - val_accuracy: 0.5208 - val_weighted_accuracy: 0.5208\n",
      "Epoch 7/100\n",
      "144/144 [==============================] - 48s 334ms/step - loss: 1.2501 - accuracy: 0.5369 - weighted_accuracy: 0.5391 - val_loss: 1.2103 - val_accuracy: 0.5634 - val_weighted_accuracy: 0.5634\n",
      "Epoch 8/100\n",
      "144/144 [==============================] - 50s 345ms/step - loss: 1.2209 - accuracy: 0.5543 - weighted_accuracy: 0.5563 - val_loss: 1.2254 - val_accuracy: 0.5434 - val_weighted_accuracy: 0.5434\n",
      "Epoch 9/100\n",
      "144/144 [==============================] - 50s 349ms/step - loss: 1.1586 - accuracy: 0.5855 - weighted_accuracy: 0.5872 - val_loss: 1.1234 - val_accuracy: 0.5842 - val_weighted_accuracy: 0.5842\n",
      "Epoch 10/100\n",
      "144/144 [==============================] - 51s 352ms/step - loss: 1.1232 - accuracy: 0.5907 - weighted_accuracy: 0.5917 - val_loss: 1.0644 - val_accuracy: 0.6172 - val_weighted_accuracy: 0.6172\n",
      "Epoch 11/100\n",
      "144/144 [==============================] - 51s 357ms/step - loss: 1.0847 - accuracy: 0.6070 - weighted_accuracy: 0.6062 - val_loss: 1.0935 - val_accuracy: 0.6068 - val_weighted_accuracy: 0.6068\n",
      "Epoch 12/100\n",
      "144/144 [==============================] - 53s 371ms/step - loss: 1.0463 - accuracy: 0.6198 - weighted_accuracy: 0.6225 - val_loss: 1.0162 - val_accuracy: 0.6406 - val_weighted_accuracy: 0.6406\n",
      "Epoch 13/100\n",
      "144/144 [==============================] - 57s 393ms/step - loss: 1.0146 - accuracy: 0.6345 - weighted_accuracy: 0.6340 - val_loss: 1.1021 - val_accuracy: 0.5885 - val_weighted_accuracy: 0.5885\n",
      "Epoch 14/100\n",
      "144/144 [==============================] - 56s 389ms/step - loss: 0.9798 - accuracy: 0.6461 - weighted_accuracy: 0.6476 - val_loss: 0.9944 - val_accuracy: 0.6424 - val_weighted_accuracy: 0.6424\n",
      "Epoch 15/100\n",
      "144/144 [==============================] - 55s 382ms/step - loss: 0.9585 - accuracy: 0.6612 - weighted_accuracy: 0.6597 - val_loss: 0.9909 - val_accuracy: 0.6597 - val_weighted_accuracy: 0.6597\n",
      "Epoch 16/100\n",
      "144/144 [==============================] - 54s 377ms/step - loss: 0.9313 - accuracy: 0.6619 - weighted_accuracy: 0.6593 - val_loss: 0.9305 - val_accuracy: 0.6675 - val_weighted_accuracy: 0.6675\n",
      "Epoch 17/100\n",
      "144/144 [==============================] - 56s 386ms/step - loss: 0.9193 - accuracy: 0.6651 - weighted_accuracy: 0.6645 - val_loss: 0.9617 - val_accuracy: 0.6467 - val_weighted_accuracy: 0.6467\n",
      "Epoch 18/100\n",
      "144/144 [==============================] - 58s 405ms/step - loss: 0.8804 - accuracy: 0.6795 - weighted_accuracy: 0.6794 - val_loss: 0.9174 - val_accuracy: 0.6701 - val_weighted_accuracy: 0.6701\n",
      "Epoch 19/100\n",
      "144/144 [==============================] - 58s 403ms/step - loss: 0.8708 - accuracy: 0.6916 - weighted_accuracy: 0.6924 - val_loss: 0.8596 - val_accuracy: 0.6979 - val_weighted_accuracy: 0.6979\n",
      "Epoch 20/100\n",
      "144/144 [==============================] - 55s 379ms/step - loss: 0.8501 - accuracy: 0.6957 - weighted_accuracy: 0.6967 - val_loss: 0.9019 - val_accuracy: 0.6727 - val_weighted_accuracy: 0.6727\n",
      "Epoch 21/100\n",
      "144/144 [==============================] - 57s 394ms/step - loss: 0.8113 - accuracy: 0.7029 - weighted_accuracy: 0.7037 - val_loss: 0.8437 - val_accuracy: 0.7066 - val_weighted_accuracy: 0.7066\n",
      "Epoch 22/100\n",
      "144/144 [==============================] - 53s 370ms/step - loss: 0.7933 - accuracy: 0.7229 - weighted_accuracy: 0.7212 - val_loss: 0.7960 - val_accuracy: 0.7118 - val_weighted_accuracy: 0.7118\n",
      "Epoch 23/100\n",
      "144/144 [==============================] - 52s 365ms/step - loss: 0.7709 - accuracy: 0.7283 - weighted_accuracy: 0.7264 - val_loss: 0.8708 - val_accuracy: 0.6762 - val_weighted_accuracy: 0.6762\n",
      "Epoch 24/100\n",
      "144/144 [==============================] - 54s 377ms/step - loss: 0.7585 - accuracy: 0.7359 - weighted_accuracy: 0.7351 - val_loss: 0.7650 - val_accuracy: 0.7326 - val_weighted_accuracy: 0.7326\n",
      "Epoch 25/100\n",
      "144/144 [==============================] - 54s 378ms/step - loss: 0.7415 - accuracy: 0.7368 - weighted_accuracy: 0.7362 - val_loss: 0.7487 - val_accuracy: 0.7352 - val_weighted_accuracy: 0.7352\n",
      "Epoch 26/100\n",
      "144/144 [==============================] - 55s 386ms/step - loss: 0.7256 - accuracy: 0.7405 - weighted_accuracy: 0.7381 - val_loss: 0.7831 - val_accuracy: 0.7248 - val_weighted_accuracy: 0.7248\n",
      "Epoch 27/100\n",
      "144/144 [==============================] - 55s 385ms/step - loss: 0.7196 - accuracy: 0.7452 - weighted_accuracy: 0.7453 - val_loss: 0.7620 - val_accuracy: 0.7387 - val_weighted_accuracy: 0.7387\n",
      "Epoch 28/100\n",
      "144/144 [==============================] - 53s 370ms/step - loss: 0.7010 - accuracy: 0.7487 - weighted_accuracy: 0.7499 - val_loss: 0.6893 - val_accuracy: 0.7700 - val_weighted_accuracy: 0.7700\n",
      "Epoch 29/100\n",
      "144/144 [==============================] - 56s 388ms/step - loss: 0.6812 - accuracy: 0.7591 - weighted_accuracy: 0.7574 - val_loss: 0.7116 - val_accuracy: 0.7413 - val_weighted_accuracy: 0.7413\n",
      "Epoch 30/100\n",
      "144/144 [==============================] - 54s 376ms/step - loss: 0.6660 - accuracy: 0.7595 - weighted_accuracy: 0.7601 - val_loss: 0.6578 - val_accuracy: 0.7708 - val_weighted_accuracy: 0.7708\n",
      "Epoch 31/100\n",
      "144/144 [==============================] - 54s 378ms/step - loss: 0.6558 - accuracy: 0.7687 - weighted_accuracy: 0.7673 - val_loss: 0.6869 - val_accuracy: 0.7622 - val_weighted_accuracy: 0.7622\n",
      "Epoch 32/100\n",
      "144/144 [==============================] - 54s 373ms/step - loss: 0.6436 - accuracy: 0.7739 - weighted_accuracy: 0.7752 - val_loss: 0.6681 - val_accuracy: 0.7769 - val_weighted_accuracy: 0.7769\n",
      "Epoch 33/100\n",
      "144/144 [==============================] - 51s 356ms/step - loss: 0.6286 - accuracy: 0.7784 - weighted_accuracy: 0.7763 - val_loss: 0.6297 - val_accuracy: 0.7873 - val_weighted_accuracy: 0.7873\n",
      "Epoch 34/100\n",
      "144/144 [==============================] - 51s 352ms/step - loss: 0.6259 - accuracy: 0.7849 - weighted_accuracy: 0.7812 - val_loss: 0.6720 - val_accuracy: 0.7500 - val_weighted_accuracy: 0.7500\n",
      "Epoch 35/100\n",
      "144/144 [==============================] - 52s 360ms/step - loss: 0.5969 - accuracy: 0.7888 - weighted_accuracy: 0.7876 - val_loss: 0.6342 - val_accuracy: 0.7726 - val_weighted_accuracy: 0.7726\n",
      "Epoch 36/100\n",
      "144/144 [==============================] - 56s 386ms/step - loss: 0.5859 - accuracy: 0.7938 - weighted_accuracy: 0.7941 - val_loss: 0.5758 - val_accuracy: 0.8108 - val_weighted_accuracy: 0.8108\n",
      "Epoch 37/100\n",
      "144/144 [==============================] - 57s 397ms/step - loss: 0.5827 - accuracy: 0.7923 - weighted_accuracy: 0.7907 - val_loss: 0.5885 - val_accuracy: 0.8003 - val_weighted_accuracy: 0.8003\n",
      "Epoch 38/100\n",
      "144/144 [==============================] - 60s 416ms/step - loss: 0.5732 - accuracy: 0.7967 - weighted_accuracy: 0.7957 - val_loss: 0.5418 - val_accuracy: 0.8255 - val_weighted_accuracy: 0.8255\n",
      "Epoch 39/100\n",
      "144/144 [==============================] - 55s 382ms/step - loss: 0.5459 - accuracy: 0.8123 - weighted_accuracy: 0.8119 - val_loss: 0.4889 - val_accuracy: 0.8394 - val_weighted_accuracy: 0.8394\n",
      "Epoch 40/100\n",
      "144/144 [==============================] - 56s 386ms/step - loss: 0.5298 - accuracy: 0.8140 - weighted_accuracy: 0.8113 - val_loss: 0.5840 - val_accuracy: 0.7917 - val_weighted_accuracy: 0.7917\n",
      "Epoch 41/100\n",
      "144/144 [==============================] - 56s 389ms/step - loss: 0.5270 - accuracy: 0.8162 - weighted_accuracy: 0.8155 - val_loss: 0.5278 - val_accuracy: 0.8255 - val_weighted_accuracy: 0.8255\n",
      "Epoch 42/100\n",
      "144/144 [==============================] - 53s 372ms/step - loss: 0.5090 - accuracy: 0.8197 - weighted_accuracy: 0.8184 - val_loss: 0.5130 - val_accuracy: 0.8247 - val_weighted_accuracy: 0.8247\n",
      "Epoch 43/100\n",
      "144/144 [==============================] - 52s 364ms/step - loss: 0.4952 - accuracy: 0.8309 - weighted_accuracy: 0.8300 - val_loss: 0.5133 - val_accuracy: 0.8238 - val_weighted_accuracy: 0.8238\n",
      "Epoch 44/100\n",
      "144/144 [==============================] - 54s 373ms/step - loss: 0.4954 - accuracy: 0.8207 - weighted_accuracy: 0.8192 - val_loss: 0.4801 - val_accuracy: 0.8342 - val_weighted_accuracy: 0.8342\n",
      "Epoch 45/100\n",
      "144/144 [==============================] - 52s 364ms/step - loss: 0.4917 - accuracy: 0.8251 - weighted_accuracy: 0.8241 - val_loss: 0.5384 - val_accuracy: 0.8134 - val_weighted_accuracy: 0.8134\n",
      "Epoch 46/100\n",
      "144/144 [==============================] - 53s 366ms/step - loss: 0.4631 - accuracy: 0.8457 - weighted_accuracy: 0.8448 - val_loss: 0.4590 - val_accuracy: 0.8359 - val_weighted_accuracy: 0.8359\n",
      "Epoch 47/100\n",
      "144/144 [==============================] - 52s 362ms/step - loss: 0.4537 - accuracy: 0.8457 - weighted_accuracy: 0.8452 - val_loss: 0.4816 - val_accuracy: 0.8351 - val_weighted_accuracy: 0.8351\n",
      "Epoch 48/100\n",
      "144/144 [==============================] - 54s 374ms/step - loss: 0.4669 - accuracy: 0.8368 - weighted_accuracy: 0.8354 - val_loss: 0.4936 - val_accuracy: 0.8229 - val_weighted_accuracy: 0.8229\n",
      "Epoch 49/100\n",
      "144/144 [==============================] - 53s 369ms/step - loss: 0.4507 - accuracy: 0.8388 - weighted_accuracy: 0.8383 - val_loss: 0.4537 - val_accuracy: 0.8490 - val_weighted_accuracy: 0.8490\n",
      "Epoch 50/100\n",
      "144/144 [==============================] - 55s 382ms/step - loss: 0.4300 - accuracy: 0.8481 - weighted_accuracy: 0.8472 - val_loss: 0.4429 - val_accuracy: 0.8533 - val_weighted_accuracy: 0.8533\n",
      "Epoch 51/100\n",
      "144/144 [==============================] - 53s 368ms/step - loss: 0.4249 - accuracy: 0.8509 - weighted_accuracy: 0.8495 - val_loss: 0.4709 - val_accuracy: 0.8316 - val_weighted_accuracy: 0.8316\n",
      "Epoch 52/100\n",
      "144/144 [==============================] - 55s 382ms/step - loss: 0.4153 - accuracy: 0.8579 - weighted_accuracy: 0.8575 - val_loss: 0.3794 - val_accuracy: 0.8776 - val_weighted_accuracy: 0.8776\n",
      "Epoch 53/100\n",
      "144/144 [==============================] - 55s 382ms/step - loss: 0.3983 - accuracy: 0.8624 - weighted_accuracy: 0.8605 - val_loss: 0.4554 - val_accuracy: 0.8446 - val_weighted_accuracy: 0.8446\n",
      "Epoch 54/100\n",
      "144/144 [==============================] - 54s 375ms/step - loss: 0.4120 - accuracy: 0.8566 - weighted_accuracy: 0.8549 - val_loss: 0.4005 - val_accuracy: 0.8663 - val_weighted_accuracy: 0.8663\n",
      "Epoch 55/100\n",
      "144/144 [==============================] - 55s 383ms/step - loss: 0.3874 - accuracy: 0.8655 - weighted_accuracy: 0.8633 - val_loss: 0.3550 - val_accuracy: 0.8906 - val_weighted_accuracy: 0.8906\n",
      "Epoch 56/100\n",
      "144/144 [==============================] - 53s 371ms/step - loss: 0.3711 - accuracy: 0.8726 - weighted_accuracy: 0.8710 - val_loss: 0.3860 - val_accuracy: 0.8802 - val_weighted_accuracy: 0.8802\n",
      "Epoch 57/100\n",
      "144/144 [==============================] - 54s 374ms/step - loss: 0.3829 - accuracy: 0.8702 - weighted_accuracy: 0.8669 - val_loss: 0.5135 - val_accuracy: 0.8160 - val_weighted_accuracy: 0.8160\n",
      "Epoch 58/100\n",
      "144/144 [==============================] - 54s 376ms/step - loss: 0.3665 - accuracy: 0.8674 - weighted_accuracy: 0.8657 - val_loss: 0.4189 - val_accuracy: 0.8472 - val_weighted_accuracy: 0.8472\n",
      "Epoch 59/100\n",
      "144/144 [==============================] - 57s 394ms/step - loss: 0.3699 - accuracy: 0.8728 - weighted_accuracy: 0.8711 - val_loss: 0.4528 - val_accuracy: 0.8403 - val_weighted_accuracy: 0.8403\n",
      "Epoch 60/100\n",
      "144/144 [==============================] - 54s 375ms/step - loss: 0.3674 - accuracy: 0.8713 - weighted_accuracy: 0.8702 - val_loss: 0.3333 - val_accuracy: 0.9010 - val_weighted_accuracy: 0.9010\n",
      "Epoch 61/100\n",
      "144/144 [==============================] - 61s 425ms/step - loss: 0.3364 - accuracy: 0.8824 - weighted_accuracy: 0.8821 - val_loss: 0.3545 - val_accuracy: 0.8880 - val_weighted_accuracy: 0.8880\n",
      "Epoch 62/100\n",
      "144/144 [==============================] - 64s 448ms/step - loss: 0.3414 - accuracy: 0.8815 - weighted_accuracy: 0.8798 - val_loss: 0.3459 - val_accuracy: 0.8819 - val_weighted_accuracy: 0.8819\n",
      "Epoch 63/100\n",
      "144/144 [==============================] - 67s 462ms/step - loss: 0.3286 - accuracy: 0.8861 - weighted_accuracy: 0.8846 - val_loss: 0.3147 - val_accuracy: 0.9036 - val_weighted_accuracy: 0.9036\n",
      "Epoch 64/100\n",
      "144/144 [==============================] - 58s 404ms/step - loss: 0.3329 - accuracy: 0.8804 - weighted_accuracy: 0.8799 - val_loss: 0.3360 - val_accuracy: 0.8950 - val_weighted_accuracy: 0.8950\n",
      "Epoch 65/100\n",
      "144/144 [==============================] - 60s 417ms/step - loss: 0.3169 - accuracy: 0.8822 - weighted_accuracy: 0.8812 - val_loss: 0.3842 - val_accuracy: 0.8767 - val_weighted_accuracy: 0.8767\n",
      "Epoch 66/100\n",
      "144/144 [==============================] - 58s 405ms/step - loss: 0.3195 - accuracy: 0.8882 - weighted_accuracy: 0.8857 - val_loss: 0.3051 - val_accuracy: 0.9071 - val_weighted_accuracy: 0.9071\n",
      "Epoch 67/100\n",
      "144/144 [==============================] - 59s 413ms/step - loss: 0.3119 - accuracy: 0.8963 - weighted_accuracy: 0.8944 - val_loss: 0.3255 - val_accuracy: 0.8950 - val_weighted_accuracy: 0.8950\n",
      "Epoch 68/100\n",
      "144/144 [==============================] - 58s 405ms/step - loss: 0.3036 - accuracy: 0.8937 - weighted_accuracy: 0.8921 - val_loss: 0.2779 - val_accuracy: 0.9158 - val_weighted_accuracy: 0.9158\n",
      "Epoch 69/100\n",
      "144/144 [==============================] - 59s 411ms/step - loss: 0.3027 - accuracy: 0.8902 - weighted_accuracy: 0.8898 - val_loss: 0.2962 - val_accuracy: 0.9175 - val_weighted_accuracy: 0.9175\n",
      "Epoch 70/100\n",
      "144/144 [==============================] - 59s 410ms/step - loss: 0.2894 - accuracy: 0.8995 - weighted_accuracy: 0.8976 - val_loss: 0.3372 - val_accuracy: 0.9045 - val_weighted_accuracy: 0.9045\n",
      "Epoch 71/100\n",
      "144/144 [==============================] - 54s 377ms/step - loss: 0.2859 - accuracy: 0.8963 - weighted_accuracy: 0.8954 - val_loss: 0.2690 - val_accuracy: 0.9158 - val_weighted_accuracy: 0.9158\n",
      "Epoch 72/100\n",
      "144/144 [==============================] - 57s 393ms/step - loss: 0.2862 - accuracy: 0.9010 - weighted_accuracy: 0.8981 - val_loss: 0.3647 - val_accuracy: 0.8845 - val_weighted_accuracy: 0.8845\n",
      "Epoch 73/100\n",
      "144/144 [==============================] - 54s 379ms/step - loss: 0.2948 - accuracy: 0.8993 - weighted_accuracy: 0.8979 - val_loss: 0.2756 - val_accuracy: 0.9175 - val_weighted_accuracy: 0.9175\n",
      "Epoch 74/100\n",
      "144/144 [==============================] - 54s 378ms/step - loss: 0.2752 - accuracy: 0.9058 - weighted_accuracy: 0.9049 - val_loss: 0.2712 - val_accuracy: 0.9132 - val_weighted_accuracy: 0.9132\n",
      "Epoch 75/100\n",
      "144/144 [==============================] - 55s 382ms/step - loss: 0.2625 - accuracy: 0.9032 - weighted_accuracy: 0.9023 - val_loss: 0.2811 - val_accuracy: 0.9123 - val_weighted_accuracy: 0.9123\n",
      "Epoch 76/100\n",
      "144/144 [==============================] - 54s 374ms/step - loss: 0.2779 - accuracy: 0.9028 - weighted_accuracy: 0.9007 - val_loss: 0.2925 - val_accuracy: 0.9045 - val_weighted_accuracy: 0.9045\n",
      "Epoch 77/100\n",
      "144/144 [==============================] - 56s 387ms/step - loss: 0.2547 - accuracy: 0.9151 - weighted_accuracy: 0.9143 - val_loss: 0.3284 - val_accuracy: 0.8915 - val_weighted_accuracy: 0.8915\n",
      "Epoch 78/100\n",
      "144/144 [==============================] - 55s 383ms/step - loss: 0.2647 - accuracy: 0.9082 - weighted_accuracy: 0.9055 - val_loss: 0.2971 - val_accuracy: 0.9089 - val_weighted_accuracy: 0.9089\n",
      "Epoch 79/100\n",
      "144/144 [==============================] - 55s 385ms/step - loss: 0.2455 - accuracy: 0.9141 - weighted_accuracy: 0.9140 - val_loss: 0.2638 - val_accuracy: 0.9132 - val_weighted_accuracy: 0.9132\n",
      "Epoch 80/100\n",
      "144/144 [==============================] - 53s 369ms/step - loss: 0.2556 - accuracy: 0.9106 - weighted_accuracy: 0.9083 - val_loss: 0.2471 - val_accuracy: 0.9236 - val_weighted_accuracy: 0.9236\n",
      "Epoch 81/100\n",
      "144/144 [==============================] - 53s 367ms/step - loss: 0.2382 - accuracy: 0.9182 - weighted_accuracy: 0.9167 - val_loss: 0.2507 - val_accuracy: 0.9323 - val_weighted_accuracy: 0.9323\n",
      "Epoch 82/100\n",
      "144/144 [==============================] - 52s 361ms/step - loss: 0.2336 - accuracy: 0.9151 - weighted_accuracy: 0.9140 - val_loss: 0.2583 - val_accuracy: 0.9236 - val_weighted_accuracy: 0.9236\n",
      "Epoch 83/100\n",
      "144/144 [==============================] - 53s 365ms/step - loss: 0.2294 - accuracy: 0.9182 - weighted_accuracy: 0.9180 - val_loss: 0.2077 - val_accuracy: 0.9436 - val_weighted_accuracy: 0.9436\n",
      "Epoch 84/100\n",
      "144/144 [==============================] - 53s 366ms/step - loss: 0.2363 - accuracy: 0.9143 - weighted_accuracy: 0.9149 - val_loss: 0.2207 - val_accuracy: 0.9332 - val_weighted_accuracy: 0.9332\n",
      "Epoch 85/100\n",
      "144/144 [==============================] - 52s 360ms/step - loss: 0.2199 - accuracy: 0.9269 - weighted_accuracy: 0.9256 - val_loss: 0.2094 - val_accuracy: 0.9366 - val_weighted_accuracy: 0.9366\n",
      "Epoch 86/100\n",
      "144/144 [==============================] - 54s 375ms/step - loss: 0.2351 - accuracy: 0.9171 - weighted_accuracy: 0.9162 - val_loss: 0.2256 - val_accuracy: 0.9297 - val_weighted_accuracy: 0.9297\n",
      "Epoch 87/100\n",
      "144/144 [==============================] - 52s 358ms/step - loss: 0.2174 - accuracy: 0.9230 - weighted_accuracy: 0.9220 - val_loss: 0.2428 - val_accuracy: 0.9349 - val_weighted_accuracy: 0.9349\n",
      "Epoch 88/100\n",
      "144/144 [==============================] - 52s 359ms/step - loss: 0.2284 - accuracy: 0.9180 - weighted_accuracy: 0.9147 - val_loss: 0.2528 - val_accuracy: 0.9141 - val_weighted_accuracy: 0.9141\n",
      "Epoch 89/100\n",
      "144/144 [==============================] - 51s 352ms/step - loss: 0.2294 - accuracy: 0.9221 - weighted_accuracy: 0.9198 - val_loss: 0.2428 - val_accuracy: 0.9288 - val_weighted_accuracy: 0.9288\n",
      "Epoch 90/100\n",
      "144/144 [==============================] - 53s 371ms/step - loss: 0.2108 - accuracy: 0.9256 - weighted_accuracy: 0.9233 - val_loss: 0.1971 - val_accuracy: 0.9470 - val_weighted_accuracy: 0.9470\n",
      "Epoch 91/100\n",
      "144/144 [==============================] - 51s 356ms/step - loss: 0.2163 - accuracy: 0.9234 - weighted_accuracy: 0.9238 - val_loss: 0.2165 - val_accuracy: 0.9418 - val_weighted_accuracy: 0.9418\n",
      "Epoch 92/100\n",
      "144/144 [==============================] - 51s 356ms/step - loss: 0.2054 - accuracy: 0.9256 - weighted_accuracy: 0.9235 - val_loss: 0.1917 - val_accuracy: 0.9470 - val_weighted_accuracy: 0.9470\n",
      "Epoch 93/100\n",
      "144/144 [==============================] - 51s 356ms/step - loss: 0.1968 - accuracy: 0.9308 - weighted_accuracy: 0.9296 - val_loss: 0.2307 - val_accuracy: 0.9288 - val_weighted_accuracy: 0.9288\n",
      "Epoch 94/100\n",
      "144/144 [==============================] - 52s 359ms/step - loss: 0.2103 - accuracy: 0.9251 - weighted_accuracy: 0.9244 - val_loss: 0.2211 - val_accuracy: 0.9375 - val_weighted_accuracy: 0.9375\n",
      "Epoch 95/100\n",
      "144/144 [==============================] - 51s 354ms/step - loss: 0.1896 - accuracy: 0.9364 - weighted_accuracy: 0.9348 - val_loss: 0.2150 - val_accuracy: 0.9358 - val_weighted_accuracy: 0.9358\n",
      "Epoch 96/100\n",
      "144/144 [==============================] - 51s 353ms/step - loss: 0.1934 - accuracy: 0.9327 - weighted_accuracy: 0.9322 - val_loss: 0.1990 - val_accuracy: 0.9436 - val_weighted_accuracy: 0.9436\n",
      "Epoch 97/100\n",
      "144/144 [==============================] - 52s 360ms/step - loss: 0.1962 - accuracy: 0.9297 - weighted_accuracy: 0.9286 - val_loss: 0.2058 - val_accuracy: 0.9453 - val_weighted_accuracy: 0.9453\n",
      "Epoch 98/100\n",
      "144/144 [==============================] - 51s 352ms/step - loss: 0.2021 - accuracy: 0.9295 - weighted_accuracy: 0.9283 - val_loss: 0.1851 - val_accuracy: 0.9540 - val_weighted_accuracy: 0.9540\n",
      "Epoch 99/100\n",
      "144/144 [==============================] - 50s 349ms/step - loss: 0.1950 - accuracy: 0.9347 - weighted_accuracy: 0.9330 - val_loss: 0.2014 - val_accuracy: 0.9470 - val_weighted_accuracy: 0.9470\n",
      "Epoch 100/100\n",
      "144/144 [==============================] - 52s 365ms/step - loss: 0.1853 - accuracy: 0.9323 - weighted_accuracy: 0.9302 - val_loss: 0.1644 - val_accuracy: 0.9583 - val_weighted_accuracy: 0.9583\n"
     ]
    }
   ],
   "source": [
    "cnnhistory=model_0.fit(x_traincnn_b, np.array(y_train_b), batch_size=32, epochs=100, validation_data=(x_testcnn_b, np.array(y_test_b)),class_weight=cls_weight_dict )"
   ]
  },
  {
   "cell_type": "markdown",
   "id": "db1b68cc-a654-485b-b7fa-0b290a648c8b",
   "metadata": {},
   "source": [
    "**El tiempo de entrenamiento subió considerablemente con el aumento de dimensión de los vectores de entrada!**"
   ]
  },
  {
   "cell_type": "code",
   "execution_count": 25,
   "id": "a763ed78-6522-4f8b-8112-838e6305b48e",
   "metadata": {},
   "outputs": [
    {
     "data": {
      "image/png": "[encoded data removed]",
      "text/plain": [
       "<Figure size 432x288 with 1 Axes>"
      ]
     },
     "metadata": {
      "needs_background": "light"
     },
     "output_type": "display_data"
    }
   ],
   "source": [
    "plt.plot(cnnhistory.history['loss'])\n",
    "plt.plot(cnnhistory.history['val_loss'])\n",
    "plt.title('model loss')\n",
    "plt.ylabel('loss')\n",
    "plt.xlabel('epoch')\n",
    "plt.legend(['train', 'test'], loc='upper left')\n",
    "plt.show()"
   ]
  },
  {
   "cell_type": "code",
   "execution_count": 26,
   "id": "5127e319-59e7-460a-8036-c5f995be0fe9",
   "metadata": {},
   "outputs": [
    {
     "data": {
      "image/png": "[encoded data removed]",
      "text/plain": [
       "<Figure size 432x288 with 1 Axes>"
      ]
     },
     "metadata": {
      "needs_background": "light"
     },
     "output_type": "display_data"
    }
   ],
   "source": [
    "plt.plot(cnnhistory.history['accuracy'])\n",
    "plt.plot(cnnhistory.history['val_accuracy'])\n",
    "plt.title('model accuracy')\n",
    "plt.ylabel('acc')\n",
    "plt.xlabel('epoch')\n",
    "plt.legend(['train', 'test'], loc='upper left')\n",
    "plt.show()"
   ]
  },
  {
   "cell_type": "code",
   "execution_count": 27,
   "id": "11eee26b-e24e-4df7-9e4b-2d1d5ef2d26f",
   "metadata": {},
   "outputs": [],
   "source": [
    "predictions=model_0.predict(x_testcnn_b) \n",
    "classes_x=np.argmax(predictions,axis=1)"
   ]
  },
  {
   "cell_type": "code",
   "execution_count": 28,
   "id": "7498f73a-4a93-4552-b695-351e148fe447",
   "metadata": {},
   "outputs": [
    {
     "name": "stdout",
     "output_type": "stream",
     "text": [
      "              precision    recall  f1-score   support\n",
      "\n",
      "           0       0.88      1.00      0.94        66\n",
      "           1       0.90      0.97      0.94       153\n",
      "           2       0.99      0.95      0.97       153\n",
      "           3       0.98      0.94      0.96       178\n",
      "           4       1.00      0.95      0.97       152\n",
      "           5       0.95      0.97      0.96       147\n",
      "           6       0.97      0.95      0.96       154\n",
      "           7       0.96      0.96      0.96       149\n",
      "\n",
      "    accuracy                           0.96      1152\n",
      "   macro avg       0.95      0.96      0.96      1152\n",
      "weighted avg       0.96      0.96      0.96      1152\n",
      "\n"
     ]
    }
   ],
   "source": [
    "from sklearn.metrics import classification_report\n",
    "report = classification_report(y_test_b,classes_x)\n",
    "print(report)"
   ]
  },
  {
   "cell_type": "code",
   "execution_count": 29,
   "id": "bf52da5f-979a-4456-83b0-dcae9dfc4a8e",
   "metadata": {},
   "outputs": [
    {
     "name": "stdout",
     "output_type": "stream",
     "text": [
      "[[ 66   0   0   0   0   0   0   0]\n",
      " [  4 149   0   0   0   0   0   0]\n",
      " [  3   1 145   3   0   1   0   0]\n",
      " [  0   8   0 167   0   0   3   0]\n",
      " [  1   1   0   0 144   1   1   4]\n",
      " [  0   0   2   0   0 143   0   2]\n",
      " [  1   6   0   0   0   0 147   0]\n",
      " [  0   0   0   0   0   6   0 143]]\n"
     ]
    }
   ],
   "source": [
    "from sklearn.metrics import confusion_matrix\n",
    "matrix = confusion_matrix(y_test_b, classes_x)\n",
    "print (matrix)"
   ]
  },
  {
   "cell_type": "code",
   "execution_count": 30,
   "id": "3dcb4e0f-fdc6-4bf3-a017-9f66fb5d3096",
   "metadata": {},
   "outputs": [
    {
     "name": "stdout",
     "output_type": "stream",
     "text": [
      "36/36 [==============================] - 3s 96ms/step - loss: 0.1644 - accuracy: 0.9583 - weighted_accuracy: 0.9583\n"
     ]
    },
    {
     "ename": "ValueError",
     "evalue": "too many values to unpack (expected 2)",
     "output_type": "error",
     "traceback": [
      "\u001b[0;31m---------------------------------------------------------------------------\u001b[0m",
      "\u001b[0;31mValueError\u001b[0m                                Traceback (most recent call last)",
      "\u001b[0;32m<ipython-input-30-a6534684c1b7>\u001b[0m in \u001b[0;36m<module>\u001b[0;34m\u001b[0m\n\u001b[0;32m----> 1\u001b[0;31m \u001b[0mloss\u001b[0m\u001b[0;34m,\u001b[0m \u001b[0macc\u001b[0m \u001b[0;34m=\u001b[0m \u001b[0mmodel_0\u001b[0m\u001b[0;34m.\u001b[0m\u001b[0mevaluate\u001b[0m\u001b[0;34m(\u001b[0m\u001b[0mx_testcnn_b\u001b[0m\u001b[0;34m,\u001b[0m \u001b[0mnp\u001b[0m\u001b[0;34m.\u001b[0m\u001b[0masarray\u001b[0m\u001b[0;34m(\u001b[0m\u001b[0my_test_b\u001b[0m\u001b[0;34m)\u001b[0m\u001b[0;34m)\u001b[0m\u001b[0;34m\u001b[0m\u001b[0;34m\u001b[0m\u001b[0m\n\u001b[0m\u001b[1;32m      2\u001b[0m \u001b[0mprint\u001b[0m\u001b[0;34m(\u001b[0m\u001b[0;34m\"Restored model, accuracy: {:5.2f}%\"\u001b[0m\u001b[0;34m.\u001b[0m\u001b[0mformat\u001b[0m\u001b[0;34m(\u001b[0m\u001b[0;36m100\u001b[0m\u001b[0;34m*\u001b[0m\u001b[0macc\u001b[0m\u001b[0;34m)\u001b[0m\u001b[0;34m)\u001b[0m\u001b[0;34m\u001b[0m\u001b[0;34m\u001b[0m\u001b[0m\n",
      "\u001b[0;31mValueError\u001b[0m: too many values to unpack (expected 2)"
     ]
    }
   ],
   "source": [
    "loss, acc = model_0.evaluate(x_testcnn_b, np.asarray(y_test_b))\n",
    "print(\"Restored model, accuracy: {:5.2f}%\".format(100*acc))"
   ]
  },
  {
   "cell_type": "markdown",
   "id": "f1245abe-9fb2-45af-b950-f7f272e6b007",
   "metadata": {},
   "source": [
    "### Why validation is lower than trainning loss?. \n",
    "\n",
    "An answer that I found:\n",
    "    \n",
    "It is difficult to be certain without knowing your actual methodology (e.g. cross-validation method, performance metric, data splitting method, etc.).\n",
    "\n",
    "Generally speaking though, training error will almost always underestimate your validation error. However it is possible for the validation error to be less than the training. You can think of it two ways:\n",
    "\n",
    "Your training set had many 'hard' cases to learn\n",
    "Your validation set had mostly 'easy' cases to predict\n",
    "That is why it is important that you really evaluate your model training methodology. If you don't split your data for training properly your results will lead to confusing, if not simply incorrect, conclusions.\n",
    "\n",
    "I think of model evaluation in four different categories:\n",
    "\n",
    "Underfitting – Validation and training error high\n",
    "\n",
    "Overfitting – Validation error is high, training error low\n",
    "\n",
    "Good fit – Validation error low, slightly higher than the training error\n",
    "\n",
    "Unknown fit - Validation error low, training error 'high'\n",
    "\n",
    "I say 'unknown' fit because the result is counter intuitive to how machine learning works. The essence of ML is to predict the unknown. If you are better at predicting the unknown than what you have 'learned', AFAIK the data between training and validation must be different in some way. This could mean you either need to reevaluate your data splitting method, adding more data, or possibly changing your performance metric (are you actually measuring the performance you want?).\n",
    "\n",
    "EDIT\n",
    "\n",
    "To address the OP's reference to a previous python lasagne question.\n",
    "\n",
    "This suggests that you have sufficient data to not require cross-validation and simply have your training, validation, and testing data subsets. Now, if you look at the lasagne tutorial you can see that the same behavior is seen at the top of the page. I would find it hard to believe the authors would post such results if it was strange but instead of just assuming they are correct let's look further. The section of most interest to us here is in the training loop section, just above the bottom you will see how the loss parameters are calculated.\n",
    "\n",
    "The training loss is calculated over the entire training dataset. Likewise, the validation loss is calculated over the entire validation dataset. The training set is typically at least 4 times as large as the validation (80-20). Given that the error is calculated over all samples, you could expect up to approximately 4X the loss measure of the validation set. You will notice, however, that the training loss and validation loss are approaching one another as training continues. This is intentional as if your training error begins to get lower than your validation error you would be beginning to overfit your model!!!\n",
    "\n",
    "I hope this clarifies these errors."
   ]
  }
 ],
 "metadata": {
  "kernelspec": {
   "display_name": "Python 3",
   "language": "python",
   "name": "python3"
  },
  "language_info": {
   "codemirror_mode": {
    "name": "ipython",
    "version": 3
   },
   "file_extension": ".py",
   "mimetype": "text/x-python",
   "name": "python",
   "nbconvert_exporter": "python",
   "pygments_lexer": "ipython3",
   "version": "3.8.8"
  }
 },
 "nbformat": 4,
 "nbformat_minor": 5
}
